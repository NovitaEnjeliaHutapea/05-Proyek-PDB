{
  "cells": [
    {
      "cell_type": "markdown",
      "metadata": {
        "id": "0m_V-x4raepf"
      },
      "source": [
        "Streaming data dan data preprocessing Kelompok 5 PDB\n",
        "\n",
        "12S18002 : Wiranda Siahaan\n",
        "\n",
        "12S18009 : Novita Enjelia Hutapea\n",
        "\n",
        "12S18041 : Merika H. Manurung\n",
        "\n",
        "12S18046 : Tiara Octavia Situmorang"
      ]
    },
    {
      "cell_type": "markdown",
      "metadata": {
        "id": "TnwdpQQpAFOa"
      },
      "source": [
        "# Consume twitter steaming data"
      ]
    },
    {
      "cell_type": "code",
      "execution_count": 1,
      "metadata": {
        "colab": {
          "base_uri": "https://localhost:8080/"
        },
        "id": "IqKU5opooAC6",
        "outputId": "2ccb29aa-5276-4be6-9d54-702ab680305e"
      },
      "outputs": [
        {
          "output_type": "stream",
          "name": "stdout",
          "text": [
            "Mounted at /content/gdrive\n"
          ]
        }
      ],
      "source": [
        "from google.colab import drive\n",
        "drive.mount(\"/content/gdrive\")"
      ]
    },
    {
      "cell_type": "code",
      "execution_count": 2,
      "metadata": {
        "id": "5MpMC5-LAFOb"
      },
      "outputs": [],
      "source": [
        "import tweepy\n",
        "from tweepy import OAuthHandler\n",
        "from tweepy import Stream\n",
        "import socket\n",
        "import json\n",
        "import numpy as np\n",
        "import pandas as pd"
      ]
    },
    {
      "cell_type": "code",
      "execution_count": 3,
      "metadata": {
        "id": "_QGBV7tZAFOb"
      },
      "outputs": [],
      "source": [
        "#Kindly put your credentials received from twitter developer account\n",
        "consumer_key='2mTmxHwkZramjVDOewE2dybgQ'\n",
        "consumer_secret='dJ42E93prTAze5BoF4wAIcxYA6gXfu9rGrHr6gguUt85xcHJSi'\n",
        "access_token ='1517128047019040768-YMZCcFIf6VLbZXNkJsa79sZk70xFkM'\n",
        "access_secret='Auwa9WPIktjUCrgQmzceZsdMtMA2hbnebSR7QlmYEdrlq'"
      ]
    },
    {
      "cell_type": "code",
      "execution_count": 4,
      "metadata": {
        "id": "rDEboMq1AFOc"
      },
      "outputs": [],
      "source": [
        "auth = tweepy.OAuthHandler(consumer_key, consumer_secret)\n",
        "auth.set_access_token(access_token, access_secret)\n",
        "api = tweepy.API(auth)"
      ]
    },
    {
      "cell_type": "code",
      "execution_count": 5,
      "metadata": {
        "colab": {
          "base_uri": "https://localhost:8080/"
        },
        "id": "Q5KeigjBAFOc",
        "outputId": "075be396-6029-4476-ca6d-166af960f8b0"
      },
      "outputs": [
        {
          "output_type": "stream",
          "name": "stdout",
          "text": [
            "@erinajajan Saya ada figure miniso chanyeol fullset dm aja kak bisa shopii include packing dan free biaya admin ( wts )\n",
            "🎀 พร้อมส่ง 🎀\n",
            "ตุ๊กตาจาก miniso ตามรูปเลยค่ะ เค้าจำชื่อน้องไม่ได้ 🥹 น้องยังใหม่มาก ๆ\n",
            "\n",
            "💭 price : 50 บาทรวมส่ง 💭… https://t.co/43Ejfw7WZp\n",
            "aku mau ke miniso beli kipas grgr wisuda doang si wkwk\n",
            "La firma Miniso sigue expandiéndose por el mercado nacional, el próximo 15 de junio el grupo económico abrirá su ti… https://t.co/sotGHnB9RL\n",
            "@aiiixsa_013 Miniso?\n",
            "Ya vieron el cerdito de miniso disfrazado de vaca ? Me muero de amor\n",
            "Miniso set mouse &amp; keyboard wireless\n",
            "\n",
            "Link: https://t.co/aJ2Ji2SbMv https://t.co/0InkrpdjVm\n",
            "RT @CuteBarang: ✨Recommended farfum brand MINISO✨ \n",
            "\n",
            "A thread https://t.co/XkaFCLtHN7\n",
            "@ohmybeautybank British Pear Lychee Freesia Peony, parfum Miniso dijamin ga bakalan dilepas\n",
            "Wey en bóxers miniso me veo delicioso https://t.co/Xn2UiJ9NDM\n",
            "pengen beli toy story x miniso tp lagi gaada duit dingin asksjsjskkkdh😖\n",
            "Haiii Miniso Friends,🥰 tau gak sih, kini koleksi mainan Miniso lagi lengkap lohh, bisa untuk umur 3+ keatas nihh..😁… https://t.co/92nvUOxU0k\n",
            "Haiii Miniso Friends,🥰 tau gak sih, kini koleksi mainan Miniso lagi lengkap lohh, bisa untuk umur 3+ keatas nihh..😁… https://t.co/xHR6MnQJso\n",
            "Hoy estuve comprando algunas cosas en miniso y reafirmé la sensación de que los empleados de las cajas se sienten b… https://t.co/Dsd37Zljjt\n",
            "Haiii Miniso Friends,🥰 tau gak sih, kini koleksi mainan Miniso lagi lengkap lohh, bisa untuk umur 3+ keatas nihh..😁… https://t.co/06XbsZ74v1\n"
          ]
        }
      ],
      "source": [
        "for tweet in api.search(q='miniso', lan='en'):    \n",
        "    print(tweet.text)"
      ]
    },
    {
      "cell_type": "code",
      "execution_count": 6,
      "metadata": {
        "id": "kEtE6TH1AFOd"
      },
      "outputs": [],
      "source": [
        "tweetDf = pd.DataFrame(columns = ['User', 'User_statuses_count', \n",
        "                             'user_followers','fav_count','User_location','Tweets',])"
      ]
    },
    {
      "cell_type": "code",
      "execution_count": 7,
      "metadata": {
        "id": "yluw1S9eAFOd"
      },
      "outputs": [],
      "source": [
        "def stream(data, file_name):\n",
        "    i = 0\n",
        "    for tweet in tweepy.Cursor(api.search, q=data, count=100000, lang='en').items():\n",
        "        print(i, end='\\r')\n",
        "        tweetDf.loc[i, 'User'] = tweet.user.name\n",
        "        tweetDf.loc[i, 'User_statuses_count'] = tweet.user.statuses_count\n",
        "        tweetDf.loc[i, 'user_followers'] = tweet.user.followers_count\n",
        "        tweetDf.loc[i, 'fav_count'] = tweet.favorite_count\n",
        "        tweetDf.loc[i, 'User_location'] = tweet.user.location\n",
        "        tweetDf.loc[i, 'Tweets'] = tweet.text\n",
        "        \n",
        "        \n",
        "        tweetDf.to_csv('{}.csv'.format(file_name))\n",
        "        i+=1\n",
        "        if i == 200:\n",
        "            break\n",
        "        else:\n",
        "            pass"
      ]
    },
    {
      "cell_type": "code",
      "execution_count": 8,
      "metadata": {
        "colab": {
          "base_uri": "https://localhost:8080/"
        },
        "id": "SMUB8DGxAFOe",
        "outputId": "b5ba67cf-6645-4672-be14-61a02551a3a7"
      },
      "outputs": [
        {
          "output_type": "stream",
          "name": "stdout",
          "text": [
            ""
          ]
        }
      ],
      "source": [
        "stream(data = ['miniso'], file_name = 'miniso_2021')"
      ]
    },
    {
      "cell_type": "code",
      "execution_count": 9,
      "metadata": {
        "colab": {
          "base_uri": "https://localhost:8080/",
          "height": 479
        },
        "id": "H4vWvkRuAFOf",
        "outputId": "a5e62e8c-ce44-49d3-b1e7-61ffe63a997e"
      },
      "outputs": [
        {
          "output_type": "execute_result",
          "data": {
            "text/plain": [
              "                 User User_statuses_count user_followers fav_count  \\\n",
              "0  Shopee Aesthetic ✨                 822            823         0   \n",
              "1              Namrun                 701              5         0   \n",
              "2              h3lluh                8878            247         0   \n",
              "3              h3lluh                8878            247         0   \n",
              "4              h3lluh                8878            247         0   \n",
              "\n",
              "               User_location  \\\n",
              "0                     Shopee   \n",
              "1                              \n",
              "2  / svt / atz / nct / en- /   \n",
              "3  / svt / atz / nct / en- /   \n",
              "4  / svt / atz / nct / en- /   \n",
              "\n",
              "                                              Tweets  \n",
              "0  Miniso set mouse &amp; keyboard wireless\\n\\nLi...  \n",
              "1  RT @CuteBarang: ✨Recommended farfum brand MINI...  \n",
              "2  RT @guillerhomo: \"people don't read anymore\" a...  \n",
              "3  RT @seokwoo_thinker: They so cute \\n\\n#원우 #도겸 ...  \n",
              "4  RT @kwanthinkers: ‘this bag is 2x more expensi...  "
            ],
            "text/html": [
              "\n",
              "  <div id=\"df-0f238e87-950a-436e-b437-d193ad4b161c\">\n",
              "    <div class=\"colab-df-container\">\n",
              "      <div>\n",
              "<style scoped>\n",
              "    .dataframe tbody tr th:only-of-type {\n",
              "        vertical-align: middle;\n",
              "    }\n",
              "\n",
              "    .dataframe tbody tr th {\n",
              "        vertical-align: top;\n",
              "    }\n",
              "\n",
              "    .dataframe thead th {\n",
              "        text-align: right;\n",
              "    }\n",
              "</style>\n",
              "<table border=\"1\" class=\"dataframe\">\n",
              "  <thead>\n",
              "    <tr style=\"text-align: right;\">\n",
              "      <th></th>\n",
              "      <th>User</th>\n",
              "      <th>User_statuses_count</th>\n",
              "      <th>user_followers</th>\n",
              "      <th>fav_count</th>\n",
              "      <th>User_location</th>\n",
              "      <th>Tweets</th>\n",
              "    </tr>\n",
              "  </thead>\n",
              "  <tbody>\n",
              "    <tr>\n",
              "      <th>0</th>\n",
              "      <td>Shopee Aesthetic ✨</td>\n",
              "      <td>822</td>\n",
              "      <td>823</td>\n",
              "      <td>0</td>\n",
              "      <td>Shopee</td>\n",
              "      <td>Miniso set mouse &amp;amp; keyboard wireless\\n\\nLi...</td>\n",
              "    </tr>\n",
              "    <tr>\n",
              "      <th>1</th>\n",
              "      <td>Namrun</td>\n",
              "      <td>701</td>\n",
              "      <td>5</td>\n",
              "      <td>0</td>\n",
              "      <td></td>\n",
              "      <td>RT @CuteBarang: ✨Recommended farfum brand MINI...</td>\n",
              "    </tr>\n",
              "    <tr>\n",
              "      <th>2</th>\n",
              "      <td>h3lluh</td>\n",
              "      <td>8878</td>\n",
              "      <td>247</td>\n",
              "      <td>0</td>\n",
              "      <td>/ svt / atz / nct / en- /</td>\n",
              "      <td>RT @guillerhomo: \"people don't read anymore\" a...</td>\n",
              "    </tr>\n",
              "    <tr>\n",
              "      <th>3</th>\n",
              "      <td>h3lluh</td>\n",
              "      <td>8878</td>\n",
              "      <td>247</td>\n",
              "      <td>0</td>\n",
              "      <td>/ svt / atz / nct / en- /</td>\n",
              "      <td>RT @seokwoo_thinker: They so cute \\n\\n#원우 #도겸 ...</td>\n",
              "    </tr>\n",
              "    <tr>\n",
              "      <th>4</th>\n",
              "      <td>h3lluh</td>\n",
              "      <td>8878</td>\n",
              "      <td>247</td>\n",
              "      <td>0</td>\n",
              "      <td>/ svt / atz / nct / en- /</td>\n",
              "      <td>RT @kwanthinkers: ‘this bag is 2x more expensi...</td>\n",
              "    </tr>\n",
              "  </tbody>\n",
              "</table>\n",
              "</div>\n",
              "      <button class=\"colab-df-convert\" onclick=\"convertToInteractive('df-0f238e87-950a-436e-b437-d193ad4b161c')\"\n",
              "              title=\"Convert this dataframe to an interactive table.\"\n",
              "              style=\"display:none;\">\n",
              "        \n",
              "  <svg xmlns=\"http://www.w3.org/2000/svg\" height=\"24px\"viewBox=\"0 0 24 24\"\n",
              "       width=\"24px\">\n",
              "    <path d=\"M0 0h24v24H0V0z\" fill=\"none\"/>\n",
              "    <path d=\"M18.56 5.44l.94 2.06.94-2.06 2.06-.94-2.06-.94-.94-2.06-.94 2.06-2.06.94zm-11 1L8.5 8.5l.94-2.06 2.06-.94-2.06-.94L8.5 2.5l-.94 2.06-2.06.94zm10 10l.94 2.06.94-2.06 2.06-.94-2.06-.94-.94-2.06-.94 2.06-2.06.94z\"/><path d=\"M17.41 7.96l-1.37-1.37c-.4-.4-.92-.59-1.43-.59-.52 0-1.04.2-1.43.59L10.3 9.45l-7.72 7.72c-.78.78-.78 2.05 0 2.83L4 21.41c.39.39.9.59 1.41.59.51 0 1.02-.2 1.41-.59l7.78-7.78 2.81-2.81c.8-.78.8-2.07 0-2.86zM5.41 20L4 18.59l7.72-7.72 1.47 1.35L5.41 20z\"/>\n",
              "  </svg>\n",
              "      </button>\n",
              "      \n",
              "  <style>\n",
              "    .colab-df-container {\n",
              "      display:flex;\n",
              "      flex-wrap:wrap;\n",
              "      gap: 12px;\n",
              "    }\n",
              "\n",
              "    .colab-df-convert {\n",
              "      background-color: #E8F0FE;\n",
              "      border: none;\n",
              "      border-radius: 50%;\n",
              "      cursor: pointer;\n",
              "      display: none;\n",
              "      fill: #1967D2;\n",
              "      height: 32px;\n",
              "      padding: 0 0 0 0;\n",
              "      width: 32px;\n",
              "    }\n",
              "\n",
              "    .colab-df-convert:hover {\n",
              "      background-color: #E2EBFA;\n",
              "      box-shadow: 0px 1px 2px rgba(60, 64, 67, 0.3), 0px 1px 3px 1px rgba(60, 64, 67, 0.15);\n",
              "      fill: #174EA6;\n",
              "    }\n",
              "\n",
              "    [theme=dark] .colab-df-convert {\n",
              "      background-color: #3B4455;\n",
              "      fill: #D2E3FC;\n",
              "    }\n",
              "\n",
              "    [theme=dark] .colab-df-convert:hover {\n",
              "      background-color: #434B5C;\n",
              "      box-shadow: 0px 1px 3px 1px rgba(0, 0, 0, 0.15);\n",
              "      filter: drop-shadow(0px 1px 2px rgba(0, 0, 0, 0.3));\n",
              "      fill: #FFFFFF;\n",
              "    }\n",
              "  </style>\n",
              "\n",
              "      <script>\n",
              "        const buttonEl =\n",
              "          document.querySelector('#df-0f238e87-950a-436e-b437-d193ad4b161c button.colab-df-convert');\n",
              "        buttonEl.style.display =\n",
              "          google.colab.kernel.accessAllowed ? 'block' : 'none';\n",
              "\n",
              "        async function convertToInteractive(key) {\n",
              "          const element = document.querySelector('#df-0f238e87-950a-436e-b437-d193ad4b161c');\n",
              "          const dataTable =\n",
              "            await google.colab.kernel.invokeFunction('convertToInteractive',\n",
              "                                                     [key], {});\n",
              "          if (!dataTable) return;\n",
              "\n",
              "          const docLinkHtml = 'Like what you see? Visit the ' +\n",
              "            '<a target=\"_blank\" href=https://colab.research.google.com/notebooks/data_table.ipynb>data table notebook</a>'\n",
              "            + ' to learn more about interactive tables.';\n",
              "          element.innerHTML = '';\n",
              "          dataTable['output_type'] = 'display_data';\n",
              "          await google.colab.output.renderOutput(dataTable, element);\n",
              "          const docLink = document.createElement('div');\n",
              "          docLink.innerHTML = docLinkHtml;\n",
              "          element.appendChild(docLink);\n",
              "        }\n",
              "      </script>\n",
              "    </div>\n",
              "  </div>\n",
              "  "
            ]
          },
          "metadata": {},
          "execution_count": 9
        }
      ],
      "source": [
        "tweetDf.head()"
      ]
    },
    {
      "cell_type": "markdown",
      "metadata": {
        "id": "TJTZJe2ZUtlR"
      },
      "source": [
        "## Data Preprocessing"
      ]
    },
    {
      "cell_type": "code",
      "execution_count": 10,
      "metadata": {
        "id": "o2xV35ZNUyYl"
      },
      "outputs": [],
      "source": [
        "# libraries\n",
        "import numpy as np # used for handling numbers\n",
        "import pandas as pd # used for handling the dataset\n",
        "from sklearn.impute import SimpleImputer # used for handling missing data\n",
        "from sklearn.preprocessing import LabelEncoder, OneHotEncoder # used for encoding categorical data\n",
        "from sklearn.model_selection import train_test_split # used for splitting training and testing data\n",
        "from sklearn.preprocessing import StandardScaler # used for feature scaling"
      ]
    },
    {
      "cell_type": "code",
      "execution_count": 11,
      "metadata": {
        "id": "leyrFBwoVMwE"
      },
      "outputs": [],
      "source": [
        "dataset = pd.read_csv('miniso_2021.csv') # to import the dataset into a variable\n",
        "# Splitting the attributes into independent and dependent attributes\n",
        "X = dataset.iloc[:, :-1].values # attributes to determine dependent variable / Class\n",
        "Y = dataset.iloc[:, -1].values # dependent variable / Class"
      ]
    },
    {
      "cell_type": "code",
      "execution_count": 12,
      "metadata": {
        "colab": {
          "base_uri": "https://localhost:8080/",
          "height": 496
        },
        "id": "rilWqXeeWFIl",
        "outputId": "fe1fd2f2-9022-4ba2-c1f2-2a719e1bdc15"
      },
      "outputs": [
        {
          "output_type": "execute_result",
          "data": {
            "text/plain": [
              "   Unnamed: 0                User  User_statuses_count  user_followers  \\\n",
              "0           0  Shopee Aesthetic ✨                  822             823   \n",
              "1           1              Namrun                  701               5   \n",
              "2           2              h3lluh                 8878             247   \n",
              "3           3              h3lluh                 8878             247   \n",
              "4           4              h3lluh                 8878             247   \n",
              "\n",
              "   fav_count              User_location  \\\n",
              "0          0                     Shopee   \n",
              "1          0                        NaN   \n",
              "2          0  / svt / atz / nct / en- /   \n",
              "3          0  / svt / atz / nct / en- /   \n",
              "4          0  / svt / atz / nct / en- /   \n",
              "\n",
              "                                              Tweets  \n",
              "0  Miniso set mouse &amp; keyboard wireless\\n\\nLi...  \n",
              "1  RT @CuteBarang: ✨Recommended farfum brand MINI...  \n",
              "2  RT @guillerhomo: \"people don't read anymore\" a...  \n",
              "3  RT @seokwoo_thinker: They so cute \\n\\n#원우 #도겸 ...  \n",
              "4  RT @kwanthinkers: ‘this bag is 2x more expensi...  "
            ],
            "text/html": [
              "\n",
              "  <div id=\"df-79b3e05a-bac7-4b88-8190-0bd2a7e7e32f\">\n",
              "    <div class=\"colab-df-container\">\n",
              "      <div>\n",
              "<style scoped>\n",
              "    .dataframe tbody tr th:only-of-type {\n",
              "        vertical-align: middle;\n",
              "    }\n",
              "\n",
              "    .dataframe tbody tr th {\n",
              "        vertical-align: top;\n",
              "    }\n",
              "\n",
              "    .dataframe thead th {\n",
              "        text-align: right;\n",
              "    }\n",
              "</style>\n",
              "<table border=\"1\" class=\"dataframe\">\n",
              "  <thead>\n",
              "    <tr style=\"text-align: right;\">\n",
              "      <th></th>\n",
              "      <th>Unnamed: 0</th>\n",
              "      <th>User</th>\n",
              "      <th>User_statuses_count</th>\n",
              "      <th>user_followers</th>\n",
              "      <th>fav_count</th>\n",
              "      <th>User_location</th>\n",
              "      <th>Tweets</th>\n",
              "    </tr>\n",
              "  </thead>\n",
              "  <tbody>\n",
              "    <tr>\n",
              "      <th>0</th>\n",
              "      <td>0</td>\n",
              "      <td>Shopee Aesthetic ✨</td>\n",
              "      <td>822</td>\n",
              "      <td>823</td>\n",
              "      <td>0</td>\n",
              "      <td>Shopee</td>\n",
              "      <td>Miniso set mouse &amp;amp; keyboard wireless\\n\\nLi...</td>\n",
              "    </tr>\n",
              "    <tr>\n",
              "      <th>1</th>\n",
              "      <td>1</td>\n",
              "      <td>Namrun</td>\n",
              "      <td>701</td>\n",
              "      <td>5</td>\n",
              "      <td>0</td>\n",
              "      <td>NaN</td>\n",
              "      <td>RT @CuteBarang: ✨Recommended farfum brand MINI...</td>\n",
              "    </tr>\n",
              "    <tr>\n",
              "      <th>2</th>\n",
              "      <td>2</td>\n",
              "      <td>h3lluh</td>\n",
              "      <td>8878</td>\n",
              "      <td>247</td>\n",
              "      <td>0</td>\n",
              "      <td>/ svt / atz / nct / en- /</td>\n",
              "      <td>RT @guillerhomo: \"people don't read anymore\" a...</td>\n",
              "    </tr>\n",
              "    <tr>\n",
              "      <th>3</th>\n",
              "      <td>3</td>\n",
              "      <td>h3lluh</td>\n",
              "      <td>8878</td>\n",
              "      <td>247</td>\n",
              "      <td>0</td>\n",
              "      <td>/ svt / atz / nct / en- /</td>\n",
              "      <td>RT @seokwoo_thinker: They so cute \\n\\n#원우 #도겸 ...</td>\n",
              "    </tr>\n",
              "    <tr>\n",
              "      <th>4</th>\n",
              "      <td>4</td>\n",
              "      <td>h3lluh</td>\n",
              "      <td>8878</td>\n",
              "      <td>247</td>\n",
              "      <td>0</td>\n",
              "      <td>/ svt / atz / nct / en- /</td>\n",
              "      <td>RT @kwanthinkers: ‘this bag is 2x more expensi...</td>\n",
              "    </tr>\n",
              "  </tbody>\n",
              "</table>\n",
              "</div>\n",
              "      <button class=\"colab-df-convert\" onclick=\"convertToInteractive('df-79b3e05a-bac7-4b88-8190-0bd2a7e7e32f')\"\n",
              "              title=\"Convert this dataframe to an interactive table.\"\n",
              "              style=\"display:none;\">\n",
              "        \n",
              "  <svg xmlns=\"http://www.w3.org/2000/svg\" height=\"24px\"viewBox=\"0 0 24 24\"\n",
              "       width=\"24px\">\n",
              "    <path d=\"M0 0h24v24H0V0z\" fill=\"none\"/>\n",
              "    <path d=\"M18.56 5.44l.94 2.06.94-2.06 2.06-.94-2.06-.94-.94-2.06-.94 2.06-2.06.94zm-11 1L8.5 8.5l.94-2.06 2.06-.94-2.06-.94L8.5 2.5l-.94 2.06-2.06.94zm10 10l.94 2.06.94-2.06 2.06-.94-2.06-.94-.94-2.06-.94 2.06-2.06.94z\"/><path d=\"M17.41 7.96l-1.37-1.37c-.4-.4-.92-.59-1.43-.59-.52 0-1.04.2-1.43.59L10.3 9.45l-7.72 7.72c-.78.78-.78 2.05 0 2.83L4 21.41c.39.39.9.59 1.41.59.51 0 1.02-.2 1.41-.59l7.78-7.78 2.81-2.81c.8-.78.8-2.07 0-2.86zM5.41 20L4 18.59l7.72-7.72 1.47 1.35L5.41 20z\"/>\n",
              "  </svg>\n",
              "      </button>\n",
              "      \n",
              "  <style>\n",
              "    .colab-df-container {\n",
              "      display:flex;\n",
              "      flex-wrap:wrap;\n",
              "      gap: 12px;\n",
              "    }\n",
              "\n",
              "    .colab-df-convert {\n",
              "      background-color: #E8F0FE;\n",
              "      border: none;\n",
              "      border-radius: 50%;\n",
              "      cursor: pointer;\n",
              "      display: none;\n",
              "      fill: #1967D2;\n",
              "      height: 32px;\n",
              "      padding: 0 0 0 0;\n",
              "      width: 32px;\n",
              "    }\n",
              "\n",
              "    .colab-df-convert:hover {\n",
              "      background-color: #E2EBFA;\n",
              "      box-shadow: 0px 1px 2px rgba(60, 64, 67, 0.3), 0px 1px 3px 1px rgba(60, 64, 67, 0.15);\n",
              "      fill: #174EA6;\n",
              "    }\n",
              "\n",
              "    [theme=dark] .colab-df-convert {\n",
              "      background-color: #3B4455;\n",
              "      fill: #D2E3FC;\n",
              "    }\n",
              "\n",
              "    [theme=dark] .colab-df-convert:hover {\n",
              "      background-color: #434B5C;\n",
              "      box-shadow: 0px 1px 3px 1px rgba(0, 0, 0, 0.15);\n",
              "      filter: drop-shadow(0px 1px 2px rgba(0, 0, 0, 0.3));\n",
              "      fill: #FFFFFF;\n",
              "    }\n",
              "  </style>\n",
              "\n",
              "      <script>\n",
              "        const buttonEl =\n",
              "          document.querySelector('#df-79b3e05a-bac7-4b88-8190-0bd2a7e7e32f button.colab-df-convert');\n",
              "        buttonEl.style.display =\n",
              "          google.colab.kernel.accessAllowed ? 'block' : 'none';\n",
              "\n",
              "        async function convertToInteractive(key) {\n",
              "          const element = document.querySelector('#df-79b3e05a-bac7-4b88-8190-0bd2a7e7e32f');\n",
              "          const dataTable =\n",
              "            await google.colab.kernel.invokeFunction('convertToInteractive',\n",
              "                                                     [key], {});\n",
              "          if (!dataTable) return;\n",
              "\n",
              "          const docLinkHtml = 'Like what you see? Visit the ' +\n",
              "            '<a target=\"_blank\" href=https://colab.research.google.com/notebooks/data_table.ipynb>data table notebook</a>'\n",
              "            + ' to learn more about interactive tables.';\n",
              "          element.innerHTML = '';\n",
              "          dataTable['output_type'] = 'display_data';\n",
              "          await google.colab.output.renderOutput(dataTable, element);\n",
              "          const docLink = document.createElement('div');\n",
              "          docLink.innerHTML = docLinkHtml;\n",
              "          element.appendChild(docLink);\n",
              "        }\n",
              "      </script>\n",
              "    </div>\n",
              "  </div>\n",
              "  "
            ]
          },
          "metadata": {},
          "execution_count": 12
        }
      ],
      "source": [
        "dataset.head()"
      ]
    },
    {
      "cell_type": "code",
      "execution_count": 13,
      "metadata": {
        "colab": {
          "base_uri": "https://localhost:8080/"
        },
        "id": "T60V2ARnWbNN",
        "outputId": "a7f4aa71-90b8-4ac2-9efc-496dea7c538c"
      },
      "outputs": [
        {
          "output_type": "stream",
          "name": "stdout",
          "text": [
            "(200, 7)\n"
          ]
        }
      ],
      "source": [
        "print(dataset.shape)"
      ]
    },
    {
      "cell_type": "markdown",
      "metadata": {
        "id": "nBlYDo-3Ac5d"
      },
      "source": [
        "### drop coloumn"
      ]
    },
    {
      "cell_type": "code",
      "execution_count": 14,
      "metadata": {
        "id": "D5LnAjzsA2ma"
      },
      "outputs": [],
      "source": [
        "to_drop = ['Unnamed: 0', 'User', 'User_statuses_count', 'user_followers', 'fav_count', 'User_location']"
      ]
    },
    {
      "cell_type": "code",
      "execution_count": 15,
      "metadata": {
        "id": "GqrejV-pBb3M"
      },
      "outputs": [],
      "source": [
        "dataset.drop(to_drop, inplace=True, axis = 1)"
      ]
    },
    {
      "cell_type": "code",
      "execution_count": 16,
      "metadata": {
        "colab": {
          "base_uri": "https://localhost:8080/",
          "height": 206
        },
        "id": "_Hqq49RCDCOt",
        "outputId": "b2355ac3-5713-4e49-81b7-5f6741c4e93a"
      },
      "outputs": [
        {
          "output_type": "execute_result",
          "data": {
            "text/plain": [
              "                                              Tweets\n",
              "0  Miniso set mouse &amp; keyboard wireless\\n\\nLi...\n",
              "1  RT @CuteBarang: ✨Recommended farfum brand MINI...\n",
              "2  RT @guillerhomo: \"people don't read anymore\" a...\n",
              "3  RT @seokwoo_thinker: They so cute \\n\\n#원우 #도겸 ...\n",
              "4  RT @kwanthinkers: ‘this bag is 2x more expensi..."
            ],
            "text/html": [
              "\n",
              "  <div id=\"df-c3aabada-e48f-4585-97b9-54111a40058a\">\n",
              "    <div class=\"colab-df-container\">\n",
              "      <div>\n",
              "<style scoped>\n",
              "    .dataframe tbody tr th:only-of-type {\n",
              "        vertical-align: middle;\n",
              "    }\n",
              "\n",
              "    .dataframe tbody tr th {\n",
              "        vertical-align: top;\n",
              "    }\n",
              "\n",
              "    .dataframe thead th {\n",
              "        text-align: right;\n",
              "    }\n",
              "</style>\n",
              "<table border=\"1\" class=\"dataframe\">\n",
              "  <thead>\n",
              "    <tr style=\"text-align: right;\">\n",
              "      <th></th>\n",
              "      <th>Tweets</th>\n",
              "    </tr>\n",
              "  </thead>\n",
              "  <tbody>\n",
              "    <tr>\n",
              "      <th>0</th>\n",
              "      <td>Miniso set mouse &amp;amp; keyboard wireless\\n\\nLi...</td>\n",
              "    </tr>\n",
              "    <tr>\n",
              "      <th>1</th>\n",
              "      <td>RT @CuteBarang: ✨Recommended farfum brand MINI...</td>\n",
              "    </tr>\n",
              "    <tr>\n",
              "      <th>2</th>\n",
              "      <td>RT @guillerhomo: \"people don't read anymore\" a...</td>\n",
              "    </tr>\n",
              "    <tr>\n",
              "      <th>3</th>\n",
              "      <td>RT @seokwoo_thinker: They so cute \\n\\n#원우 #도겸 ...</td>\n",
              "    </tr>\n",
              "    <tr>\n",
              "      <th>4</th>\n",
              "      <td>RT @kwanthinkers: ‘this bag is 2x more expensi...</td>\n",
              "    </tr>\n",
              "  </tbody>\n",
              "</table>\n",
              "</div>\n",
              "      <button class=\"colab-df-convert\" onclick=\"convertToInteractive('df-c3aabada-e48f-4585-97b9-54111a40058a')\"\n",
              "              title=\"Convert this dataframe to an interactive table.\"\n",
              "              style=\"display:none;\">\n",
              "        \n",
              "  <svg xmlns=\"http://www.w3.org/2000/svg\" height=\"24px\"viewBox=\"0 0 24 24\"\n",
              "       width=\"24px\">\n",
              "    <path d=\"M0 0h24v24H0V0z\" fill=\"none\"/>\n",
              "    <path d=\"M18.56 5.44l.94 2.06.94-2.06 2.06-.94-2.06-.94-.94-2.06-.94 2.06-2.06.94zm-11 1L8.5 8.5l.94-2.06 2.06-.94-2.06-.94L8.5 2.5l-.94 2.06-2.06.94zm10 10l.94 2.06.94-2.06 2.06-.94-2.06-.94-.94-2.06-.94 2.06-2.06.94z\"/><path d=\"M17.41 7.96l-1.37-1.37c-.4-.4-.92-.59-1.43-.59-.52 0-1.04.2-1.43.59L10.3 9.45l-7.72 7.72c-.78.78-.78 2.05 0 2.83L4 21.41c.39.39.9.59 1.41.59.51 0 1.02-.2 1.41-.59l7.78-7.78 2.81-2.81c.8-.78.8-2.07 0-2.86zM5.41 20L4 18.59l7.72-7.72 1.47 1.35L5.41 20z\"/>\n",
              "  </svg>\n",
              "      </button>\n",
              "      \n",
              "  <style>\n",
              "    .colab-df-container {\n",
              "      display:flex;\n",
              "      flex-wrap:wrap;\n",
              "      gap: 12px;\n",
              "    }\n",
              "\n",
              "    .colab-df-convert {\n",
              "      background-color: #E8F0FE;\n",
              "      border: none;\n",
              "      border-radius: 50%;\n",
              "      cursor: pointer;\n",
              "      display: none;\n",
              "      fill: #1967D2;\n",
              "      height: 32px;\n",
              "      padding: 0 0 0 0;\n",
              "      width: 32px;\n",
              "    }\n",
              "\n",
              "    .colab-df-convert:hover {\n",
              "      background-color: #E2EBFA;\n",
              "      box-shadow: 0px 1px 2px rgba(60, 64, 67, 0.3), 0px 1px 3px 1px rgba(60, 64, 67, 0.15);\n",
              "      fill: #174EA6;\n",
              "    }\n",
              "\n",
              "    [theme=dark] .colab-df-convert {\n",
              "      background-color: #3B4455;\n",
              "      fill: #D2E3FC;\n",
              "    }\n",
              "\n",
              "    [theme=dark] .colab-df-convert:hover {\n",
              "      background-color: #434B5C;\n",
              "      box-shadow: 0px 1px 3px 1px rgba(0, 0, 0, 0.15);\n",
              "      filter: drop-shadow(0px 1px 2px rgba(0, 0, 0, 0.3));\n",
              "      fill: #FFFFFF;\n",
              "    }\n",
              "  </style>\n",
              "\n",
              "      <script>\n",
              "        const buttonEl =\n",
              "          document.querySelector('#df-c3aabada-e48f-4585-97b9-54111a40058a button.colab-df-convert');\n",
              "        buttonEl.style.display =\n",
              "          google.colab.kernel.accessAllowed ? 'block' : 'none';\n",
              "\n",
              "        async function convertToInteractive(key) {\n",
              "          const element = document.querySelector('#df-c3aabada-e48f-4585-97b9-54111a40058a');\n",
              "          const dataTable =\n",
              "            await google.colab.kernel.invokeFunction('convertToInteractive',\n",
              "                                                     [key], {});\n",
              "          if (!dataTable) return;\n",
              "\n",
              "          const docLinkHtml = 'Like what you see? Visit the ' +\n",
              "            '<a target=\"_blank\" href=https://colab.research.google.com/notebooks/data_table.ipynb>data table notebook</a>'\n",
              "            + ' to learn more about interactive tables.';\n",
              "          element.innerHTML = '';\n",
              "          dataTable['output_type'] = 'display_data';\n",
              "          await google.colab.output.renderOutput(dataTable, element);\n",
              "          const docLink = document.createElement('div');\n",
              "          docLink.innerHTML = docLinkHtml;\n",
              "          element.appendChild(docLink);\n",
              "        }\n",
              "      </script>\n",
              "    </div>\n",
              "  </div>\n",
              "  "
            ]
          },
          "metadata": {},
          "execution_count": 16
        }
      ],
      "source": [
        "dataset.head()"
      ]
    },
    {
      "cell_type": "code",
      "execution_count": 17,
      "metadata": {
        "colab": {
          "base_uri": "https://localhost:8080/"
        },
        "id": "fiwGDUyaDHtM",
        "outputId": "339142c7-c7c3-4f82-c6d0-3a9e84fb841c"
      },
      "outputs": [
        {
          "output_type": "stream",
          "name": "stdout",
          "text": [
            "(200, 1)\n"
          ]
        }
      ],
      "source": [
        "print(dataset.shape)"
      ]
    },
    {
      "cell_type": "markdown",
      "metadata": {
        "id": "4-FuysHqWskN"
      },
      "source": [
        "### missing value"
      ]
    },
    {
      "cell_type": "code",
      "execution_count": 18,
      "metadata": {
        "colab": {
          "base_uri": "https://localhost:8080/"
        },
        "id": "IoS8hn7NVsVe",
        "outputId": "11fa2a55-dc21-47e6-c5cc-69aa7330f664"
      },
      "outputs": [
        {
          "output_type": "stream",
          "name": "stdout",
          "text": [
            "(200, 1)\n"
          ]
        }
      ],
      "source": [
        "# handling the missing data and replace missing values with nan from numpy and replace with mean of all the other values\n",
        "dataset1 = dataset.dropna()\n",
        "print(dataset1.shape)"
      ]
    },
    {
      "cell_type": "markdown",
      "metadata": {
        "id": "rzBP-rihXFbx"
      },
      "source": [
        "# Text Preprocessing\n",
        "\n"
      ]
    },
    {
      "cell_type": "code",
      "execution_count": 19,
      "metadata": {
        "id": "46PrMmn-dnBB"
      },
      "outputs": [],
      "source": [
        "import re, string, unicodedata\n",
        "import json\n",
        "import nltk\n",
        "import json\n",
        "import time\n",
        "import itertools  \n",
        "import numpy as np\n",
        "import pandas as pd\n",
        "import tensorflow as tf\n",
        "import tensorflow_hub as hub\n",
        "import matplotlib.pyplot as plt\n",
        "from nltk.corpus import stopwords\n",
        "from nltk.stem import WordNetLemmatizer\n",
        "from nltk.tokenize import word_tokenize\n",
        "from wordcloud import WordCloud, STOPWORDS\n",
        "import tensorflow.keras.preprocessing.text as kpt\n",
        "from sklearn.model_selection import train_test_split\n",
        "from tensorflow.keras.preprocessing.text import Tokenizer"
      ]
    },
    {
      "cell_type": "markdown",
      "metadata": {
        "id": "h7gCMmn4c1pH"
      },
      "source": [
        "## Case folding"
      ]
    },
    {
      "cell_type": "code",
      "execution_count": 20,
      "metadata": {
        "colab": {
          "base_uri": "https://localhost:8080/"
        },
        "id": "0WChobRddHlv",
        "outputId": "68d6ffc9-e361-4d39-83a1-93136e8528bb"
      },
      "outputs": [
        {
          "output_type": "stream",
          "name": "stdout",
          "text": [
            "                                                Tweets\n",
            "0    miniso set mouse &amp; keyboard wireless\\n\\nli...\n",
            "1    rt @cutebarang: ✨recommended farfum brand mini...\n",
            "2    rt @guillerhomo: \"people don't read anymore\" a...\n",
            "3    rt @seokwoo_thinker: they so cute \\n\\n#원우 #도겸 ...\n",
            "4    rt @kwanthinkers: ‘this bag is 2x more expensi...\n",
            "..                                                 ...\n",
            "195            my miniso addiction is coming back soon\n",
            "196  apparently only the miniso in lagos fell off. ...\n",
            "197  @_khunby @_dammyb_ do u have other miniso prod...\n",
            "198      awwwww a miniso date🥹 https://t.co/kxqxao6waw\n",
            "199  rt @_khunby: miniso backpack \\n\\ncan be carrie...\n",
            "\n",
            "[200 rows x 1 columns]\n"
          ]
        }
      ],
      "source": [
        "# Change text column to lower lower case\n",
        "dataset1['Tweets'] = dataset1['Tweets'].str.lower()\n",
        "\n",
        "# Look at the change\n",
        "print(dataset1)"
      ]
    },
    {
      "cell_type": "markdown",
      "metadata": {
        "id": "0JbfV7DPebQv"
      },
      "source": [
        "## Remove URL"
      ]
    },
    {
      "cell_type": "code",
      "execution_count": 21,
      "metadata": {
        "colab": {
          "base_uri": "https://localhost:8080/"
        },
        "id": "KQbqcNXGfQrg",
        "outputId": "ca0c19e8-2af7-4980-c971-4a94419ab39d"
      },
      "outputs": [
        {
          "output_type": "stream",
          "name": "stdout",
          "text": [
            "0      miniso set mouse &amp; keyboard wireless\\n\\nli...\n",
            "1      rt @cutebarang: ✨recommended farfum brand mini...\n",
            "2      rt @guillerhomo: \"people don't read anymore\" a...\n",
            "3      rt @seokwoo_thinker: they so cute \\n\\n#원우 #도겸 ...\n",
            "4      rt @kwanthinkers: ‘this bag is 2x more expensi...\n",
            "                             ...                        \n",
            "195              my miniso addiction is coming back soon\n",
            "196    apparently only the miniso in lagos fell off. ...\n",
            "197    @_khunby @_dammyb_ do u have other miniso prod...\n",
            "198                              awwwww a miniso date🥹  \n",
            "199    rt @_khunby: miniso backpack \\n\\ncan be carrie...\n",
            "Name: Tweets, Length: 200, dtype: object\n"
          ]
        },
        {
          "output_type": "stream",
          "name": "stderr",
          "text": [
            "/usr/local/lib/python3.7/dist-packages/ipykernel_launcher.py:3: FutureWarning: The default value of regex will change from True to False in a future version.\n",
            "  This is separate from the ipykernel package so we can avoid doing imports until\n"
          ]
        }
      ],
      "source": [
        "def clean_data(dataset2):\n",
        "#replace URL of a text\n",
        "    dataset1['Tweets'] = dataset2['Tweets'].str.replace('http[s]?://(?:[a-zA-Z]|[0-9]|[$-_@.&+]|[!*\\(\\),]|(?:%[0-9a-fA-F][0-9a-fA-F]))+', ' ')\n",
        "\n",
        "clean_data(dataset1)\n",
        "print(dataset1['Tweets']);"
      ]
    },
    {
      "cell_type": "markdown",
      "metadata": {
        "id": "PBF84yjmhRU-"
      },
      "source": [
        "## Remove Number"
      ]
    },
    {
      "cell_type": "code",
      "execution_count": 22,
      "metadata": {
        "colab": {
          "base_uri": "https://localhost:8080/"
        },
        "id": "X-CxVrqnhhSD",
        "outputId": "e1c29013-9ef6-48be-8fa2-bdec1285084e"
      },
      "outputs": [
        {
          "output_type": "stream",
          "name": "stdout",
          "text": [
            "                                                Tweets\n",
            "0    miniso set mouse &amp; keyboard wireless\\n\\nli...\n",
            "1    rt @cutebarang: ✨recommended farfum brand mini...\n",
            "2    rt @guillerhomo: \"people don't read anymore\" a...\n",
            "3    rt @seokwoo_thinker: they so cute \\n\\n#원우 #도겸 ...\n",
            "4    rt @kwanthinkers: ‘this bag is x more expensiv...\n",
            "..                                                 ...\n",
            "195            my miniso addiction is coming back soon\n",
            "196  apparently only the miniso in lagos fell off. ...\n",
            "197  @_khunby @_dammyb_ do u have other miniso prod...\n",
            "198                            awwwww a miniso date🥹  \n",
            "199  rt @_khunby: miniso backpack \\n\\ncan be carrie...\n",
            "\n",
            "[200 rows x 1 columns]\n"
          ]
        },
        {
          "output_type": "stream",
          "name": "stderr",
          "text": [
            "/usr/local/lib/python3.7/dist-packages/ipykernel_launcher.py:3: FutureWarning: The default value of regex will change from True to False in a future version.\n",
            "  This is separate from the ipykernel package so we can avoid doing imports until\n"
          ]
        }
      ],
      "source": [
        "# removing numbers from strings of speciafied \n",
        "# column, here 'Name'\n",
        "dataset1['Tweets']= dataset1['Tweets'].str.replace('\\d+', '')\n",
        "  \n",
        "# display output with numbers removed from \n",
        "# required strings\n",
        "print(dataset1)"
      ]
    },
    {
      "cell_type": "markdown",
      "metadata": {
        "id": "7TLTnHCqh4um"
      },
      "source": [
        "## Remove Punctuation"
      ]
    },
    {
      "cell_type": "code",
      "execution_count": 23,
      "metadata": {
        "colab": {
          "base_uri": "https://localhost:8080/"
        },
        "id": "7pfjayWXh_C7",
        "outputId": "87ef1cba-e273-4c4d-fa23-a099420edd49"
      },
      "outputs": [
        {
          "output_type": "stream",
          "name": "stderr",
          "text": [
            "/usr/local/lib/python3.7/dist-packages/ipykernel_launcher.py:1: FutureWarning: The default value of regex will change from True to False in a future version.\n",
            "  \"\"\"Entry point for launching an IPython kernel.\n"
          ]
        }
      ],
      "source": [
        "dataset1['Tweets'] = dataset1['Tweets'].str.replace(r'[^\\w\\s]','')"
      ]
    },
    {
      "cell_type": "code",
      "execution_count": 24,
      "metadata": {
        "id": "RPFVK4HjEYg4"
      },
      "outputs": [],
      "source": [
        "def clean_text(text):\n",
        "    '''Make text lowercase, remove text in square brackets,remove links,remove punctuation\n",
        "    and remove words containing numbers.'''\n",
        "    text = str(text).lower()\n",
        "    text = re.sub('\\[.*?\\]', '', text)\n",
        "    text = re.sub('https?://\\S+|www\\.\\S+', '', text)\n",
        "    text = re.sub('<.*?>+', '', text)\n",
        "    text = re.sub('[%s]' % re.escape(string.punctuation), '', text)\n",
        "    text = re.sub('\\n', '', text)\n",
        "    text = re.sub('\\w*\\d\\w*', '', text)\n",
        "    text = re.sub(r\"\\d+\", \"\", text)\n",
        "    text = re.sub(r'[0-9]+', '', text)\n",
        "    text = re.sub(r'\\s*\\d+\\s*', '', text)\n",
        "    text = re.sub('/[^\\w\\s]/gi', '', text)\n",
        "    text = re.sub(\"@[^0-9a-zA-Z]+\", '',text)\n",
        "    text = re.sub(r'@[^\\s]+', ' ', text)\n",
        "    text = re.sub(r'#[^\\w]+', ' ', text)\n",
        "    text = re.sub(r\"[.,:;+!\\-_<^/=?&|$\\\"\\(\\)\\d\\*]\", \" \", text)\n",
        "    text = re.sub('  +', ' ', text) \n",
        "    text = re.sub('\\n+',' ',text)\n",
        "    text = re.sub('\\n', text)\n",
        "    text = re.sub('\\ ■',' ',text)\n",
        "    text = re.sub(r'&[^\\s]+', ' ', text)\n",
        "\n",
        "\n",
        "    return text"
      ]
    },
    {
      "cell_type": "code",
      "execution_count": 25,
      "metadata": {
        "colab": {
          "base_uri": "https://localhost:8080/"
        },
        "id": "jHEVSiO5EjR0",
        "outputId": "cb132bb0-d894-46a6-86d9-381fb6d9be59"
      },
      "outputs": [
        {
          "output_type": "stream",
          "name": "stderr",
          "text": [
            "/usr/local/lib/python3.7/dist-packages/ipykernel_launcher.py:3: FutureWarning: The default value of regex will change from True to False in a future version.\n",
            "  This is separate from the ipykernel package so we can avoid doing imports until\n"
          ]
        }
      ],
      "source": [
        "clean_data(dataset1)"
      ]
    },
    {
      "cell_type": "code",
      "execution_count": 26,
      "metadata": {
        "colab": {
          "base_uri": "https://localhost:8080/"
        },
        "id": "Z9G9933BiLQA",
        "outputId": "a5078670-7730-4598-ceec-6dcf39e877e5"
      },
      "outputs": [
        {
          "output_type": "stream",
          "name": "stdout",
          "text": [
            "                                                Tweets\n",
            "0    miniso set mouse amp keyboard wireless\\n\\nlink...\n",
            "1    rt cutebarang recommended farfum brand miniso ...\n",
            "2    rt guillerhomo people dont read anymore ao was...\n",
            "3    rt seokwoo_thinker they so cute \\n\\n원우 도겸 seve...\n",
            "4    rt kwanthinkers this bag is x more expensive t...\n",
            "..                                                 ...\n",
            "195            my miniso addiction is coming back soon\n",
            "196  apparently only the miniso in lagos fell off b...\n",
            "197  _khunby _dammyb_ do u have other miniso produc...\n",
            "198                             awwwww a miniso date  \n",
            "199  rt _khunby miniso backpack \\n\\ncan be carried ...\n",
            "\n",
            "[200 rows x 1 columns]\n"
          ]
        }
      ],
      "source": [
        "print(dataset1)"
      ]
    },
    {
      "cell_type": "markdown",
      "metadata": {
        "id": "lu3mOLILnTjo"
      },
      "source": [
        "## Hasil Akhir"
      ]
    },
    {
      "cell_type": "code",
      "execution_count": 27,
      "metadata": {
        "id": "eMITQ_tWnV1V"
      },
      "outputs": [],
      "source": [
        "dataset1.to_csv('preprocessing_PDB.csv', index = False)"
      ]
    },
    {
      "cell_type": "code",
      "execution_count": 28,
      "metadata": {
        "id": "qFXYOS0F8UCw"
      },
      "outputs": [],
      "source": [
        "data = pd.read_csv('preprocessing_PDB.csv')"
      ]
    },
    {
      "cell_type": "code",
      "execution_count": 29,
      "metadata": {
        "id": "PV52iOW-8d_1"
      },
      "outputs": [],
      "source": [
        "from textblob import TextBlob\n",
        "\n",
        "def getSubjectivity(review):\n",
        "    return TextBlob(review).sentiment.subjectivity\n",
        "\n",
        "def getPolarity(review):\n",
        "    return TextBlob(review).sentiment.polarity\n",
        "\n",
        "def analyze(score):\n",
        "    if score  < 0:\n",
        "        return 'Negatif'\n",
        "    elif score == 0:\n",
        "        return 'Netral'\n",
        "    else:\n",
        "        return 'Positiv'"
      ]
    },
    {
      "cell_type": "code",
      "execution_count": 30,
      "metadata": {
        "colab": {
          "base_uri": "https://localhost:8080/",
          "height": 206
        },
        "id": "Yn_WOqKw8nl0",
        "outputId": "6062a559-4daa-4e42-9c75-428fb92c14ac"
      },
      "outputs": [
        {
          "output_type": "execute_result",
          "data": {
            "text/plain": [
              "                                              Tweets\n",
              "0  miniso set mouse amp keyboard wireless\\n\\nlink...\n",
              "1  rt cutebarang recommended farfum brand miniso ...\n",
              "2  rt guillerhomo people dont read anymore ao was...\n",
              "3  rt seokwoo_thinker they so cute \\n\\n원우 도겸 seve...\n",
              "4  rt kwanthinkers this bag is x more expensive t..."
            ],
            "text/html": [
              "\n",
              "  <div id=\"df-bd137c75-2790-48e4-81bf-046c89ecd6f5\">\n",
              "    <div class=\"colab-df-container\">\n",
              "      <div>\n",
              "<style scoped>\n",
              "    .dataframe tbody tr th:only-of-type {\n",
              "        vertical-align: middle;\n",
              "    }\n",
              "\n",
              "    .dataframe tbody tr th {\n",
              "        vertical-align: top;\n",
              "    }\n",
              "\n",
              "    .dataframe thead th {\n",
              "        text-align: right;\n",
              "    }\n",
              "</style>\n",
              "<table border=\"1\" class=\"dataframe\">\n",
              "  <thead>\n",
              "    <tr style=\"text-align: right;\">\n",
              "      <th></th>\n",
              "      <th>Tweets</th>\n",
              "    </tr>\n",
              "  </thead>\n",
              "  <tbody>\n",
              "    <tr>\n",
              "      <th>0</th>\n",
              "      <td>miniso set mouse amp keyboard wireless\\n\\nlink...</td>\n",
              "    </tr>\n",
              "    <tr>\n",
              "      <th>1</th>\n",
              "      <td>rt cutebarang recommended farfum brand miniso ...</td>\n",
              "    </tr>\n",
              "    <tr>\n",
              "      <th>2</th>\n",
              "      <td>rt guillerhomo people dont read anymore ao was...</td>\n",
              "    </tr>\n",
              "    <tr>\n",
              "      <th>3</th>\n",
              "      <td>rt seokwoo_thinker they so cute \\n\\n원우 도겸 seve...</td>\n",
              "    </tr>\n",
              "    <tr>\n",
              "      <th>4</th>\n",
              "      <td>rt kwanthinkers this bag is x more expensive t...</td>\n",
              "    </tr>\n",
              "  </tbody>\n",
              "</table>\n",
              "</div>\n",
              "      <button class=\"colab-df-convert\" onclick=\"convertToInteractive('df-bd137c75-2790-48e4-81bf-046c89ecd6f5')\"\n",
              "              title=\"Convert this dataframe to an interactive table.\"\n",
              "              style=\"display:none;\">\n",
              "        \n",
              "  <svg xmlns=\"http://www.w3.org/2000/svg\" height=\"24px\"viewBox=\"0 0 24 24\"\n",
              "       width=\"24px\">\n",
              "    <path d=\"M0 0h24v24H0V0z\" fill=\"none\"/>\n",
              "    <path d=\"M18.56 5.44l.94 2.06.94-2.06 2.06-.94-2.06-.94-.94-2.06-.94 2.06-2.06.94zm-11 1L8.5 8.5l.94-2.06 2.06-.94-2.06-.94L8.5 2.5l-.94 2.06-2.06.94zm10 10l.94 2.06.94-2.06 2.06-.94-2.06-.94-.94-2.06-.94 2.06-2.06.94z\"/><path d=\"M17.41 7.96l-1.37-1.37c-.4-.4-.92-.59-1.43-.59-.52 0-1.04.2-1.43.59L10.3 9.45l-7.72 7.72c-.78.78-.78 2.05 0 2.83L4 21.41c.39.39.9.59 1.41.59.51 0 1.02-.2 1.41-.59l7.78-7.78 2.81-2.81c.8-.78.8-2.07 0-2.86zM5.41 20L4 18.59l7.72-7.72 1.47 1.35L5.41 20z\"/>\n",
              "  </svg>\n",
              "      </button>\n",
              "      \n",
              "  <style>\n",
              "    .colab-df-container {\n",
              "      display:flex;\n",
              "      flex-wrap:wrap;\n",
              "      gap: 12px;\n",
              "    }\n",
              "\n",
              "    .colab-df-convert {\n",
              "      background-color: #E8F0FE;\n",
              "      border: none;\n",
              "      border-radius: 50%;\n",
              "      cursor: pointer;\n",
              "      display: none;\n",
              "      fill: #1967D2;\n",
              "      height: 32px;\n",
              "      padding: 0 0 0 0;\n",
              "      width: 32px;\n",
              "    }\n",
              "\n",
              "    .colab-df-convert:hover {\n",
              "      background-color: #E2EBFA;\n",
              "      box-shadow: 0px 1px 2px rgba(60, 64, 67, 0.3), 0px 1px 3px 1px rgba(60, 64, 67, 0.15);\n",
              "      fill: #174EA6;\n",
              "    }\n",
              "\n",
              "    [theme=dark] .colab-df-convert {\n",
              "      background-color: #3B4455;\n",
              "      fill: #D2E3FC;\n",
              "    }\n",
              "\n",
              "    [theme=dark] .colab-df-convert:hover {\n",
              "      background-color: #434B5C;\n",
              "      box-shadow: 0px 1px 3px 1px rgba(0, 0, 0, 0.15);\n",
              "      filter: drop-shadow(0px 1px 2px rgba(0, 0, 0, 0.3));\n",
              "      fill: #FFFFFF;\n",
              "    }\n",
              "  </style>\n",
              "\n",
              "      <script>\n",
              "        const buttonEl =\n",
              "          document.querySelector('#df-bd137c75-2790-48e4-81bf-046c89ecd6f5 button.colab-df-convert');\n",
              "        buttonEl.style.display =\n",
              "          google.colab.kernel.accessAllowed ? 'block' : 'none';\n",
              "\n",
              "        async function convertToInteractive(key) {\n",
              "          const element = document.querySelector('#df-bd137c75-2790-48e4-81bf-046c89ecd6f5');\n",
              "          const dataTable =\n",
              "            await google.colab.kernel.invokeFunction('convertToInteractive',\n",
              "                                                     [key], {});\n",
              "          if (!dataTable) return;\n",
              "\n",
              "          const docLinkHtml = 'Like what you see? Visit the ' +\n",
              "            '<a target=\"_blank\" href=https://colab.research.google.com/notebooks/data_table.ipynb>data table notebook</a>'\n",
              "            + ' to learn more about interactive tables.';\n",
              "          element.innerHTML = '';\n",
              "          dataTable['output_type'] = 'display_data';\n",
              "          await google.colab.output.renderOutput(dataTable, element);\n",
              "          const docLink = document.createElement('div');\n",
              "          docLink.innerHTML = docLinkHtml;\n",
              "          element.appendChild(docLink);\n",
              "        }\n",
              "      </script>\n",
              "    </div>\n",
              "  </div>\n",
              "  "
            ]
          },
          "metadata": {},
          "execution_count": 30
        }
      ],
      "source": [
        "final_data = pd.DataFrame(data[['Tweets']])\n",
        "final_data.head()"
      ]
    },
    {
      "cell_type": "code",
      "execution_count": 31,
      "metadata": {
        "colab": {
          "base_uri": "https://localhost:8080/",
          "height": 250
        },
        "id": "5HLZNzPU8x9v",
        "outputId": "f05c4591-7134-4a0d-8583-829dce3fa4d1"
      },
      "outputs": [
        {
          "output_type": "execute_result",
          "data": {
            "text/plain": [
              "                                              Tweets  Subjectivity  Polarity  \\\n",
              "0  miniso set mouse amp keyboard wireless\\n\\nlink...      0.000000  0.000000   \n",
              "1  rt cutebarang recommended farfum brand miniso ...      0.000000  0.000000   \n",
              "2  rt guillerhomo people dont read anymore ao was...      0.288889 -0.155556   \n",
              "3  rt seokwoo_thinker they so cute \\n\\n원우 도겸 seve...      1.000000  0.500000   \n",
              "4  rt kwanthinkers this bag is x more expensive t...      0.380000  0.182857   \n",
              "\n",
              "  TextBlob  \n",
              "0   Netral  \n",
              "1   Netral  \n",
              "2  Negatif  \n",
              "3  Positiv  \n",
              "4  Positiv  "
            ],
            "text/html": [
              "\n",
              "  <div id=\"df-7f6bd21c-0c7d-4793-9e6e-552fe591a1e7\">\n",
              "    <div class=\"colab-df-container\">\n",
              "      <div>\n",
              "<style scoped>\n",
              "    .dataframe tbody tr th:only-of-type {\n",
              "        vertical-align: middle;\n",
              "    }\n",
              "\n",
              "    .dataframe tbody tr th {\n",
              "        vertical-align: top;\n",
              "    }\n",
              "\n",
              "    .dataframe thead th {\n",
              "        text-align: right;\n",
              "    }\n",
              "</style>\n",
              "<table border=\"1\" class=\"dataframe\">\n",
              "  <thead>\n",
              "    <tr style=\"text-align: right;\">\n",
              "      <th></th>\n",
              "      <th>Tweets</th>\n",
              "      <th>Subjectivity</th>\n",
              "      <th>Polarity</th>\n",
              "      <th>TextBlob</th>\n",
              "    </tr>\n",
              "  </thead>\n",
              "  <tbody>\n",
              "    <tr>\n",
              "      <th>0</th>\n",
              "      <td>miniso set mouse amp keyboard wireless\\n\\nlink...</td>\n",
              "      <td>0.000000</td>\n",
              "      <td>0.000000</td>\n",
              "      <td>Netral</td>\n",
              "    </tr>\n",
              "    <tr>\n",
              "      <th>1</th>\n",
              "      <td>rt cutebarang recommended farfum brand miniso ...</td>\n",
              "      <td>0.000000</td>\n",
              "      <td>0.000000</td>\n",
              "      <td>Netral</td>\n",
              "    </tr>\n",
              "    <tr>\n",
              "      <th>2</th>\n",
              "      <td>rt guillerhomo people dont read anymore ao was...</td>\n",
              "      <td>0.288889</td>\n",
              "      <td>-0.155556</td>\n",
              "      <td>Negatif</td>\n",
              "    </tr>\n",
              "    <tr>\n",
              "      <th>3</th>\n",
              "      <td>rt seokwoo_thinker they so cute \\n\\n원우 도겸 seve...</td>\n",
              "      <td>1.000000</td>\n",
              "      <td>0.500000</td>\n",
              "      <td>Positiv</td>\n",
              "    </tr>\n",
              "    <tr>\n",
              "      <th>4</th>\n",
              "      <td>rt kwanthinkers this bag is x more expensive t...</td>\n",
              "      <td>0.380000</td>\n",
              "      <td>0.182857</td>\n",
              "      <td>Positiv</td>\n",
              "    </tr>\n",
              "  </tbody>\n",
              "</table>\n",
              "</div>\n",
              "      <button class=\"colab-df-convert\" onclick=\"convertToInteractive('df-7f6bd21c-0c7d-4793-9e6e-552fe591a1e7')\"\n",
              "              title=\"Convert this dataframe to an interactive table.\"\n",
              "              style=\"display:none;\">\n",
              "        \n",
              "  <svg xmlns=\"http://www.w3.org/2000/svg\" height=\"24px\"viewBox=\"0 0 24 24\"\n",
              "       width=\"24px\">\n",
              "    <path d=\"M0 0h24v24H0V0z\" fill=\"none\"/>\n",
              "    <path d=\"M18.56 5.44l.94 2.06.94-2.06 2.06-.94-2.06-.94-.94-2.06-.94 2.06-2.06.94zm-11 1L8.5 8.5l.94-2.06 2.06-.94-2.06-.94L8.5 2.5l-.94 2.06-2.06.94zm10 10l.94 2.06.94-2.06 2.06-.94-2.06-.94-.94-2.06-.94 2.06-2.06.94z\"/><path d=\"M17.41 7.96l-1.37-1.37c-.4-.4-.92-.59-1.43-.59-.52 0-1.04.2-1.43.59L10.3 9.45l-7.72 7.72c-.78.78-.78 2.05 0 2.83L4 21.41c.39.39.9.59 1.41.59.51 0 1.02-.2 1.41-.59l7.78-7.78 2.81-2.81c.8-.78.8-2.07 0-2.86zM5.41 20L4 18.59l7.72-7.72 1.47 1.35L5.41 20z\"/>\n",
              "  </svg>\n",
              "      </button>\n",
              "      \n",
              "  <style>\n",
              "    .colab-df-container {\n",
              "      display:flex;\n",
              "      flex-wrap:wrap;\n",
              "      gap: 12px;\n",
              "    }\n",
              "\n",
              "    .colab-df-convert {\n",
              "      background-color: #E8F0FE;\n",
              "      border: none;\n",
              "      border-radius: 50%;\n",
              "      cursor: pointer;\n",
              "      display: none;\n",
              "      fill: #1967D2;\n",
              "      height: 32px;\n",
              "      padding: 0 0 0 0;\n",
              "      width: 32px;\n",
              "    }\n",
              "\n",
              "    .colab-df-convert:hover {\n",
              "      background-color: #E2EBFA;\n",
              "      box-shadow: 0px 1px 2px rgba(60, 64, 67, 0.3), 0px 1px 3px 1px rgba(60, 64, 67, 0.15);\n",
              "      fill: #174EA6;\n",
              "    }\n",
              "\n",
              "    [theme=dark] .colab-df-convert {\n",
              "      background-color: #3B4455;\n",
              "      fill: #D2E3FC;\n",
              "    }\n",
              "\n",
              "    [theme=dark] .colab-df-convert:hover {\n",
              "      background-color: #434B5C;\n",
              "      box-shadow: 0px 1px 3px 1px rgba(0, 0, 0, 0.15);\n",
              "      filter: drop-shadow(0px 1px 2px rgba(0, 0, 0, 0.3));\n",
              "      fill: #FFFFFF;\n",
              "    }\n",
              "  </style>\n",
              "\n",
              "      <script>\n",
              "        const buttonEl =\n",
              "          document.querySelector('#df-7f6bd21c-0c7d-4793-9e6e-552fe591a1e7 button.colab-df-convert');\n",
              "        buttonEl.style.display =\n",
              "          google.colab.kernel.accessAllowed ? 'block' : 'none';\n",
              "\n",
              "        async function convertToInteractive(key) {\n",
              "          const element = document.querySelector('#df-7f6bd21c-0c7d-4793-9e6e-552fe591a1e7');\n",
              "          const dataTable =\n",
              "            await google.colab.kernel.invokeFunction('convertToInteractive',\n",
              "                                                     [key], {});\n",
              "          if (!dataTable) return;\n",
              "\n",
              "          const docLinkHtml = 'Like what you see? Visit the ' +\n",
              "            '<a target=\"_blank\" href=https://colab.research.google.com/notebooks/data_table.ipynb>data table notebook</a>'\n",
              "            + ' to learn more about interactive tables.';\n",
              "          element.innerHTML = '';\n",
              "          dataTable['output_type'] = 'display_data';\n",
              "          await google.colab.output.renderOutput(dataTable, element);\n",
              "          const docLink = document.createElement('div');\n",
              "          docLink.innerHTML = docLinkHtml;\n",
              "          element.appendChild(docLink);\n",
              "        }\n",
              "      </script>\n",
              "    </div>\n",
              "  </div>\n",
              "  "
            ]
          },
          "metadata": {},
          "execution_count": 31
        }
      ],
      "source": [
        "final_data['Subjectivity'] = final_data['Tweets'].apply(getSubjectivity)\n",
        "final_data['Polarity'] =  final_data['Tweets'].apply(getPolarity)\n",
        "final_data['TextBlob'] = final_data['Polarity'].apply(analyze)\n",
        "final_data.head()"
      ]
    },
    {
      "cell_type": "code",
      "execution_count": 32,
      "metadata": {
        "colab": {
          "base_uri": "https://localhost:8080/"
        },
        "id": "zWBGrR-A9G1T",
        "outputId": "70713c52-e0cd-45e7-ba65-5a8c56f391f5"
      },
      "outputs": [
        {
          "output_type": "execute_result",
          "data": {
            "text/plain": [
              "Netral     137\n",
              "Positiv     42\n",
              "Negatif     21\n",
              "Name: TextBlob, dtype: int64"
            ]
          },
          "metadata": {},
          "execution_count": 32
        }
      ],
      "source": [
        "tb_counts = final_data.TextBlob.value_counts()\n",
        "tb_counts"
      ]
    },
    {
      "cell_type": "code",
      "execution_count": 33,
      "metadata": {
        "colab": {
          "base_uri": "https://localhost:8080/",
          "height": 745
        },
        "id": "k5EleQJG1qgY",
        "outputId": "45174703-9863-46e9-f8ea-1d8d005397ed"
      },
      "outputs": [
        {
          "output_type": "execute_result",
          "data": {
            "text/plain": [
              "([<matplotlib.patches.Wedge at 0x7fa1242d8490>,\n",
              "  <matplotlib.patches.Wedge at 0x7fa1242d5a50>,\n",
              "  <matplotlib.patches.Wedge at 0x7fa1242d5ad0>],\n",
              " [Text(-0.6039251066842912, 0.9193880929816134, 'Netral'),\n",
              "  Text(0.2735588698961101, -1.0654414787782402, 'Positiv'),\n",
              "  Text(1.2772152184498422, -0.4372885612042943, 'Negatif')],\n",
              " [Text(-0.3294136945550679, 0.5014844143536072, '68.5%'),\n",
              "  Text(0.14921392903424185, -0.5811498975154037, '21.0%'),\n",
              "  Text(0.8041725449499006, -0.2753298348323334, '10.5%')])"
            ]
          },
          "metadata": {},
          "execution_count": 33
        },
        {
          "output_type": "display_data",
          "data": {
            "text/plain": [
              "<Figure size 720x1944 with 1 Axes>"
            ],
            "image/png": "[encoded data removed]"
          },
          "metadata": {}
        }
      ],
      "source": [
        "import matplotlib.pyplot as plt\n",
        "%matplotlib inline\n",
        "\n",
        "plt.figure(figsize=(10,27))\n",
        "plt.pie(tb_counts.values, labels=tb_counts.index, explode=(0,0,0.25), autopct='%1.1f%%', shadow=False)"
      ]
    },
    {
      "cell_type": "code",
      "execution_count": 34,
      "metadata": {
        "id": "TWU3AEjdGBLZ"
      },
      "outputs": [],
      "source": [
        "final_data.to_csv('dataprepro.csv', index = False)"
      ]
    },
    {
      "cell_type": "markdown",
      "metadata": {
        "id": "GtamqX3WUB59"
      },
      "source": [
        "## Analysist Using PySpark"
      ]
    },
    {
      "cell_type": "markdown",
      "metadata": {
        "id": "i-elG56nWgib"
      },
      "source": [
        "Creating a spark session and importing the required libraries"
      ]
    },
    {
      "cell_type": "code",
      "execution_count": 35,
      "metadata": {
        "colab": {
          "base_uri": "https://localhost:8080/"
        },
        "id": "6q-RUrkZT-OI",
        "outputId": "0aa5172e-4a02-49c5-d657-49560cd469a7"
      },
      "outputs": [
        {
          "output_type": "stream",
          "name": "stdout",
          "text": [
            "Looking in indexes: https://pypi.org/simple, https://us-python.pkg.dev/colab-wheels/public/simple/\n",
            "Collecting pyspark\n",
            "  Downloading pyspark-3.2.1.tar.gz (281.4 MB)\n",
            "\u001b[K     |████████████████████████████████| 281.4 MB 27 kB/s \n",
            "\u001b[?25hCollecting py4j==0.10.9.3\n",
            "  Downloading py4j-0.10.9.3-py2.py3-none-any.whl (198 kB)\n",
            "\u001b[K     |████████████████████████████████| 198 kB 35.0 MB/s \n",
            "\u001b[?25hBuilding wheels for collected packages: pyspark\n",
            "  Building wheel for pyspark (setup.py) ... \u001b[?25l\u001b[?25hdone\n",
            "  Created wheel for pyspark: filename=pyspark-3.2.1-py2.py3-none-any.whl size=281853642 sha256=f4cc5f68070f61d22e6c76abc6fd3af00e48ea453f6b187b58dbaa84bece387d\n",
            "  Stored in directory: /root/.cache/pip/wheels/9f/f5/07/7cd8017084dce4e93e84e92efd1e1d5334db05f2e83bcef74f\n",
            "Successfully built pyspark\n",
            "Installing collected packages: py4j, pyspark\n",
            "Successfully installed py4j-0.10.9.3 pyspark-3.2.1\n"
          ]
        }
      ],
      "source": [
        "pip install pyspark"
      ]
    },
    {
      "cell_type": "code",
      "execution_count": 36,
      "metadata": {
        "id": "LZLlGoCeWjnK"
      },
      "outputs": [],
      "source": [
        "import pyspark\n",
        "from pyspark.sql import SparkSession\n",
        "import pyspark.sql.functions as pyf\n",
        "from pyspark.ml.feature import Tokenizer,StopWordsRemover, CountVectorizer,IDF,StringIndexer\n",
        "from pyspark.ml.feature import VectorAssembler\n",
        "from pyspark.ml.linalg import Vector\n",
        "from pyspark.ml.classification import NaiveBayes\n",
        "from pyspark.ml import Pipeline\n",
        "from pyspark.ml.evaluation import MulticlassClassificationEvaluator"
      ]
    },
    {
      "cell_type": "code",
      "execution_count": 37,
      "metadata": {
        "id": "16x_5L9fWmN_"
      },
      "outputs": [],
      "source": [
        "spark = SparkSession.builder.getOrCreate()"
      ]
    },
    {
      "cell_type": "code",
      "execution_count": 38,
      "metadata": {
        "id": "5vOYSMlwWnZi"
      },
      "outputs": [],
      "source": [
        "df = spark.read.csv('dataprepo.txt', sep='\\t')"
      ]
    },
    {
      "cell_type": "code",
      "execution_count": 39,
      "metadata": {
        "id": "IwvFqWkRWoyV",
        "colab": {
          "base_uri": "https://localhost:8080/"
        },
        "outputId": "9d1fb8b9-e8bd-4281-cf8c-c66ca0467fee"
      },
      "outputs": [
        {
          "output_type": "stream",
          "name": "stdout",
          "text": [
            "root\n",
            " |-- _c0: string (nullable = true)\n",
            " |-- _c1: string (nullable = true)\n",
            "\n"
          ]
        }
      ],
      "source": [
        "df.printSchema()"
      ]
    },
    {
      "cell_type": "code",
      "execution_count": 40,
      "metadata": {
        "id": "ejqoNIIWWqVC"
      },
      "outputs": [],
      "source": [
        "new_df = df.withColumnRenamed('_c0', 'class').withColumnRenamed('_c1', 'text')"
      ]
    },
    {
      "cell_type": "code",
      "execution_count": 41,
      "metadata": {
        "id": "PSIMH16CWrii",
        "colab": {
          "base_uri": "https://localhost:8080/"
        },
        "outputId": "fd0790ee-3617-4e25-d556-ec27810c9025"
      },
      "outputs": [
        {
          "output_type": "stream",
          "name": "stdout",
          "text": [
            "+-------+--------------------+\n",
            "|  class|                text|\n",
            "+-------+--------------------+\n",
            "|Positiv|amazonin really d...|\n",
            "| Netral|why did i just fo...|\n",
            "| Netral|ootdfess miniso nder|\n",
            "| Netral|rt pajolicoe ashi...|\n",
            "|Positiv|sehun miniso figu...|\n",
            "| Netral|rt hunho wts  rea...|\n",
            "|Positiv|funzobee miniso t...|\n",
            "|Positiv|      miniso  heaven|\n",
            "|Positiv|     diy sheet mask |\n",
            "| Netral|miniso official p...|\n",
            "+-------+--------------------+\n",
            "only showing top 10 rows\n",
            "\n"
          ]
        }
      ],
      "source": [
        "new_df.show(10)"
      ]
    },
    {
      "cell_type": "markdown",
      "source": [
        "## Clean and Prepare the Data"
      ],
      "metadata": {
        "id": "FkGm3ZaUaDNh"
      }
    },
    {
      "cell_type": "markdown",
      "source": [
        "Creating a new text/twitter column contains the length of the text column"
      ],
      "metadata": {
        "id": "F2cfoORQaMeU"
      }
    },
    {
      "cell_type": "code",
      "source": [
        "df_len = new_df.withColumn('length', pyf.length(pyf.col('text')))"
      ],
      "metadata": {
        "id": "1PD4KlsCaM8t"
      },
      "execution_count": 42,
      "outputs": []
    },
    {
      "cell_type": "code",
      "source": [
        "df_len.show()"
      ],
      "metadata": {
        "colab": {
          "base_uri": "https://localhost:8080/"
        },
        "id": "_BDkQLsQaPP-",
        "outputId": "3a97ad30-1372-4474-abcd-a51fa61f3d89"
      },
      "execution_count": 43,
      "outputs": [
        {
          "output_type": "stream",
          "name": "stdout",
          "text": [
            "+-------+--------------------+------+\n",
            "|  class|                text|length|\n",
            "+-------+--------------------+------+\n",
            "|Positiv|amazonin really d...|   114|\n",
            "| Netral|why did i just fo...|    79|\n",
            "| Netral|ootdfess miniso nder|    20|\n",
            "| Netral|rt pajolicoe ashi...|   135|\n",
            "|Positiv|sehun miniso figu...|    26|\n",
            "| Netral|rt hunho wts  rea...|    23|\n",
            "|Positiv|funzobee miniso t...|    32|\n",
            "|Positiv|      miniso  heaven|    14|\n",
            "|Positiv|     diy sheet mask |    16|\n",
            "| Netral|miniso official p...|    55|\n",
            "|Positiv|convomfs sunshine...|    32|\n",
            "| Netral|      wts  ready ina|    14|\n",
            "| Netral|the miniso in sj ...|    50|\n",
            "|Positiv|ashinchina i have...|   115|\n",
            "| Netral|monicaaatraaan br...|    41|\n",
            "| Netral|rt acnlsugar i go...|   101|\n",
            "| Netral|           sheetmask|     9|\n",
            "| Netral|this boy was foll...|    97|\n",
            "| Netral|really love this ...|   115|\n",
            "| Netral|miniso official d...|    35|\n",
            "+-------+--------------------+------+\n",
            "only showing top 20 rows\n",
            "\n"
          ]
        }
      ]
    },
    {
      "cell_type": "markdown",
      "source": [
        "Geting the average text length for each class"
      ],
      "metadata": {
        "id": "X-n-qOp-aQsu"
      }
    },
    {
      "cell_type": "code",
      "source": [
        "df_len.groupBy('class').agg(pyf.avg('length').alias('Avg. Length')).show()"
      ],
      "metadata": {
        "colab": {
          "base_uri": "https://localhost:8080/"
        },
        "id": "XI7ka-STaRGE",
        "outputId": "487acda8-3a4f-44d4-e426-e0d3c8f040f6"
      },
      "execution_count": 44,
      "outputs": [
        {
          "output_type": "stream",
          "name": "stdout",
          "text": [
            "+-------+-----------+\n",
            "|  class|Avg. Length|\n",
            "+-------+-----------+\n",
            "|Positiv|    47.4875|\n",
            "|Negatif|       55.0|\n",
            "| Netral|      56.72|\n",
            "+-------+-----------+\n",
            "\n"
          ]
        }
      ]
    },
    {
      "cell_type": "markdown",
      "source": [
        "## Text Transformations"
      ],
      "metadata": {
        "id": "kunIUp6yaTWg"
      }
    },
    {
      "cell_type": "markdown",
      "source": [
        "In this part I transform the raw text in to tf_idf model :"
      ],
      "metadata": {
        "id": "GW8cDRUCaW-y"
      }
    },
    {
      "cell_type": "markdown",
      "source": [
        "Performing the following steps to obtain TF-IDF:\n",
        "1. Creating a Tokenizer from the text column.\n",
        "2. Creating a StopWordsRemover to remove the stop words from the column obtained from the Tokenizer.\n",
        "3. Creating a CountVectorizer after removing the stop words.\n",
        "4. Creating the TF-IDF from the CountVectorizer."
      ],
      "metadata": {
        "id": "QkmBZXMqaaG7"
      }
    },
    {
      "cell_type": "code",
      "source": [
        "tokenizer = Tokenizer(inputCol=\"text\", outputCol=\"token_text\")\n",
        "stopremove = StopWordsRemover(inputCol='token_text',outputCol='stop_tokens')\n",
        "count_vec = CountVectorizer(inputCol='stop_tokens',outputCol='c_vec')\n",
        "idf = IDF(inputCol=\"c_vec\", outputCol=\"tf_idf\")"
      ],
      "metadata": {
        "id": "hF27R15EaVEl"
      },
      "execution_count": 45,
      "outputs": []
    },
    {
      "cell_type": "markdown",
      "source": [
        "- Converting the class column to index using StringIndexer\n",
        "- Creating text column from the TF-IDF and length columns."
      ],
      "metadata": {
        "id": "Yt5LSY_lahOk"
      }
    },
    {
      "cell_type": "code",
      "source": [
        "labelnum = StringIndexer(inputCol='class',outputCol='label')\n",
        "vecAssembler = VectorAssembler(inputCols=['tf_idf','length'],outputCol='features')"
      ],
      "metadata": {
        "id": "viYTuY5hajJz"
      },
      "execution_count": 46,
      "outputs": []
    }
  ],
  "metadata": {
    "colab": {
      "collapsed_sections": [],
      "name": "Kelompok_5_Sentimen_Analysis.ipynb",
      "provenance": []
    },
    "kernelspec": {
      "display_name": "Python 3",
      "language": "python",
      "name": "python3"
    },
    "language_info": {
      "codemirror_mode": {
        "name": "ipython",
        "version": 3
      },
      "file_extension": ".py",
      "mimetype": "text/x-python",
      "name": "python",
      "nbconvert_exporter": "python",
      "pygments_lexer": "ipython3",
      "version": "3.7.0"
    }
  },
  "nbformat": 4,
  "nbformat_minor": 0
}