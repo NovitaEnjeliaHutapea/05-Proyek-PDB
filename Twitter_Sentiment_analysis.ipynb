{
  "cells": [
    {
      "cell_type": "markdown",
      "source": [
        "## Kelompok 5\n",
        " \n",
        "### 12S18002 - Wiranda Siahaan\n",
        "### 12S18009 - Novita Hutapea\n",
        "### 12S18041 - Merika Manurung\n",
        "### 12S18046 - Tiara Situmorang"
      ],
      "metadata": {
        "id": "cA7AS6Y676HI"
      }
    },
    {
      "cell_type": "markdown",
      "metadata": {
        "id": "44lXVCi3zytQ"
      },
      "source": [
        "**Send tweets from the Twitter API**"
      ]
    },
    {
      "cell_type": "markdown",
      "metadata": {
        "id": "w_LhkklQz6P8"
      },
      "source": [
        "Import the necessary packages"
      ]
    },
    {
      "cell_type": "code",
      "execution_count": 1,
      "metadata": {
        "id": "xNTQdnW1y17N"
      },
      "outputs": [],
      "source": [
        "import tweepy\n",
        "from tweepy import Stream\n",
        "from tweepy.streaming import StreamListener\n",
        "from tweepy import OAuthHandler\n",
        "import socket\n",
        "import json"
      ]
    },
    {
      "cell_type": "markdown",
      "metadata": {
        "id": "1I4puMqI0A-d"
      },
      "source": [
        "Insert your credentials"
      ]
    },
    {
      "cell_type": "code",
      "execution_count": 2,
      "metadata": {
        "id": "KFEpyHfq0Acj"
      },
      "outputs": [],
      "source": [
        "consumer_key='AL7VpdwuBLHuumpxLkV0dzEYY'\n",
        "consumer_secret='lZwNGBLDgR0qB5Y8HICS6qv5DaqSosMSXTOpahSXTxsJYMVf7A'\n",
        "access_token ='1226360261428121600-kLVvbZaZFxiQ4w1zvne4vj7tucPVm4'\n",
        "access_secret='p7EZsyK7WvZ60kkcc3kH3xyG3kx6FI6VbHbQFtoH30rQO'"
      ]
    },
    {
      "cell_type": "markdown",
      "source": [
        "Create a StreamListener instance\n"
      ],
      "metadata": {
        "id": "_J-b4Xpy8UiH"
      }
    },
    {
      "cell_type": "code",
      "source": [
        "class TweetsListener(StreamListener):\n",
        "  # tweet object listens for the tweets\n",
        "  def __init__(self, csocket):\n",
        "    self.client_socket = csocket\n",
        "  def on_data(self, data):\n",
        "    try:  \n",
        "      msg = json.loads( data )\n",
        "      print(\"new message\")\n",
        "      # if tweet is longer than 140 characters\n",
        "      if \"extended_tweet\" in msg:\n",
        "        # add at the end of each tweet \"t_end\" \n",
        "        self.client_socket\\\n",
        "            .send(str(msg['extended_tweet']['full_text']+\"t_end\")\\\n",
        "            .encode('utf-8'))         \n",
        "        print(msg['extended_tweet']['full_text'])\n",
        "      else:\n",
        "        # add at the end of each tweet \"t_end\" \n",
        "        self.client_socket\\\n",
        "            .send(str(msg['text']+\"t_end\")\\\n",
        "            .encode('utf-8'))\n",
        "        print(msg['text'])\n",
        "      return True\n",
        "    except BaseException as e:\n",
        "        print(\"Error on_data: %s\" % str(e))\n",
        "    return True\n",
        "  def on_error(self, status):\n",
        "    print(status)\n",
        "    return True"
      ],
      "metadata": {
        "id": "Qk-rod4F8VRC"
      },
      "execution_count": 3,
      "outputs": []
    }
  ],
  "metadata": {
    "colab": {
      "collapsed_sections": [],
      "name": "Twitter_Sentiment_analysis.ipynb",
      "provenance": []
    },
    "kernelspec": {
      "display_name": "Python 3",
      "name": "python3"
    },
    "language_info": {
      "name": "python"
    }
  },
  "nbformat": 4,
  "nbformat_minor": 0
}