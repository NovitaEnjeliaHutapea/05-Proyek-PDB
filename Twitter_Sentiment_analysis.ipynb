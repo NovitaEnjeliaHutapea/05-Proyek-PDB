{
  "cells": [
    {
      "cell_type": "markdown",
      "metadata": {
        "id": "44lXVCi3zytQ"
      },
      "source": [
        "**Send tweets from the Twitter API**"
      ]
    },
    {
      "cell_type": "markdown",
      "metadata": {
        "id": "w_LhkklQz6P8"
      },
      "source": [
        "Import the necessary packages"
      ]
    },
    {
      "cell_type": "code",
      "execution_count": null,
      "metadata": {
        "id": "xNTQdnW1y17N"
      },
      "outputs": [],
      "source": [
        "import tweepy\n",
        "from tweepy import Stream\n",
        "from tweepy.streaming import StreamListener\n",
        "from tweepy import OAuthHandler\n",
        "import socket\n",
        "import json"
      ]
    },
    {
      "cell_type": "markdown",
      "metadata": {
        "id": "1I4puMqI0A-d"
      },
      "source": [
        "Insert your credentials"
      ]
    },
    {
      "cell_type": "code",
      "execution_count": null,
      "metadata": {
        "id": "KFEpyHfq0Acj"
      },
      "outputs": [],
      "source": [
        "consumer_key='AL7VpdwuBLHuumpxLkV0dzEYY'\n",
        "consumer_secret='lZwNGBLDgR0qB5Y8HICS6qv5DaqSosMSXTOpahSXTxsJYMVf7A'\n",
        "access_token ='1226360261428121600-kLVvbZaZFxiQ4w1zvne4vj7tucPVm4'\n",
        "access_secret='p7EZsyK7WvZ60kkcc3kH3xyG3kx6FI6VbHbQFtoH30rQO'"
      ]
    }
  ],
  "metadata": {
    "colab": {
      "collapsed_sections": [],
      "name": "Twitter Sentiment analysis.ipynb",
      "provenance": []
    },
    "kernelspec": {
      "display_name": "Python 3",
      "name": "python3"
    },
    "language_info": {
      "name": "python"
    }
  },
  "nbformat": 4,
  "nbformat_minor": 0
}
