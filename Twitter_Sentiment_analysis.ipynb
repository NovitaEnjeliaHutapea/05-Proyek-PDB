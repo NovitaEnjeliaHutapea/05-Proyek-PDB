{
  "cells": [
    {
      "cell_type": "markdown",
      "source": [
        "Streaming data dan data preprocessing Kelompok 5 PDB\n",
        "\n",
        "12S18002 : Wiranda Siahaan\n",
        "\n",
        "12S18009 : Novita Enjelia Hutapea\n",
        "\n",
        "12S18041 : Merika H. Manurung\n",
        "\n",
        "12S18046 : Tiara Octavia Situmorang"
      ],
      "metadata": {
        "id": "0m_V-x4raepf"
      }
    },
    {
      "cell_type": "markdown",
      "metadata": {
        "id": "TnwdpQQpAFOa"
      },
      "source": [
        "# Consume twitter steaming data"
      ]
    },
    {
      "cell_type": "code",
      "source": [
        "from google.colab import drive\n",
        "drive.mount(\"/content/gdrive\")"
      ],
      "metadata": {
        "colab": {
          "base_uri": "https://localhost:8080/"
        },
        "id": "IqKU5opooAC6",
        "outputId": "b88d72a8-b68c-43e2-8898-cea546d9fe09"
      },
      "execution_count": 1,
      "outputs": [
        {
          "output_type": "stream",
          "name": "stdout",
          "text": [
            "Mounted at /content/gdrive\n"
          ]
        }
      ]
    },
    {
      "cell_type": "code",
      "execution_count": 2,
      "metadata": {
        "id": "5MpMC5-LAFOb"
      },
      "outputs": [],
      "source": [
        "import tweepy\n",
        "from tweepy import OAuthHandler\n",
        "from tweepy import Stream\n",
        "import socket\n",
        "import json\n",
        "import numpy as np\n",
        "import pandas as pd"
      ]
    },
    {
      "cell_type": "code",
      "execution_count": 3,
      "metadata": {
        "id": "_QGBV7tZAFOb"
      },
      "outputs": [],
      "source": [
        "#Kindly put your credentials received from twitter developer account\n",
        "consumer_key='2mTmxHwkZramjVDOewE2dybgQ'\n",
        "consumer_secret='dJ42E93prTAze5BoF4wAIcxYA6gXfu9rGrHr6gguUt85xcHJSi'\n",
        "access_token ='1517128047019040768-YMZCcFIf6VLbZXNkJsa79sZk70xFkM'\n",
        "access_secret='Auwa9WPIktjUCrgQmzceZsdMtMA2hbnebSR7QlmYEdrlq'"
      ]
    },
    {
      "cell_type": "code",
      "execution_count": 4,
      "metadata": {
        "id": "rDEboMq1AFOc"
      },
      "outputs": [],
      "source": [
        "auth = tweepy.OAuthHandler(consumer_key, consumer_secret)\n",
        "auth.set_access_token(access_token, access_secret)\n",
        "api = tweepy.API(auth)"
      ]
    },
    {
      "cell_type": "code",
      "execution_count": 5,
      "metadata": {
        "colab": {
          "base_uri": "https://localhost:8080/"
        },
        "id": "Q5KeigjBAFOc",
        "outputId": "274ab6a5-d751-40a3-d8d6-d8eea4290cc9"
      },
      "outputs": [
        {
          "output_type": "stream",
          "name": "stdout",
          "text": [
            "@sriputrimhrni @ohmybeautybank Aku beli di miniso offcial store nya kak, kyknya ada si di OS tpi gtau deh masih ada atau nggak\n",
            "Hot take \n",
            "miniso Is trash .\n",
            "พร้อมส่ง❕\n",
            "Miniso x Sanrio\n",
            "รถเข็น\n",
            "ราคาอันละ 145 บาท รวมส่ง\n",
            "\n",
            "สั่งซื้อ/สอบถามเพิ่มเติมDM\n",
            "มาได้เลยนะคะ\n",
            "#ตลาดนัดsanrio ต… https://t.co/vKCsA4zrhC\n",
            "RT @PcxPreorder: ☁️ Miniso X Cinnamoroll ☁️\n",
            "ของใหม่เข้าเยอะมาก! น่ารักจนใจเจ็บ\n",
            ".\n",
            "💖ค่าส่งเหมาๆ 35.- ไม่บวกเพิ่ม\n",
            "🍼พรีปิดรอบทุกวันที่10/20/30…\n",
            "@JSBroto @RimArema Parfum apa boneka babi itu merk miniso?\n",
            "RT @OneDaySS_: นี่ชอบโฆษณาของ Miniso มากเลย แบบว่าน้องเฟยอวี่หล่อใสมากกก มีความพราวเสน่ห์วิ้งคึ ซุกซน ขี้เล่นนิดๆ อ่ยยย ใจสั่น!! #ChenFeiyu…\n",
            "@JSBroto Loh ! Kamu pelanggan miniso juga ? Pantes km bisa diandalkan\n",
            "@kumisaurus Tumbler starbucks. Tas adidas. Sepatu nike. Nangis w jadi mas2 scbd mahal bener:( sepatu w diadora trs… https://t.co/daUVfrTDx9\n",
            "@Leucosia13 @teamisurus @GavottoLA @seiyalol Es de miniso :3\n",
            "RT @cheronniza: MINISO tas rantai 🌼\n",
            "https://t.co/1T5GvEerSJ https://t.co/CfnsjIWghO\n",
            "RT @cheronniza: MINISO tas rantai 🌼\n",
            "https://t.co/1T5GvEerSJ https://t.co/CfnsjIWghO\n",
            "@solvales Hermana en MINISO hay los vi el sábado jajajaja\n",
            "Miniso Official Sewangi Pengharum Ruangan Marble Series Aroma Scent \n",
            "\n",
            "https://t.co/Iy6Li93mWl\n",
            "\n",
            "💸 Rp. 44.900 - Rp. 5… https://t.co/pIDwn9si3A\n",
            "กระเป๋าใส่เหรียญ (ฮัลค์) จากมินิโซ\n",
            "ขนาดประมาณ 12.5×12.5 เซนติเมตร\n",
            "\n",
            "ราคา 70 บาท รวมส่งลทบ สนใจทักไลน์ @/380vcgyr (มี… https://t.co/NXyuVlV3OF\n",
            "RT @cheronniza: MINISO tas rantai 🌼\n",
            "https://t.co/1T5GvEerSJ https://t.co/CfnsjIWghO\n"
          ]
        }
      ],
      "source": [
        "for tweet in api.search(q='miniso', lan='en'):    \n",
        "    print(tweet.text)"
      ]
    },
    {
      "cell_type": "code",
      "execution_count": 6,
      "metadata": {
        "id": "kEtE6TH1AFOd"
      },
      "outputs": [],
      "source": [
        "tweetDf = pd.DataFrame(columns = ['User', 'User_statuses_count', \n",
        "                             'user_followers','fav_count','User_location','Tweets',])"
      ]
    },
    {
      "cell_type": "code",
      "execution_count": 7,
      "metadata": {
        "id": "yluw1S9eAFOd"
      },
      "outputs": [],
      "source": [
        "def stream(data, file_name):\n",
        "    i = 0\n",
        "    for tweet in tweepy.Cursor(api.search, q=data, count=100000, lang='en').items():\n",
        "        print(i, end='\\r')\n",
        "        tweetDf.loc[i, 'User'] = tweet.user.name\n",
        "        tweetDf.loc[i, 'User_statuses_count'] = tweet.user.statuses_count\n",
        "        tweetDf.loc[i, 'user_followers'] = tweet.user.followers_count\n",
        "        tweetDf.loc[i, 'fav_count'] = tweet.favorite_count\n",
        "        tweetDf.loc[i, 'User_location'] = tweet.user.location\n",
        "        tweetDf.loc[i, 'Tweets'] = tweet.text\n",
        "        \n",
        "        \n",
        "        tweetDf.to_csv('{}.csv'.format(file_name))\n",
        "        i+=1\n",
        "        if i == 200:\n",
        "            break\n",
        "        else:\n",
        "            pass"
      ]
    },
    {
      "cell_type": "code",
      "execution_count": 8,
      "metadata": {
        "colab": {
          "base_uri": "https://localhost:8080/"
        },
        "id": "SMUB8DGxAFOe",
        "outputId": "34a7702c-5f0b-460f-fee1-e6738041859e"
      },
      "outputs": [
        {
          "output_type": "stream",
          "name": "stdout",
          "text": [
            ""
          ]
        }
      ],
      "source": [
        "stream(data = ['miniso'], file_name = 'miniso_2021')"
      ]
    },
    {
      "cell_type": "code",
      "execution_count": 9,
      "metadata": {
        "colab": {
          "base_uri": "https://localhost:8080/",
          "height": 337
        },
        "id": "H4vWvkRuAFOf",
        "outputId": "82034a95-8cfe-467a-eb09-95a4be2e5199"
      },
      "outputs": [
        {
          "output_type": "execute_result",
          "data": {
            "text/plain": [
              "                             User User_statuses_count user_followers  \\\n",
              "0                   fireynoodles🍜                1178            273   \n",
              "1                  jayel ♡˖꒰ᵕ•ᵕ⑅꒱                3449             46   \n",
              "2  all thing's about idol shopee🫡                4059            118   \n",
              "3                    Makcee Oscar                 562            254   \n",
              "4                    Makcee Oscar                 562            254   \n",
              "\n",
              "  fav_count          User_location  \\\n",
              "0         0  Disappointment Island   \n",
              "1         0          Magic shop ♡    \n",
              "2         0                          \n",
              "3         0         Nairobi, Kenya   \n",
              "4         0         Nairobi, Kenya   \n",
              "\n",
              "                                              Tweets  \n",
              "0                       Hot take \\nminiso Is trash .  \n",
              "1  RT @kyvo_gvr: wts | lfb [help rt] \\n\\n𓂋 Xiumin...  \n",
              "2  miniso garden of mirror\\n\\n🖇️ https://t.co/sRa...  \n",
              "3  RT @MinisoKE: Ah,its Monday, we meet Again😍\\n\\...  \n",
              "4  RT @MinisoKE: Miniso has ✨Everything you don't...  "
            ],
            "text/html": [
              "\n",
              "  <div id=\"df-78b0180c-f1c5-422b-b055-fb6ab1e0493e\">\n",
              "    <div class=\"colab-df-container\">\n",
              "      <div>\n",
              "<style scoped>\n",
              "    .dataframe tbody tr th:only-of-type {\n",
              "        vertical-align: middle;\n",
              "    }\n",
              "\n",
              "    .dataframe tbody tr th {\n",
              "        vertical-align: top;\n",
              "    }\n",
              "\n",
              "    .dataframe thead th {\n",
              "        text-align: right;\n",
              "    }\n",
              "</style>\n",
              "<table border=\"1\" class=\"dataframe\">\n",
              "  <thead>\n",
              "    <tr style=\"text-align: right;\">\n",
              "      <th></th>\n",
              "      <th>User</th>\n",
              "      <th>User_statuses_count</th>\n",
              "      <th>user_followers</th>\n",
              "      <th>fav_count</th>\n",
              "      <th>User_location</th>\n",
              "      <th>Tweets</th>\n",
              "    </tr>\n",
              "  </thead>\n",
              "  <tbody>\n",
              "    <tr>\n",
              "      <th>0</th>\n",
              "      <td>fireynoodles🍜</td>\n",
              "      <td>1178</td>\n",
              "      <td>273</td>\n",
              "      <td>0</td>\n",
              "      <td>Disappointment Island</td>\n",
              "      <td>Hot take \\nminiso Is trash .</td>\n",
              "    </tr>\n",
              "    <tr>\n",
              "      <th>1</th>\n",
              "      <td>jayel ♡˖꒰ᵕ•ᵕ⑅꒱</td>\n",
              "      <td>3449</td>\n",
              "      <td>46</td>\n",
              "      <td>0</td>\n",
              "      <td>Magic shop ♡</td>\n",
              "      <td>RT @kyvo_gvr: wts | lfb [help rt] \\n\\n𓂋 Xiumin...</td>\n",
              "    </tr>\n",
              "    <tr>\n",
              "      <th>2</th>\n",
              "      <td>all thing's about idol shopee🫡</td>\n",
              "      <td>4059</td>\n",
              "      <td>118</td>\n",
              "      <td>0</td>\n",
              "      <td></td>\n",
              "      <td>miniso garden of mirror\\n\\n🖇️ https://t.co/sRa...</td>\n",
              "    </tr>\n",
              "    <tr>\n",
              "      <th>3</th>\n",
              "      <td>Makcee Oscar</td>\n",
              "      <td>562</td>\n",
              "      <td>254</td>\n",
              "      <td>0</td>\n",
              "      <td>Nairobi, Kenya</td>\n",
              "      <td>RT @MinisoKE: Ah,its Monday, we meet Again😍\\n\\...</td>\n",
              "    </tr>\n",
              "    <tr>\n",
              "      <th>4</th>\n",
              "      <td>Makcee Oscar</td>\n",
              "      <td>562</td>\n",
              "      <td>254</td>\n",
              "      <td>0</td>\n",
              "      <td>Nairobi, Kenya</td>\n",
              "      <td>RT @MinisoKE: Miniso has ✨Everything you don't...</td>\n",
              "    </tr>\n",
              "  </tbody>\n",
              "</table>\n",
              "</div>\n",
              "      <button class=\"colab-df-convert\" onclick=\"convertToInteractive('df-78b0180c-f1c5-422b-b055-fb6ab1e0493e')\"\n",
              "              title=\"Convert this dataframe to an interactive table.\"\n",
              "              style=\"display:none;\">\n",
              "        \n",
              "  <svg xmlns=\"http://www.w3.org/2000/svg\" height=\"24px\"viewBox=\"0 0 24 24\"\n",
              "       width=\"24px\">\n",
              "    <path d=\"M0 0h24v24H0V0z\" fill=\"none\"/>\n",
              "    <path d=\"M18.56 5.44l.94 2.06.94-2.06 2.06-.94-2.06-.94-.94-2.06-.94 2.06-2.06.94zm-11 1L8.5 8.5l.94-2.06 2.06-.94-2.06-.94L8.5 2.5l-.94 2.06-2.06.94zm10 10l.94 2.06.94-2.06 2.06-.94-2.06-.94-.94-2.06-.94 2.06-2.06.94z\"/><path d=\"M17.41 7.96l-1.37-1.37c-.4-.4-.92-.59-1.43-.59-.52 0-1.04.2-1.43.59L10.3 9.45l-7.72 7.72c-.78.78-.78 2.05 0 2.83L4 21.41c.39.39.9.59 1.41.59.51 0 1.02-.2 1.41-.59l7.78-7.78 2.81-2.81c.8-.78.8-2.07 0-2.86zM5.41 20L4 18.59l7.72-7.72 1.47 1.35L5.41 20z\"/>\n",
              "  </svg>\n",
              "      </button>\n",
              "      \n",
              "  <style>\n",
              "    .colab-df-container {\n",
              "      display:flex;\n",
              "      flex-wrap:wrap;\n",
              "      gap: 12px;\n",
              "    }\n",
              "\n",
              "    .colab-df-convert {\n",
              "      background-color: #E8F0FE;\n",
              "      border: none;\n",
              "      border-radius: 50%;\n",
              "      cursor: pointer;\n",
              "      display: none;\n",
              "      fill: #1967D2;\n",
              "      height: 32px;\n",
              "      padding: 0 0 0 0;\n",
              "      width: 32px;\n",
              "    }\n",
              "\n",
              "    .colab-df-convert:hover {\n",
              "      background-color: #E2EBFA;\n",
              "      box-shadow: 0px 1px 2px rgba(60, 64, 67, 0.3), 0px 1px 3px 1px rgba(60, 64, 67, 0.15);\n",
              "      fill: #174EA6;\n",
              "    }\n",
              "\n",
              "    [theme=dark] .colab-df-convert {\n",
              "      background-color: #3B4455;\n",
              "      fill: #D2E3FC;\n",
              "    }\n",
              "\n",
              "    [theme=dark] .colab-df-convert:hover {\n",
              "      background-color: #434B5C;\n",
              "      box-shadow: 0px 1px 3px 1px rgba(0, 0, 0, 0.15);\n",
              "      filter: drop-shadow(0px 1px 2px rgba(0, 0, 0, 0.3));\n",
              "      fill: #FFFFFF;\n",
              "    }\n",
              "  </style>\n",
              "\n",
              "      <script>\n",
              "        const buttonEl =\n",
              "          document.querySelector('#df-78b0180c-f1c5-422b-b055-fb6ab1e0493e button.colab-df-convert');\n",
              "        buttonEl.style.display =\n",
              "          google.colab.kernel.accessAllowed ? 'block' : 'none';\n",
              "\n",
              "        async function convertToInteractive(key) {\n",
              "          const element = document.querySelector('#df-78b0180c-f1c5-422b-b055-fb6ab1e0493e');\n",
              "          const dataTable =\n",
              "            await google.colab.kernel.invokeFunction('convertToInteractive',\n",
              "                                                     [key], {});\n",
              "          if (!dataTable) return;\n",
              "\n",
              "          const docLinkHtml = 'Like what you see? Visit the ' +\n",
              "            '<a target=\"_blank\" href=https://colab.research.google.com/notebooks/data_table.ipynb>data table notebook</a>'\n",
              "            + ' to learn more about interactive tables.';\n",
              "          element.innerHTML = '';\n",
              "          dataTable['output_type'] = 'display_data';\n",
              "          await google.colab.output.renderOutput(dataTable, element);\n",
              "          const docLink = document.createElement('div');\n",
              "          docLink.innerHTML = docLinkHtml;\n",
              "          element.appendChild(docLink);\n",
              "        }\n",
              "      </script>\n",
              "    </div>\n",
              "  </div>\n",
              "  "
            ]
          },
          "metadata": {},
          "execution_count": 9
        }
      ],
      "source": [
        "tweetDf.head()"
      ]
    },
    {
      "cell_type": "markdown",
      "source": [
        "## Data Preprocessing"
      ],
      "metadata": {
        "id": "TJTZJe2ZUtlR"
      }
    },
    {
      "cell_type": "code",
      "source": [
        "# libraries\n",
        "import numpy as np # used for handling numbers\n",
        "import pandas as pd # used for handling the dataset\n",
        "from sklearn.impute import SimpleImputer # used for handling missing data\n",
        "from sklearn.preprocessing import LabelEncoder, OneHotEncoder # used for encoding categorical data\n",
        "from sklearn.model_selection import train_test_split # used for splitting training and testing data\n",
        "from sklearn.preprocessing import StandardScaler # used for feature scaling"
      ],
      "metadata": {
        "id": "o2xV35ZNUyYl"
      },
      "execution_count": 10,
      "outputs": []
    },
    {
      "cell_type": "code",
      "source": [
        "dataset = pd.read_csv('miniso_2021.csv') # to import the dataset into a variable\n",
        "# Splitting the attributes into independent and dependent attributes\n",
        "X = dataset.iloc[:, :-1].values # attributes to determine dependent variable / Class\n",
        "Y = dataset.iloc[:, -1].values # dependent variable / Class"
      ],
      "metadata": {
        "id": "leyrFBwoVMwE"
      },
      "execution_count": 11,
      "outputs": []
    },
    {
      "cell_type": "code",
      "source": [
        "dataset.head()"
      ],
      "metadata": {
        "colab": {
          "base_uri": "https://localhost:8080/",
          "height": 354
        },
        "id": "rilWqXeeWFIl",
        "outputId": "76d3da4e-3b60-43dc-b752-330e26577bbe"
      },
      "execution_count": 12,
      "outputs": [
        {
          "output_type": "execute_result",
          "data": {
            "text/plain": [
              "   Unnamed: 0                            User  User_statuses_count  \\\n",
              "0           0                   fireynoodles🍜                 1178   \n",
              "1           1                  jayel ♡˖꒰ᵕ•ᵕ⑅꒱                 3449   \n",
              "2           2  all thing's about idol shopee🫡                 4059   \n",
              "3           3                    Makcee Oscar                  562   \n",
              "4           4                    Makcee Oscar                  562   \n",
              "\n",
              "   user_followers  fav_count          User_location  \\\n",
              "0             273          0  Disappointment Island   \n",
              "1              46          0          Magic shop ♡    \n",
              "2             118          0                    NaN   \n",
              "3             254          0         Nairobi, Kenya   \n",
              "4             254          0         Nairobi, Kenya   \n",
              "\n",
              "                                              Tweets  \n",
              "0                       Hot take \\nminiso Is trash .  \n",
              "1  RT @kyvo_gvr: wts | lfb [help rt] \\n\\n𓂋 Xiumin...  \n",
              "2  miniso garden of mirror\\n\\n🖇️ https://t.co/sRa...  \n",
              "3  RT @MinisoKE: Ah,its Monday, we meet Again😍\\n\\...  \n",
              "4  RT @MinisoKE: Miniso has ✨Everything you don't...  "
            ],
            "text/html": [
              "\n",
              "  <div id=\"df-57401994-64c3-48c9-aa11-043c1eaef76c\">\n",
              "    <div class=\"colab-df-container\">\n",
              "      <div>\n",
              "<style scoped>\n",
              "    .dataframe tbody tr th:only-of-type {\n",
              "        vertical-align: middle;\n",
              "    }\n",
              "\n",
              "    .dataframe tbody tr th {\n",
              "        vertical-align: top;\n",
              "    }\n",
              "\n",
              "    .dataframe thead th {\n",
              "        text-align: right;\n",
              "    }\n",
              "</style>\n",
              "<table border=\"1\" class=\"dataframe\">\n",
              "  <thead>\n",
              "    <tr style=\"text-align: right;\">\n",
              "      <th></th>\n",
              "      <th>Unnamed: 0</th>\n",
              "      <th>User</th>\n",
              "      <th>User_statuses_count</th>\n",
              "      <th>user_followers</th>\n",
              "      <th>fav_count</th>\n",
              "      <th>User_location</th>\n",
              "      <th>Tweets</th>\n",
              "    </tr>\n",
              "  </thead>\n",
              "  <tbody>\n",
              "    <tr>\n",
              "      <th>0</th>\n",
              "      <td>0</td>\n",
              "      <td>fireynoodles🍜</td>\n",
              "      <td>1178</td>\n",
              "      <td>273</td>\n",
              "      <td>0</td>\n",
              "      <td>Disappointment Island</td>\n",
              "      <td>Hot take \\nminiso Is trash .</td>\n",
              "    </tr>\n",
              "    <tr>\n",
              "      <th>1</th>\n",
              "      <td>1</td>\n",
              "      <td>jayel ♡˖꒰ᵕ•ᵕ⑅꒱</td>\n",
              "      <td>3449</td>\n",
              "      <td>46</td>\n",
              "      <td>0</td>\n",
              "      <td>Magic shop ♡</td>\n",
              "      <td>RT @kyvo_gvr: wts | lfb [help rt] \\n\\n𓂋 Xiumin...</td>\n",
              "    </tr>\n",
              "    <tr>\n",
              "      <th>2</th>\n",
              "      <td>2</td>\n",
              "      <td>all thing's about idol shopee🫡</td>\n",
              "      <td>4059</td>\n",
              "      <td>118</td>\n",
              "      <td>0</td>\n",
              "      <td>NaN</td>\n",
              "      <td>miniso garden of mirror\\n\\n🖇️ https://t.co/sRa...</td>\n",
              "    </tr>\n",
              "    <tr>\n",
              "      <th>3</th>\n",
              "      <td>3</td>\n",
              "      <td>Makcee Oscar</td>\n",
              "      <td>562</td>\n",
              "      <td>254</td>\n",
              "      <td>0</td>\n",
              "      <td>Nairobi, Kenya</td>\n",
              "      <td>RT @MinisoKE: Ah,its Monday, we meet Again😍\\n\\...</td>\n",
              "    </tr>\n",
              "    <tr>\n",
              "      <th>4</th>\n",
              "      <td>4</td>\n",
              "      <td>Makcee Oscar</td>\n",
              "      <td>562</td>\n",
              "      <td>254</td>\n",
              "      <td>0</td>\n",
              "      <td>Nairobi, Kenya</td>\n",
              "      <td>RT @MinisoKE: Miniso has ✨Everything you don't...</td>\n",
              "    </tr>\n",
              "  </tbody>\n",
              "</table>\n",
              "</div>\n",
              "      <button class=\"colab-df-convert\" onclick=\"convertToInteractive('df-57401994-64c3-48c9-aa11-043c1eaef76c')\"\n",
              "              title=\"Convert this dataframe to an interactive table.\"\n",
              "              style=\"display:none;\">\n",
              "        \n",
              "  <svg xmlns=\"http://www.w3.org/2000/svg\" height=\"24px\"viewBox=\"0 0 24 24\"\n",
              "       width=\"24px\">\n",
              "    <path d=\"M0 0h24v24H0V0z\" fill=\"none\"/>\n",
              "    <path d=\"M18.56 5.44l.94 2.06.94-2.06 2.06-.94-2.06-.94-.94-2.06-.94 2.06-2.06.94zm-11 1L8.5 8.5l.94-2.06 2.06-.94-2.06-.94L8.5 2.5l-.94 2.06-2.06.94zm10 10l.94 2.06.94-2.06 2.06-.94-2.06-.94-.94-2.06-.94 2.06-2.06.94z\"/><path d=\"M17.41 7.96l-1.37-1.37c-.4-.4-.92-.59-1.43-.59-.52 0-1.04.2-1.43.59L10.3 9.45l-7.72 7.72c-.78.78-.78 2.05 0 2.83L4 21.41c.39.39.9.59 1.41.59.51 0 1.02-.2 1.41-.59l7.78-7.78 2.81-2.81c.8-.78.8-2.07 0-2.86zM5.41 20L4 18.59l7.72-7.72 1.47 1.35L5.41 20z\"/>\n",
              "  </svg>\n",
              "      </button>\n",
              "      \n",
              "  <style>\n",
              "    .colab-df-container {\n",
              "      display:flex;\n",
              "      flex-wrap:wrap;\n",
              "      gap: 12px;\n",
              "    }\n",
              "\n",
              "    .colab-df-convert {\n",
              "      background-color: #E8F0FE;\n",
              "      border: none;\n",
              "      border-radius: 50%;\n",
              "      cursor: pointer;\n",
              "      display: none;\n",
              "      fill: #1967D2;\n",
              "      height: 32px;\n",
              "      padding: 0 0 0 0;\n",
              "      width: 32px;\n",
              "    }\n",
              "\n",
              "    .colab-df-convert:hover {\n",
              "      background-color: #E2EBFA;\n",
              "      box-shadow: 0px 1px 2px rgba(60, 64, 67, 0.3), 0px 1px 3px 1px rgba(60, 64, 67, 0.15);\n",
              "      fill: #174EA6;\n",
              "    }\n",
              "\n",
              "    [theme=dark] .colab-df-convert {\n",
              "      background-color: #3B4455;\n",
              "      fill: #D2E3FC;\n",
              "    }\n",
              "\n",
              "    [theme=dark] .colab-df-convert:hover {\n",
              "      background-color: #434B5C;\n",
              "      box-shadow: 0px 1px 3px 1px rgba(0, 0, 0, 0.15);\n",
              "      filter: drop-shadow(0px 1px 2px rgba(0, 0, 0, 0.3));\n",
              "      fill: #FFFFFF;\n",
              "    }\n",
              "  </style>\n",
              "\n",
              "      <script>\n",
              "        const buttonEl =\n",
              "          document.querySelector('#df-57401994-64c3-48c9-aa11-043c1eaef76c button.colab-df-convert');\n",
              "        buttonEl.style.display =\n",
              "          google.colab.kernel.accessAllowed ? 'block' : 'none';\n",
              "\n",
              "        async function convertToInteractive(key) {\n",
              "          const element = document.querySelector('#df-57401994-64c3-48c9-aa11-043c1eaef76c');\n",
              "          const dataTable =\n",
              "            await google.colab.kernel.invokeFunction('convertToInteractive',\n",
              "                                                     [key], {});\n",
              "          if (!dataTable) return;\n",
              "\n",
              "          const docLinkHtml = 'Like what you see? Visit the ' +\n",
              "            '<a target=\"_blank\" href=https://colab.research.google.com/notebooks/data_table.ipynb>data table notebook</a>'\n",
              "            + ' to learn more about interactive tables.';\n",
              "          element.innerHTML = '';\n",
              "          dataTable['output_type'] = 'display_data';\n",
              "          await google.colab.output.renderOutput(dataTable, element);\n",
              "          const docLink = document.createElement('div');\n",
              "          docLink.innerHTML = docLinkHtml;\n",
              "          element.appendChild(docLink);\n",
              "        }\n",
              "      </script>\n",
              "    </div>\n",
              "  </div>\n",
              "  "
            ]
          },
          "metadata": {},
          "execution_count": 12
        }
      ]
    },
    {
      "cell_type": "code",
      "source": [
        "print(dataset.shape)"
      ],
      "metadata": {
        "colab": {
          "base_uri": "https://localhost:8080/"
        },
        "id": "T60V2ARnWbNN",
        "outputId": "55e3ace0-afc8-4beb-ff74-c886603f7381"
      },
      "execution_count": 13,
      "outputs": [
        {
          "output_type": "stream",
          "name": "stdout",
          "text": [
            "(200, 7)\n"
          ]
        }
      ]
    },
    {
      "cell_type": "markdown",
      "source": [
        "### missing value"
      ],
      "metadata": {
        "id": "4-FuysHqWskN"
      }
    },
    {
      "cell_type": "code",
      "source": [
        "# handling the missing data and replace missing values with nan from numpy and replace with mean of all the other values\n",
        "dataset1 = dataset.dropna()\n",
        "print(dataset1.shape)"
      ],
      "metadata": {
        "colab": {
          "base_uri": "https://localhost:8080/"
        },
        "id": "IoS8hn7NVsVe",
        "outputId": "27cf66e0-fdf8-475a-9231-0c31713514f4"
      },
      "execution_count": 14,
      "outputs": [
        {
          "output_type": "stream",
          "name": "stdout",
          "text": [
            "(143, 7)\n"
          ]
        }
      ]
    },
    {
      "cell_type": "markdown",
      "source": [
        "### remove duplicate"
      ],
      "metadata": {
        "id": "CVhIyuMWWrx_"
      }
    },
    {
      "cell_type": "code",
      "source": [
        "dataset2 = dataset1.drop_duplicates()\n",
        "print(dataset2.shape)"
      ],
      "metadata": {
        "colab": {
          "base_uri": "https://localhost:8080/"
        },
        "id": "3IKbS8u-WyQ7",
        "outputId": "d7051f25-5a8f-42f2-a4e8-c3beffed777c"
      },
      "execution_count": 15,
      "outputs": [
        {
          "output_type": "stream",
          "name": "stdout",
          "text": [
            "(143, 7)\n"
          ]
        }
      ]
    },
    {
      "cell_type": "markdown",
      "source": [
        "# Text Preprocessing\n",
        "\n"
      ],
      "metadata": {
        "id": "rzBP-rihXFbx"
      }
    },
    {
      "cell_type": "code",
      "source": [
        "import re, string, unicodedata\n",
        "import json\n",
        "import nltk\n",
        "import json\n",
        "import time\n",
        "import itertools  \n",
        "import numpy as np\n",
        "import pandas as pd\n",
        "import tensorflow as tf\n",
        "import tensorflow_hub as hub\n",
        "import matplotlib.pyplot as plt\n",
        "from nltk.corpus import stopwords\n",
        "from nltk.stem import WordNetLemmatizer\n",
        "from nltk.tokenize import word_tokenize\n",
        "from wordcloud import WordCloud, STOPWORDS\n",
        "import tensorflow.keras.preprocessing.text as kpt\n",
        "from sklearn.model_selection import train_test_split\n",
        "from tensorflow.keras.preprocessing.text import Tokenizer"
      ],
      "metadata": {
        "id": "46PrMmn-dnBB"
      },
      "execution_count": 16,
      "outputs": []
    },
    {
      "cell_type": "markdown",
      "source": [
        "## Case folding"
      ],
      "metadata": {
        "id": "h7gCMmn4c1pH"
      }
    },
    {
      "cell_type": "code",
      "source": [
        "# Change text column to lower lower case\n",
        "dataset2['Tweets'] = dataset2['Tweets'].str.lower()\n",
        "\n",
        "# Look at the change\n",
        "print(dataset2)"
      ],
      "metadata": {
        "colab": {
          "base_uri": "https://localhost:8080/"
        },
        "id": "0WChobRddHlv",
        "outputId": "57f0ccd8-f231-4453-f6df-4c10c62dade8"
      },
      "execution_count": 17,
      "outputs": [
        {
          "output_type": "stream",
          "name": "stdout",
          "text": [
            "     Unnamed: 0            User  User_statuses_count  user_followers  \\\n",
            "0             0   fireynoodles🍜                 1178             273   \n",
            "1             1  jayel ♡˖꒰ᵕ•ᵕ⑅꒱                 3449              46   \n",
            "3             3    Makcee Oscar                  562             254   \n",
            "4             4    Makcee Oscar                  562             254   \n",
            "9             9         Mr Khan                 4740             242   \n",
            "..          ...             ...                  ...             ...   \n",
            "194         194               🗯                 1502              45   \n",
            "195         195             kei                  145               7   \n",
            "196         196           Jay 🌽                 7137             618   \n",
            "197         197       ♡͛ も *。゜🎀               117179             626   \n",
            "199         199   . . . kei jay                33536             554   \n",
            "\n",
            "     fav_count          User_location  \\\n",
            "0            0  Disappointment Island   \n",
            "1            0          Magic shop ♡    \n",
            "3            0         Nairobi, Kenya   \n",
            "4            0         Nairobi, Kenya   \n",
            "9            0     Mianwali, Pakistan   \n",
            "..         ...                    ...   \n",
            "194          0                SHE HER   \n",
            "195          1               she/they   \n",
            "196          0      she/her  jaywon ♡   \n",
            "197          0              Hong Kong   \n",
            "199          0           metro manila   \n",
            "\n",
            "                                                Tweets  \n",
            "0                         hot take \\nminiso is trash .  \n",
            "1    rt @kyvo_gvr: wts | lfb [help rt] \\n\\n𓂋 xiumin...  \n",
            "3    rt @minisoke: ah,its monday, we meet again😍\\n\\...  \n",
            "4    rt @minisoke: miniso has ✨everything you don't...  \n",
            "9    rt @amazonmallpk: get these beautiful and hand...  \n",
            "..                                                 ...  \n",
            "194  rt @kyvo_gvr: wts | lfb [help rt] \\n\\n𓂋 xiumin...  \n",
            "195  @kkieyii lets go when i go home there sa manil...  \n",
            "196  rt @kyvo_gvr: wts | lfb [help rt] \\n\\n𓂋 xiumin...  \n",
            "197  rt @sugarsanriio: hello kitty cooler bag from ...  \n",
            "199  rt @kyvo_gvr: wts | lfb [help rt] \\n\\n𓂋 xiumin...  \n",
            "\n",
            "[143 rows x 7 columns]\n"
          ]
        }
      ]
    },
    {
      "cell_type": "markdown",
      "source": [
        "## Remove URL"
      ],
      "metadata": {
        "id": "0JbfV7DPebQv"
      }
    },
    {
      "cell_type": "code",
      "source": [
        "def clean_data(dataset2):\n",
        "#replace URL of a text\n",
        "    dataset2['Tweets'] = dataset2['Tweets'].str.replace('http[s]?://(?:[a-zA-Z]|[0-9]|[$-_@.&+]|[!*\\(\\),]|(?:%[0-9a-fA-F][0-9a-fA-F]))+', ' ')\n",
        "\n",
        "clean_data(dataset2)\n",
        "print(dataset2['Tweets']);"
      ],
      "metadata": {
        "colab": {
          "base_uri": "https://localhost:8080/"
        },
        "id": "KQbqcNXGfQrg",
        "outputId": "a3bb721b-ddf2-49c8-8a9a-3ee8df937266"
      },
      "execution_count": 18,
      "outputs": [
        {
          "output_type": "stream",
          "name": "stdout",
          "text": [
            "0                           hot take \\nminiso is trash .\n",
            "1      rt @kyvo_gvr: wts | lfb [help rt] \\n\\n𓂋 xiumin...\n",
            "3      rt @minisoke: ah,its monday, we meet again😍\\n\\...\n",
            "4      rt @minisoke: miniso has ✨everything you don't...\n",
            "9      rt @amazonmallpk: get these beautiful and hand...\n",
            "                             ...                        \n",
            "194    rt @kyvo_gvr: wts | lfb [help rt] \\n\\n𓂋 xiumin...\n",
            "195    @kkieyii lets go when i go home there sa manil...\n",
            "196    rt @kyvo_gvr: wts | lfb [help rt] \\n\\n𓂋 xiumin...\n",
            "197    rt @sugarsanriio: hello kitty cooler bag from ...\n",
            "199    rt @kyvo_gvr: wts | lfb [help rt] \\n\\n𓂋 xiumin...\n",
            "Name: Tweets, Length: 143, dtype: object\n"
          ]
        },
        {
          "output_type": "stream",
          "name": "stderr",
          "text": [
            "/usr/local/lib/python3.7/dist-packages/ipykernel_launcher.py:3: FutureWarning: The default value of regex will change from True to False in a future version.\n",
            "  This is separate from the ipykernel package so we can avoid doing imports until\n"
          ]
        }
      ]
    },
    {
      "cell_type": "markdown",
      "source": [
        "## Remove Number"
      ],
      "metadata": {
        "id": "PBF84yjmhRU-"
      }
    },
    {
      "cell_type": "code",
      "source": [
        "# removing numbers from strings of speciafied \n",
        "# column, here 'Name'\n",
        "dataset2['Tweets']= dataset2['Tweets'].str.replace('\\d+', '')\n",
        "  \n",
        "# display output with numbers removed from \n",
        "# required strings\n",
        "print(dataset2)"
      ],
      "metadata": {
        "colab": {
          "base_uri": "https://localhost:8080/"
        },
        "id": "X-CxVrqnhhSD",
        "outputId": "0a4f5f1a-aa63-45d8-c8ed-ec0f8d98cbe3"
      },
      "execution_count": 19,
      "outputs": [
        {
          "output_type": "stream",
          "name": "stdout",
          "text": [
            "     Unnamed: 0            User  User_statuses_count  user_followers  \\\n",
            "0             0   fireynoodles🍜                 1178             273   \n",
            "1             1  jayel ♡˖꒰ᵕ•ᵕ⑅꒱                 3449              46   \n",
            "3             3    Makcee Oscar                  562             254   \n",
            "4             4    Makcee Oscar                  562             254   \n",
            "9             9         Mr Khan                 4740             242   \n",
            "..          ...             ...                  ...             ...   \n",
            "194         194               🗯                 1502              45   \n",
            "195         195             kei                  145               7   \n",
            "196         196           Jay 🌽                 7137             618   \n",
            "197         197       ♡͛ も *。゜🎀               117179             626   \n",
            "199         199   . . . kei jay                33536             554   \n",
            "\n",
            "     fav_count          User_location  \\\n",
            "0            0  Disappointment Island   \n",
            "1            0          Magic shop ♡    \n",
            "3            0         Nairobi, Kenya   \n",
            "4            0         Nairobi, Kenya   \n",
            "9            0     Mianwali, Pakistan   \n",
            "..         ...                    ...   \n",
            "194          0                SHE HER   \n",
            "195          1               she/they   \n",
            "196          0      she/her  jaywon ♡   \n",
            "197          0              Hong Kong   \n",
            "199          0           metro manila   \n",
            "\n",
            "                                                Tweets  \n",
            "0                         hot take \\nminiso is trash .  \n",
            "1    rt @kyvo_gvr: wts | lfb [help rt] \\n\\n𓂋 xiumin...  \n",
            "3    rt @minisoke: ah,its monday, we meet again😍\\n\\...  \n",
            "4    rt @minisoke: miniso has ✨everything you don't...  \n",
            "9    rt @amazonmallpk: get these beautiful and hand...  \n",
            "..                                                 ...  \n",
            "194  rt @kyvo_gvr: wts | lfb [help rt] \\n\\n𓂋 xiumin...  \n",
            "195  @kkieyii lets go when i go home there sa manil...  \n",
            "196  rt @kyvo_gvr: wts | lfb [help rt] \\n\\n𓂋 xiumin...  \n",
            "197  rt @sugarsanriio: hello kitty cooler bag from ...  \n",
            "199  rt @kyvo_gvr: wts | lfb [help rt] \\n\\n𓂋 xiumin...  \n",
            "\n",
            "[143 rows x 7 columns]\n"
          ]
        },
        {
          "output_type": "stream",
          "name": "stderr",
          "text": [
            "/usr/local/lib/python3.7/dist-packages/ipykernel_launcher.py:3: FutureWarning: The default value of regex will change from True to False in a future version.\n",
            "  This is separate from the ipykernel package so we can avoid doing imports until\n"
          ]
        }
      ]
    },
    {
      "cell_type": "markdown",
      "source": [
        "## Remove Punctuation"
      ],
      "metadata": {
        "id": "7TLTnHCqh4um"
      }
    },
    {
      "cell_type": "code",
      "source": [
        "dataset2['Tweets'] = dataset2['Tweets'].str.replace(r'[^\\w\\s]','')"
      ],
      "metadata": {
        "colab": {
          "base_uri": "https://localhost:8080/"
        },
        "id": "7pfjayWXh_C7",
        "outputId": "b5418d26-5c19-43f8-8ce0-85241dd633cb"
      },
      "execution_count": 20,
      "outputs": [
        {
          "output_type": "stream",
          "name": "stderr",
          "text": [
            "/usr/local/lib/python3.7/dist-packages/ipykernel_launcher.py:1: FutureWarning: The default value of regex will change from True to False in a future version.\n",
            "  \"\"\"Entry point for launching an IPython kernel.\n"
          ]
        }
      ]
    },
    {
      "cell_type": "code",
      "source": [
        "print(dataset2)"
      ],
      "metadata": {
        "colab": {
          "base_uri": "https://localhost:8080/"
        },
        "id": "Z9G9933BiLQA",
        "outputId": "fa6e6218-770e-436e-eacd-b81b66e3aded"
      },
      "execution_count": 21,
      "outputs": [
        {
          "output_type": "stream",
          "name": "stdout",
          "text": [
            "     Unnamed: 0            User  User_statuses_count  user_followers  \\\n",
            "0             0   fireynoodles🍜                 1178             273   \n",
            "1             1  jayel ♡˖꒰ᵕ•ᵕ⑅꒱                 3449              46   \n",
            "3             3    Makcee Oscar                  562             254   \n",
            "4             4    Makcee Oscar                  562             254   \n",
            "9             9         Mr Khan                 4740             242   \n",
            "..          ...             ...                  ...             ...   \n",
            "194         194               🗯                 1502              45   \n",
            "195         195             kei                  145               7   \n",
            "196         196           Jay 🌽                 7137             618   \n",
            "197         197       ♡͛ も *。゜🎀               117179             626   \n",
            "199         199   . . . kei jay                33536             554   \n",
            "\n",
            "     fav_count          User_location  \\\n",
            "0            0  Disappointment Island   \n",
            "1            0          Magic shop ♡    \n",
            "3            0         Nairobi, Kenya   \n",
            "4            0         Nairobi, Kenya   \n",
            "9            0     Mianwali, Pakistan   \n",
            "..         ...                    ...   \n",
            "194          0                SHE HER   \n",
            "195          1               she/they   \n",
            "196          0      she/her  jaywon ♡   \n",
            "197          0              Hong Kong   \n",
            "199          0           metro manila   \n",
            "\n",
            "                                                Tweets  \n",
            "0                          hot take \\nminiso is trash   \n",
            "1    rt kyvo_gvr wts  lfb help rt \\n\\n𓂋 xiumin exop...  \n",
            "3    rt minisoke ahits monday we meet again\\n\\nupda...  \n",
            "4    rt minisoke miniso has everything you dont thi...  \n",
            "9    rt amazonmallpk get these beautiful and handy ...  \n",
            "..                                                 ...  \n",
            "194  rt kyvo_gvr wts  lfb help rt \\n\\n𓂋 xiumin exop...  \n",
            "195  kkieyii lets go when i go home there sa manila...  \n",
            "196  rt kyvo_gvr wts  lfb help rt \\n\\n𓂋 xiumin exop...  \n",
            "197  rt sugarsanriio hello kitty cooler bag from mi...  \n",
            "199  rt kyvo_gvr wts  lfb help rt \\n\\n𓂋 xiumin exop...  \n",
            "\n",
            "[143 rows x 7 columns]\n"
          ]
        }
      ]
    },
    {
      "cell_type": "markdown",
      "source": [
        "## Stopwords Removal"
      ],
      "metadata": {
        "id": "nCTsnglfiRLf"
      }
    },
    {
      "cell_type": "code",
      "source": [
        "import nltk\n",
        "nltk.download('stopwords')\n",
        "print(stopwords.words('english'))"
      ],
      "metadata": {
        "colab": {
          "base_uri": "https://localhost:8080/"
        },
        "id": "kLD8h3_MiUYQ",
        "outputId": "cec27fd0-e755-4788-dce2-90e806359944"
      },
      "execution_count": 22,
      "outputs": [
        {
          "output_type": "stream",
          "name": "stdout",
          "text": [
            "[nltk_data] Downloading package stopwords to /root/nltk_data...\n",
            "[nltk_data]   Unzipping corpora/stopwords.zip.\n",
            "['i', 'me', 'my', 'myself', 'we', 'our', 'ours', 'ourselves', 'you', \"you're\", \"you've\", \"you'll\", \"you'd\", 'your', 'yours', 'yourself', 'yourselves', 'he', 'him', 'his', 'himself', 'she', \"she's\", 'her', 'hers', 'herself', 'it', \"it's\", 'its', 'itself', 'they', 'them', 'their', 'theirs', 'themselves', 'what', 'which', 'who', 'whom', 'this', 'that', \"that'll\", 'these', 'those', 'am', 'is', 'are', 'was', 'were', 'be', 'been', 'being', 'have', 'has', 'had', 'having', 'do', 'does', 'did', 'doing', 'a', 'an', 'the', 'and', 'but', 'if', 'or', 'because', 'as', 'until', 'while', 'of', 'at', 'by', 'for', 'with', 'about', 'against', 'between', 'into', 'through', 'during', 'before', 'after', 'above', 'below', 'to', 'from', 'up', 'down', 'in', 'out', 'on', 'off', 'over', 'under', 'again', 'further', 'then', 'once', 'here', 'there', 'when', 'where', 'why', 'how', 'all', 'any', 'both', 'each', 'few', 'more', 'most', 'other', 'some', 'such', 'no', 'nor', 'not', 'only', 'own', 'same', 'so', 'than', 'too', 'very', 's', 't', 'can', 'will', 'just', 'don', \"don't\", 'should', \"should've\", 'now', 'd', 'll', 'm', 'o', 're', 've', 'y', 'ain', 'aren', \"aren't\", 'couldn', \"couldn't\", 'didn', \"didn't\", 'doesn', \"doesn't\", 'hadn', \"hadn't\", 'hasn', \"hasn't\", 'haven', \"haven't\", 'isn', \"isn't\", 'ma', 'mightn', \"mightn't\", 'mustn', \"mustn't\", 'needn', \"needn't\", 'shan', \"shan't\", 'shouldn', \"shouldn't\", 'wasn', \"wasn't\", 'weren', \"weren't\", 'won', \"won't\", 'wouldn', \"wouldn't\"]\n"
          ]
        }
      ]
    },
    {
      "cell_type": "code",
      "source": [
        "print(dataset2['Tweets']); \n",
        "\n",
        "import nltk\n",
        "nltk.download('stopwords')\n",
        "nltk.download('punkt')\n",
        "stop_words = set(stopwords.words('english'))\n",
        " \n",
        "dataset2['Tweets'] = dataset2['Tweets'].apply(lambda x: ' '.join([word for word in x.split() if word not in (stop_words)]))\n",
        "print(dataset2['Tweets'])"
      ],
      "metadata": {
        "colab": {
          "base_uri": "https://localhost:8080/"
        },
        "id": "tdDLP037mkPr",
        "outputId": "689ac298-3cb7-415a-f135-744586fc92b4"
      },
      "execution_count": 23,
      "outputs": [
        {
          "output_type": "stream",
          "name": "stdout",
          "text": [
            "0                            hot take \\nminiso is trash \n",
            "1      rt kyvo_gvr wts  lfb help rt \\n\\n𓂋 xiumin exop...\n",
            "3      rt minisoke ahits monday we meet again\\n\\nupda...\n",
            "4      rt minisoke miniso has everything you dont thi...\n",
            "9      rt amazonmallpk get these beautiful and handy ...\n",
            "                             ...                        \n",
            "194    rt kyvo_gvr wts  lfb help rt \\n\\n𓂋 xiumin exop...\n",
            "195    kkieyii lets go when i go home there sa manila...\n",
            "196    rt kyvo_gvr wts  lfb help rt \\n\\n𓂋 xiumin exop...\n",
            "197    rt sugarsanriio hello kitty cooler bag from mi...\n",
            "199    rt kyvo_gvr wts  lfb help rt \\n\\n𓂋 xiumin exop...\n",
            "Name: Tweets, Length: 143, dtype: object\n",
            "[nltk_data] Downloading package stopwords to /root/nltk_data...\n",
            "[nltk_data]   Package stopwords is already up-to-date!\n",
            "[nltk_data] Downloading package punkt to /root/nltk_data...\n",
            "[nltk_data]   Unzipping tokenizers/punkt.zip.\n",
            "0                                  hot take miniso trash\n",
            "1      rt kyvo_gvr wts lfb help rt 𓂋 xiumin exoplanet...\n",
            "3      rt minisoke ahits monday meet update massively...\n",
            "4      rt minisoke miniso everything dont think need ...\n",
            "9      rt amazonmallpk get beautiful handy crossbody ...\n",
            "                             ...                        \n",
            "194    rt kyvo_gvr wts lfb help rt 𓂋 xiumin exoplanet...\n",
            "195    kkieyii lets go go home sa manila even tho idk...\n",
            "196    rt kyvo_gvr wts lfb help rt 𓂋 xiumin exoplanet...\n",
            "197     rt sugarsanriio hello kitty cooler bag miniso lt\n",
            "199    rt kyvo_gvr wts lfb help rt 𓂋 xiumin exoplanet...\n",
            "Name: Tweets, Length: 143, dtype: object\n"
          ]
        }
      ]
    },
    {
      "cell_type": "markdown",
      "source": [
        "## Tokenizing"
      ],
      "metadata": {
        "id": "0OGacbpHmwoZ"
      }
    },
    {
      "cell_type": "code",
      "source": [
        "dataset2['Tweets'] = dataset2['Tweets'].apply(word_tokenize)\n",
        "\n",
        "print(dataset2['Tweets'])"
      ],
      "metadata": {
        "colab": {
          "base_uri": "https://localhost:8080/"
        },
        "id": "pj9Z7GT6myvr",
        "outputId": "69cdd990-eb99-4e39-cfa3-1f5b19358eb6"
      },
      "execution_count": 24,
      "outputs": [
        {
          "output_type": "stream",
          "name": "stdout",
          "text": [
            "0                             [hot, take, miniso, trash]\n",
            "1      [rt, kyvo_gvr, wts, lfb, help, rt, 𓂋, xiumin, ...\n",
            "3      [rt, minisoke, ahits, monday, meet, update, ma...\n",
            "4      [rt, minisoke, miniso, everything, dont, think...\n",
            "9      [rt, amazonmallpk, get, beautiful, handy, cros...\n",
            "                             ...                        \n",
            "194    [rt, kyvo_gvr, wts, lfb, help, rt, 𓂋, xiumin, ...\n",
            "195    [kkieyii, lets, go, go, home, sa, manila, even...\n",
            "196    [rt, kyvo_gvr, wts, lfb, help, rt, 𓂋, xiumin, ...\n",
            "197    [rt, sugarsanriio, hello, kitty, cooler, bag, ...\n",
            "199    [rt, kyvo_gvr, wts, lfb, help, rt, 𓂋, xiumin, ...\n",
            "Name: Tweets, Length: 143, dtype: object\n"
          ]
        }
      ]
    },
    {
      "cell_type": "code",
      "source": [
        "print(dataset2)"
      ],
      "metadata": {
        "colab": {
          "base_uri": "https://localhost:8080/"
        },
        "id": "TABIaLA6m-tI",
        "outputId": "be6c21b4-3205-4bea-97ed-7afb9521698f"
      },
      "execution_count": 25,
      "outputs": [
        {
          "output_type": "stream",
          "name": "stdout",
          "text": [
            "     Unnamed: 0            User  User_statuses_count  user_followers  \\\n",
            "0             0   fireynoodles🍜                 1178             273   \n",
            "1             1  jayel ♡˖꒰ᵕ•ᵕ⑅꒱                 3449              46   \n",
            "3             3    Makcee Oscar                  562             254   \n",
            "4             4    Makcee Oscar                  562             254   \n",
            "9             9         Mr Khan                 4740             242   \n",
            "..          ...             ...                  ...             ...   \n",
            "194         194               🗯                 1502              45   \n",
            "195         195             kei                  145               7   \n",
            "196         196           Jay 🌽                 7137             618   \n",
            "197         197       ♡͛ も *。゜🎀               117179             626   \n",
            "199         199   . . . kei jay                33536             554   \n",
            "\n",
            "     fav_count          User_location  \\\n",
            "0            0  Disappointment Island   \n",
            "1            0          Magic shop ♡    \n",
            "3            0         Nairobi, Kenya   \n",
            "4            0         Nairobi, Kenya   \n",
            "9            0     Mianwali, Pakistan   \n",
            "..         ...                    ...   \n",
            "194          0                SHE HER   \n",
            "195          1               she/they   \n",
            "196          0      she/her  jaywon ♡   \n",
            "197          0              Hong Kong   \n",
            "199          0           metro manila   \n",
            "\n",
            "                                                Tweets  \n",
            "0                           [hot, take, miniso, trash]  \n",
            "1    [rt, kyvo_gvr, wts, lfb, help, rt, 𓂋, xiumin, ...  \n",
            "3    [rt, minisoke, ahits, monday, meet, update, ma...  \n",
            "4    [rt, minisoke, miniso, everything, dont, think...  \n",
            "9    [rt, amazonmallpk, get, beautiful, handy, cros...  \n",
            "..                                                 ...  \n",
            "194  [rt, kyvo_gvr, wts, lfb, help, rt, 𓂋, xiumin, ...  \n",
            "195  [kkieyii, lets, go, go, home, sa, manila, even...  \n",
            "196  [rt, kyvo_gvr, wts, lfb, help, rt, 𓂋, xiumin, ...  \n",
            "197  [rt, sugarsanriio, hello, kitty, cooler, bag, ...  \n",
            "199  [rt, kyvo_gvr, wts, lfb, help, rt, 𓂋, xiumin, ...  \n",
            "\n",
            "[143 rows x 7 columns]\n"
          ]
        }
      ]
    },
    {
      "cell_type": "markdown",
      "source": [
        "## Hasil Akhir"
      ],
      "metadata": {
        "id": "lu3mOLILnTjo"
      }
    },
    {
      "cell_type": "code",
      "source": [
        "dataset2.to_csv('/content/gdrive/My Drive/pdb/preprocessing_PDB.csv', index = False)"
      ],
      "metadata": {
        "id": "eMITQ_tWnV1V"
      },
      "execution_count": 26,
      "outputs": []
    }
  ],
  "metadata": {
    "kernelspec": {
      "display_name": "Python 3",
      "language": "python",
      "name": "python3"
    },
    "language_info": {
      "codemirror_mode": {
        "name": "ipython",
        "version": 3
      },
      "file_extension": ".py",
      "mimetype": "text/x-python",
      "name": "python",
      "nbconvert_exporter": "python",
      "pygments_lexer": "ipython3",
      "version": "3.7.0"
    },
    "colab": {
      "name": "Salinan dari SentimentAnalysisUsingSparkMLLib_v3.ipynb",
      "provenance": [],
      "collapsed_sections": []
    }
  },
  "nbformat": 4,
  "nbformat_minor": 0
}