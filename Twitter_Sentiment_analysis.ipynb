{
  "cells": [
    {
      "cell_type": "markdown",
      "metadata": {
        "id": "cA7AS6Y676HI"
      },
      "source": [
        "## Kelompok 5\n",
        " \n",
        "### 12S18002 - Wiranda Siahaan\n",
        "### 12S18009 - Novita Hutapea\n",
        "### 12S18041 - Merika Manurung\n",
        "### 12S18046 - Tiara Situmorang"
      ]
    },
    {
      "cell_type": "markdown",
      "metadata": {
        "id": "44lXVCi3zytQ"
      },
      "source": [
        "**Send tweets from the Twitter API**"
      ]
    },
    {
      "cell_type": "markdown",
      "metadata": {
        "id": "w_LhkklQz6P8"
      },
      "source": [
        "Import the necessary packages"
      ]
    },
    {
      "cell_type": "code",
      "execution_count": null,
      "metadata": {
        "id": "xNTQdnW1y17N"
      },
      "outputs": [],
      "source": [
        "import tweepy\n",
        "from tweepy import Stream\n",
        "from tweepy.streaming import StreamListener\n",
        "from tweepy import OAuthHandler\n",
        "import socket\n",
        "import json"
      ]
    },
    {
      "cell_type": "markdown",
      "metadata": {
        "id": "1I4puMqI0A-d"
      },
      "source": [
        "Insert your credentials"
      ]
    },
    {
      "cell_type": "code",
      "execution_count": null,
      "metadata": {
        "id": "KFEpyHfq0Acj"
      },
      "outputs": [],
      "source": [
        "consumer_key='AL7VpdwuBLHuumpxLkV0dzEYY'\n",
        "consumer_secret='lZwNGBLDgR0qB5Y8HICS6qv5DaqSosMSXTOpahSXTxsJYMVf7A'\n",
        "access_token ='1226360261428121600-kLVvbZaZFxiQ4w1zvne4vj7tucPVm4'\n",
        "access_secret='p7EZsyK7WvZ60kkcc3kH3xyG3kx6FI6VbHbQFtoH30rQO'"
      ]
    },
    {
      "cell_type": "markdown",
      "metadata": {
        "id": "_J-b4Xpy8UiH"
      },
      "source": [
        "Create a StreamListener instance\n"
      ]
    },
    {
      "cell_type": "code",
      "execution_count": null,
      "metadata": {
        "id": "Qk-rod4F8VRC"
      },
      "outputs": [],
      "source": [
        "class TweetsListener(StreamListener):\n",
        "  # tweet object listens for the tweets\n",
        "  def __init__(self, csocket):\n",
        "    self.client_socket = csocket\n",
        "  def on_data(self, data):\n",
        "    try:  \n",
        "      msg = json.loads( data )\n",
        "      print(\"new message\")\n",
        "      # if tweet is longer than 140 characters\n",
        "      if \"extended_tweet\" in msg:\n",
        "        # add at the end of each tweet \"t_end\" \n",
        "        self.client_socket\\\n",
        "            .send(str(msg['extended_tweet']['full_text']+\"t_end\")\\\n",
        "            .encode('utf-8'))         \n",
        "        print(msg['extended_tweet']['full_text'])\n",
        "      else:\n",
        "        # add at the end of each tweet \"t_end\" \n",
        "        self.client_socket\\\n",
        "            .send(str(msg['text']+\"t_end\")\\\n",
        "            .encode('utf-8'))\n",
        "        print(msg['text'])\n",
        "      return True\n",
        "    except BaseException as e:\n",
        "        print(\"Error on_data: %s\" % str(e))\n",
        "    return True\n",
        "  def on_error(self, status):\n",
        "    print(status)\n",
        "    return True"
      ]
    },
    {
      "cell_type": "markdown",
      "source": [
        "Send data from Twitter"
      ],
      "metadata": {
        "id": "7ui_OSqlEPfs"
      }
    },
    {
      "cell_type": "code",
      "execution_count": null,
      "metadata": {
        "id": "E-d67qmUEDtE"
      },
      "outputs": [],
      "source": [
        "def sendData(c_socket, keyword):\n",
        "  print('start sending data from Twitter to socket')\n",
        "  # authentication based on the credentials\n",
        "  auth = OAuthHandler(consumer_key, consumer_secret)\n",
        "  auth.set_access_token(access_token, access_secret)\n",
        "  # start sending data from the Streaming API \n",
        "  twitter_stream = Stream(auth, TweetsListener(c_socket))\n",
        "  twitter_stream.filter(track = keyword, languages=[\"en\"])"
      ]
    },
    {
      "cell_type": "markdown",
      "source": [
        "Start Streaming"
      ],
      "metadata": {
        "id": "NJ0WXpCsEeMZ"
      }
    },
    {
      "cell_type": "code",
      "source": [
        "if __name__ == \"__main__\":\n",
        "    # server (local machine) creates listening socket\n",
        "    s = socket.socket()\n",
        "    host = \"0.0.0.0\"    \n",
        "    port = 5555\n",
        "    s.bind((host, port))\n",
        "    print('socket is ready')\n",
        "    # server (local machine) listens for connections\n",
        "    s.listen(4)\n",
        "    print('socket is listening')\n",
        "    # return the socket and the address on the other side of the connection (client side)\n",
        "    c_socket, addr = s.accept()\n",
        "    print(\"Received request from: \" + str(addr))\n",
        "    # select here the keyword for the tweet data\n",
        "    sendData(c_socket, keyword = ['has'])"
      ],
      "metadata": {
        "id": "dz9WkxiMEhHt"
      },
      "execution_count": null,
      "outputs": []
    }
  ],
  "metadata": {
    "colab": {
      "collapsed_sections": [],
      "name": "Twitter_Sentiment_analysis.ipynb",
      "provenance": []
    },
    "kernelspec": {
      "display_name": "Python 3",
      "name": "python3"
    },
    "language_info": {
      "name": "python"
    }
  },
  "nbformat": 4,
  "nbformat_minor": 0
}