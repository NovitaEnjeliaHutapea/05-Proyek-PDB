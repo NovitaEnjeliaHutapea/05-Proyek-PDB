{
  "cells": [
    {
      "cell_type": "markdown",
      "source": [
        "Streaming data dan data preprocessing Kelompok 5 PDB\n",
        "\n",
        "12S18002 : Wiranda Siahaan\n",
        "\n",
        "12S18009 : Novita Enjelia Hutapea\n",
        "\n",
        "12S18041 : Merika H. Manurung\n",
        "\n",
        "12S18046 : Tiara Octavia Situmorang"
      ],
      "metadata": {
        "id": "0m_V-x4raepf"
      }
    },
    {
      "cell_type": "markdown",
      "metadata": {
        "id": "TnwdpQQpAFOa"
      },
      "source": [
        "# Consume twitter steaming data"
      ]
    },
    {
      "cell_type": "code",
      "source": [
        "from google.colab import drive\n",
        "drive.mount(\"/content/gdrive\")"
      ],
      "metadata": {
        "colab": {
          "base_uri": "https://localhost:8080/"
        },
        "id": "IqKU5opooAC6",
        "outputId": "a38cac86-c297-4df5-8f97-f1d16df2d9d5"
      },
      "execution_count": 2,
      "outputs": [
        {
          "output_type": "stream",
          "name": "stdout",
          "text": [
            "Mounted at /content/gdrive\n"
          ]
        }
      ]
    },
    {
      "cell_type": "code",
      "execution_count": 3,
      "metadata": {
        "id": "5MpMC5-LAFOb"
      },
      "outputs": [],
      "source": [
        "import tweepy\n",
        "from tweepy import OAuthHandler\n",
        "from tweepy import Stream\n",
        "import socket\n",
        "import json\n",
        "import numpy as np\n",
        "import pandas as pd"
      ]
    },
    {
      "cell_type": "code",
      "execution_count": 4,
      "metadata": {
        "id": "_QGBV7tZAFOb"
      },
      "outputs": [],
      "source": [
        "#Kindly put your credentials received from twitter developer account\n",
        "consumer_key='2mTmxHwkZramjVDOewE2dybgQ'\n",
        "consumer_secret='dJ42E93prTAze5BoF4wAIcxYA6gXfu9rGrHr6gguUt85xcHJSi'\n",
        "access_token ='1517128047019040768-YMZCcFIf6VLbZXNkJsa79sZk70xFkM'\n",
        "access_secret='Auwa9WPIktjUCrgQmzceZsdMtMA2hbnebSR7QlmYEdrlq'"
      ]
    },
    {
      "cell_type": "code",
      "execution_count": 5,
      "metadata": {
        "id": "rDEboMq1AFOc"
      },
      "outputs": [],
      "source": [
        "auth = tweepy.OAuthHandler(consumer_key, consumer_secret)\n",
        "auth.set_access_token(access_token, access_secret)\n",
        "api = tweepy.API(auth)"
      ]
    },
    {
      "cell_type": "code",
      "execution_count": 6,
      "metadata": {
        "colab": {
          "base_uri": "https://localhost:8080/"
        },
        "id": "Q5KeigjBAFOc",
        "outputId": "72c97289-638e-4972-dccf-6702743bc933"
      },
      "outputs": [
        {
          "output_type": "stream",
          "name": "stdout",
          "text": [
            "@PP_miniso จริงครับ ใครบอกเงินไม่สำคัญเถียงใจขาดเลย 5555\n",
            "RT @lexhaul: wts lfb ph [help rt please, tysm!]\n",
            "official exo lightstick ver. 1 (eribong) w/ miniso we bare bears panda\n",
            "set: 1,500 (1,400 if…\n",
            "@convomfs danish green, miniso\n",
            "RT @1107amor: NOOOOO HONGJOONGS TIPTOES BY WOOYOUNG https://t.co/ZlLZrsIBCT\n",
            "ถ้าเราเข้มแข็งพอ ทุกอย่างจะง่ายขึ้น👋🏻👋🏻👋🏻 ไม่จริง!!! ถ้าเรารวยต่างหาก ทุกอย่างจะง่ายขึ้น 🤣 เนาะ 555+… https://t.co/wYfmCmCF63\n",
            "uppp https://t.co/lcXUiXUeU7\n",
            "bump https://t.co/waqunEFwxa\n",
            "bili na kayooo\n",
            "\n",
            "wts lfb seventeen ph onhand https://t.co/C4I7MRhJFs\n",
            "vump https://t.co/2Bbs9pOVvj\n",
            "@ohmybeautybank Aku sekali jepit langsung naik.. sebelumnya pake miniso setengah harga mad tricky bgt hrs berkali2\n",
            "mi novio me vió triste porque ando demasiado salada y me trajo flores y me llevo a miniso\n",
            "kalo di rumah pake punya miniso yg violet musk 🥰\n",
            "@sofia_gaba7 los de miniso se parecen y están en 150 peso\n",
            "@TimpalBali Miniso kayanyaa\n",
            "RT @kmjshng: cheolsoo facts and moments that keep me awake at night\n",
            "\n",
            ";a thread https://t.co/tCp43YRVZ6\n"
          ]
        }
      ],
      "source": [
        "for tweet in api.search(q='miniso', lan='en'):    \n",
        "    print(tweet.text)"
      ]
    },
    {
      "cell_type": "code",
      "execution_count": 7,
      "metadata": {
        "id": "kEtE6TH1AFOd"
      },
      "outputs": [],
      "source": [
        "tweetDf = pd.DataFrame(columns = ['User', 'User_statuses_count', \n",
        "                             'user_followers','fav_count','User_location','Tweets',])"
      ]
    },
    {
      "cell_type": "code",
      "execution_count": 8,
      "metadata": {
        "id": "yluw1S9eAFOd"
      },
      "outputs": [],
      "source": [
        "def stream(data, file_name):\n",
        "    i = 0\n",
        "    for tweet in tweepy.Cursor(api.search, q=data, count=100000, lang='en').items():\n",
        "        print(i, end='\\r')\n",
        "        tweetDf.loc[i, 'User'] = tweet.user.name\n",
        "        tweetDf.loc[i, 'User_statuses_count'] = tweet.user.statuses_count\n",
        "        tweetDf.loc[i, 'user_followers'] = tweet.user.followers_count\n",
        "        tweetDf.loc[i, 'fav_count'] = tweet.favorite_count\n",
        "        tweetDf.loc[i, 'User_location'] = tweet.user.location\n",
        "        tweetDf.loc[i, 'Tweets'] = tweet.text\n",
        "        \n",
        "        \n",
        "        tweetDf.to_csv('{}.csv'.format(file_name))\n",
        "        i+=1\n",
        "        if i == 200:\n",
        "            break\n",
        "        else:\n",
        "            pass"
      ]
    },
    {
      "cell_type": "code",
      "execution_count": 9,
      "metadata": {
        "colab": {
          "base_uri": "https://localhost:8080/"
        },
        "id": "SMUB8DGxAFOe",
        "outputId": "22c751eb-4660-4b83-da1c-79aac581cb05"
      },
      "outputs": [
        {
          "output_type": "stream",
          "name": "stdout",
          "text": [
            ""
          ]
        }
      ],
      "source": [
        "stream(data = ['miniso'], file_name = 'miniso_2021')"
      ]
    },
    {
      "cell_type": "code",
      "execution_count": 10,
      "metadata": {
        "colab": {
          "base_uri": "https://localhost:8080/",
          "height": 206
        },
        "id": "H4vWvkRuAFOf",
        "outputId": "90fcf2f4-c56d-4385-845a-587527370646"
      },
      "outputs": [
        {
          "output_type": "execute_result",
          "data": {
            "text/plain": [
              "     User User_statuses_count user_followers fav_count  \\\n",
              "0  ven ⛓️                1005            498         0   \n",
              "1     zay               17674           1051         0   \n",
              "2  h3lluh                8265            239         0   \n",
              "3  h3lluh                8265            239         0   \n",
              "4       🍰                1438            395         0   \n",
              "\n",
              "               User_location  \\\n",
              "0  she / her  (minor) ✿ ✿ ✿    \n",
              "1              txt member 🐿️   \n",
              "2  / svt / atz / nct / en- /   \n",
              "3  / svt / atz / nct / en- /   \n",
              "4               she/her • 20   \n",
              "\n",
              "                                              Tweets  \n",
              "0  RT @lexhaul: wts lfb ph [help rt please, tysm!...  \n",
              "1                     @convomfs danish green, miniso  \n",
              "2                       bump https://t.co/waqunEFwxa  \n",
              "3  RT @kmjshng: cheolsoo facts and moments that k...  \n",
              "4  RT @lexhaul: wts lfb ph [help rt please, tysm!...  "
            ],
            "text/html": [
              "\n",
              "  <div id=\"df-cc411bd2-4b68-4d11-8906-6c5b4b4f5bfc\">\n",
              "    <div class=\"colab-df-container\">\n",
              "      <div>\n",
              "<style scoped>\n",
              "    .dataframe tbody tr th:only-of-type {\n",
              "        vertical-align: middle;\n",
              "    }\n",
              "\n",
              "    .dataframe tbody tr th {\n",
              "        vertical-align: top;\n",
              "    }\n",
              "\n",
              "    .dataframe thead th {\n",
              "        text-align: right;\n",
              "    }\n",
              "</style>\n",
              "<table border=\"1\" class=\"dataframe\">\n",
              "  <thead>\n",
              "    <tr style=\"text-align: right;\">\n",
              "      <th></th>\n",
              "      <th>User</th>\n",
              "      <th>User_statuses_count</th>\n",
              "      <th>user_followers</th>\n",
              "      <th>fav_count</th>\n",
              "      <th>User_location</th>\n",
              "      <th>Tweets</th>\n",
              "    </tr>\n",
              "  </thead>\n",
              "  <tbody>\n",
              "    <tr>\n",
              "      <th>0</th>\n",
              "      <td>ven ⛓️</td>\n",
              "      <td>1005</td>\n",
              "      <td>498</td>\n",
              "      <td>0</td>\n",
              "      <td>she / her  (minor) ✿ ✿ ✿</td>\n",
              "      <td>RT @lexhaul: wts lfb ph [help rt please, tysm!...</td>\n",
              "    </tr>\n",
              "    <tr>\n",
              "      <th>1</th>\n",
              "      <td>zay</td>\n",
              "      <td>17674</td>\n",
              "      <td>1051</td>\n",
              "      <td>0</td>\n",
              "      <td>txt member 🐿️</td>\n",
              "      <td>@convomfs danish green, miniso</td>\n",
              "    </tr>\n",
              "    <tr>\n",
              "      <th>2</th>\n",
              "      <td>h3lluh</td>\n",
              "      <td>8265</td>\n",
              "      <td>239</td>\n",
              "      <td>0</td>\n",
              "      <td>/ svt / atz / nct / en- /</td>\n",
              "      <td>bump https://t.co/waqunEFwxa</td>\n",
              "    </tr>\n",
              "    <tr>\n",
              "      <th>3</th>\n",
              "      <td>h3lluh</td>\n",
              "      <td>8265</td>\n",
              "      <td>239</td>\n",
              "      <td>0</td>\n",
              "      <td>/ svt / atz / nct / en- /</td>\n",
              "      <td>RT @kmjshng: cheolsoo facts and moments that k...</td>\n",
              "    </tr>\n",
              "    <tr>\n",
              "      <th>4</th>\n",
              "      <td>🍰</td>\n",
              "      <td>1438</td>\n",
              "      <td>395</td>\n",
              "      <td>0</td>\n",
              "      <td>she/her • 20</td>\n",
              "      <td>RT @lexhaul: wts lfb ph [help rt please, tysm!...</td>\n",
              "    </tr>\n",
              "  </tbody>\n",
              "</table>\n",
              "</div>\n",
              "      <button class=\"colab-df-convert\" onclick=\"convertToInteractive('df-cc411bd2-4b68-4d11-8906-6c5b4b4f5bfc')\"\n",
              "              title=\"Convert this dataframe to an interactive table.\"\n",
              "              style=\"display:none;\">\n",
              "        \n",
              "  <svg xmlns=\"http://www.w3.org/2000/svg\" height=\"24px\"viewBox=\"0 0 24 24\"\n",
              "       width=\"24px\">\n",
              "    <path d=\"M0 0h24v24H0V0z\" fill=\"none\"/>\n",
              "    <path d=\"M18.56 5.44l.94 2.06.94-2.06 2.06-.94-2.06-.94-.94-2.06-.94 2.06-2.06.94zm-11 1L8.5 8.5l.94-2.06 2.06-.94-2.06-.94L8.5 2.5l-.94 2.06-2.06.94zm10 10l.94 2.06.94-2.06 2.06-.94-2.06-.94-.94-2.06-.94 2.06-2.06.94z\"/><path d=\"M17.41 7.96l-1.37-1.37c-.4-.4-.92-.59-1.43-.59-.52 0-1.04.2-1.43.59L10.3 9.45l-7.72 7.72c-.78.78-.78 2.05 0 2.83L4 21.41c.39.39.9.59 1.41.59.51 0 1.02-.2 1.41-.59l7.78-7.78 2.81-2.81c.8-.78.8-2.07 0-2.86zM5.41 20L4 18.59l7.72-7.72 1.47 1.35L5.41 20z\"/>\n",
              "  </svg>\n",
              "      </button>\n",
              "      \n",
              "  <style>\n",
              "    .colab-df-container {\n",
              "      display:flex;\n",
              "      flex-wrap:wrap;\n",
              "      gap: 12px;\n",
              "    }\n",
              "\n",
              "    .colab-df-convert {\n",
              "      background-color: #E8F0FE;\n",
              "      border: none;\n",
              "      border-radius: 50%;\n",
              "      cursor: pointer;\n",
              "      display: none;\n",
              "      fill: #1967D2;\n",
              "      height: 32px;\n",
              "      padding: 0 0 0 0;\n",
              "      width: 32px;\n",
              "    }\n",
              "\n",
              "    .colab-df-convert:hover {\n",
              "      background-color: #E2EBFA;\n",
              "      box-shadow: 0px 1px 2px rgba(60, 64, 67, 0.3), 0px 1px 3px 1px rgba(60, 64, 67, 0.15);\n",
              "      fill: #174EA6;\n",
              "    }\n",
              "\n",
              "    [theme=dark] .colab-df-convert {\n",
              "      background-color: #3B4455;\n",
              "      fill: #D2E3FC;\n",
              "    }\n",
              "\n",
              "    [theme=dark] .colab-df-convert:hover {\n",
              "      background-color: #434B5C;\n",
              "      box-shadow: 0px 1px 3px 1px rgba(0, 0, 0, 0.15);\n",
              "      filter: drop-shadow(0px 1px 2px rgba(0, 0, 0, 0.3));\n",
              "      fill: #FFFFFF;\n",
              "    }\n",
              "  </style>\n",
              "\n",
              "      <script>\n",
              "        const buttonEl =\n",
              "          document.querySelector('#df-cc411bd2-4b68-4d11-8906-6c5b4b4f5bfc button.colab-df-convert');\n",
              "        buttonEl.style.display =\n",
              "          google.colab.kernel.accessAllowed ? 'block' : 'none';\n",
              "\n",
              "        async function convertToInteractive(key) {\n",
              "          const element = document.querySelector('#df-cc411bd2-4b68-4d11-8906-6c5b4b4f5bfc');\n",
              "          const dataTable =\n",
              "            await google.colab.kernel.invokeFunction('convertToInteractive',\n",
              "                                                     [key], {});\n",
              "          if (!dataTable) return;\n",
              "\n",
              "          const docLinkHtml = 'Like what you see? Visit the ' +\n",
              "            '<a target=\"_blank\" href=https://colab.research.google.com/notebooks/data_table.ipynb>data table notebook</a>'\n",
              "            + ' to learn more about interactive tables.';\n",
              "          element.innerHTML = '';\n",
              "          dataTable['output_type'] = 'display_data';\n",
              "          await google.colab.output.renderOutput(dataTable, element);\n",
              "          const docLink = document.createElement('div');\n",
              "          docLink.innerHTML = docLinkHtml;\n",
              "          element.appendChild(docLink);\n",
              "        }\n",
              "      </script>\n",
              "    </div>\n",
              "  </div>\n",
              "  "
            ]
          },
          "metadata": {},
          "execution_count": 10
        }
      ],
      "source": [
        "tweetDf.head()"
      ]
    },
    {
      "cell_type": "markdown",
      "source": [
        "## Data Preprocessing"
      ],
      "metadata": {
        "id": "TJTZJe2ZUtlR"
      }
    },
    {
      "cell_type": "code",
      "source": [
        "# libraries\n",
        "import numpy as np # used for handling numbers\n",
        "import pandas as pd # used for handling the dataset\n",
        "from sklearn.impute import SimpleImputer # used for handling missing data\n",
        "from sklearn.preprocessing import LabelEncoder, OneHotEncoder # used for encoding categorical data\n",
        "from sklearn.model_selection import train_test_split # used for splitting training and testing data\n",
        "from sklearn.preprocessing import StandardScaler # used for feature scaling"
      ],
      "metadata": {
        "id": "o2xV35ZNUyYl"
      },
      "execution_count": 11,
      "outputs": []
    },
    {
      "cell_type": "code",
      "source": [
        "dataset = pd.read_csv('miniso_2021.csv') # to import the dataset into a variable\n",
        "# Splitting the attributes into independent and dependent attributes\n",
        "X = dataset.iloc[:, :-1].values # attributes to determine dependent variable / Class\n",
        "Y = dataset.iloc[:, -1].values # dependent variable / Class"
      ],
      "metadata": {
        "id": "leyrFBwoVMwE"
      },
      "execution_count": 12,
      "outputs": []
    },
    {
      "cell_type": "code",
      "source": [
        "dataset.head()"
      ],
      "metadata": {
        "colab": {
          "base_uri": "https://localhost:8080/",
          "height": 206
        },
        "id": "rilWqXeeWFIl",
        "outputId": "48c1fc5e-a4a5-4dfc-a1c8-fe9307d4df94"
      },
      "execution_count": 13,
      "outputs": [
        {
          "output_type": "execute_result",
          "data": {
            "text/plain": [
              "   Unnamed: 0    User  User_statuses_count  user_followers  fav_count  \\\n",
              "0           0  ven ⛓️                 1005             498          0   \n",
              "1           1     zay                17674            1051          0   \n",
              "2           2  h3lluh                 8265             239          0   \n",
              "3           3  h3lluh                 8265             239          0   \n",
              "4           4       🍰                 1438             395          0   \n",
              "\n",
              "               User_location  \\\n",
              "0  she / her  (minor) ✿ ✿ ✿    \n",
              "1              txt member 🐿️   \n",
              "2  / svt / atz / nct / en- /   \n",
              "3  / svt / atz / nct / en- /   \n",
              "4               she/her • 20   \n",
              "\n",
              "                                              Tweets  \n",
              "0  RT @lexhaul: wts lfb ph [help rt please, tysm!...  \n",
              "1                     @convomfs danish green, miniso  \n",
              "2                       bump https://t.co/waqunEFwxa  \n",
              "3  RT @kmjshng: cheolsoo facts and moments that k...  \n",
              "4  RT @lexhaul: wts lfb ph [help rt please, tysm!...  "
            ],
            "text/html": [
              "\n",
              "  <div id=\"df-6b2e10a8-2175-42da-81bc-ec211ae12273\">\n",
              "    <div class=\"colab-df-container\">\n",
              "      <div>\n",
              "<style scoped>\n",
              "    .dataframe tbody tr th:only-of-type {\n",
              "        vertical-align: middle;\n",
              "    }\n",
              "\n",
              "    .dataframe tbody tr th {\n",
              "        vertical-align: top;\n",
              "    }\n",
              "\n",
              "    .dataframe thead th {\n",
              "        text-align: right;\n",
              "    }\n",
              "</style>\n",
              "<table border=\"1\" class=\"dataframe\">\n",
              "  <thead>\n",
              "    <tr style=\"text-align: right;\">\n",
              "      <th></th>\n",
              "      <th>Unnamed: 0</th>\n",
              "      <th>User</th>\n",
              "      <th>User_statuses_count</th>\n",
              "      <th>user_followers</th>\n",
              "      <th>fav_count</th>\n",
              "      <th>User_location</th>\n",
              "      <th>Tweets</th>\n",
              "    </tr>\n",
              "  </thead>\n",
              "  <tbody>\n",
              "    <tr>\n",
              "      <th>0</th>\n",
              "      <td>0</td>\n",
              "      <td>ven ⛓️</td>\n",
              "      <td>1005</td>\n",
              "      <td>498</td>\n",
              "      <td>0</td>\n",
              "      <td>she / her  (minor) ✿ ✿ ✿</td>\n",
              "      <td>RT @lexhaul: wts lfb ph [help rt please, tysm!...</td>\n",
              "    </tr>\n",
              "    <tr>\n",
              "      <th>1</th>\n",
              "      <td>1</td>\n",
              "      <td>zay</td>\n",
              "      <td>17674</td>\n",
              "      <td>1051</td>\n",
              "      <td>0</td>\n",
              "      <td>txt member 🐿️</td>\n",
              "      <td>@convomfs danish green, miniso</td>\n",
              "    </tr>\n",
              "    <tr>\n",
              "      <th>2</th>\n",
              "      <td>2</td>\n",
              "      <td>h3lluh</td>\n",
              "      <td>8265</td>\n",
              "      <td>239</td>\n",
              "      <td>0</td>\n",
              "      <td>/ svt / atz / nct / en- /</td>\n",
              "      <td>bump https://t.co/waqunEFwxa</td>\n",
              "    </tr>\n",
              "    <tr>\n",
              "      <th>3</th>\n",
              "      <td>3</td>\n",
              "      <td>h3lluh</td>\n",
              "      <td>8265</td>\n",
              "      <td>239</td>\n",
              "      <td>0</td>\n",
              "      <td>/ svt / atz / nct / en- /</td>\n",
              "      <td>RT @kmjshng: cheolsoo facts and moments that k...</td>\n",
              "    </tr>\n",
              "    <tr>\n",
              "      <th>4</th>\n",
              "      <td>4</td>\n",
              "      <td>🍰</td>\n",
              "      <td>1438</td>\n",
              "      <td>395</td>\n",
              "      <td>0</td>\n",
              "      <td>she/her • 20</td>\n",
              "      <td>RT @lexhaul: wts lfb ph [help rt please, tysm!...</td>\n",
              "    </tr>\n",
              "  </tbody>\n",
              "</table>\n",
              "</div>\n",
              "      <button class=\"colab-df-convert\" onclick=\"convertToInteractive('df-6b2e10a8-2175-42da-81bc-ec211ae12273')\"\n",
              "              title=\"Convert this dataframe to an interactive table.\"\n",
              "              style=\"display:none;\">\n",
              "        \n",
              "  <svg xmlns=\"http://www.w3.org/2000/svg\" height=\"24px\"viewBox=\"0 0 24 24\"\n",
              "       width=\"24px\">\n",
              "    <path d=\"M0 0h24v24H0V0z\" fill=\"none\"/>\n",
              "    <path d=\"M18.56 5.44l.94 2.06.94-2.06 2.06-.94-2.06-.94-.94-2.06-.94 2.06-2.06.94zm-11 1L8.5 8.5l.94-2.06 2.06-.94-2.06-.94L8.5 2.5l-.94 2.06-2.06.94zm10 10l.94 2.06.94-2.06 2.06-.94-2.06-.94-.94-2.06-.94 2.06-2.06.94z\"/><path d=\"M17.41 7.96l-1.37-1.37c-.4-.4-.92-.59-1.43-.59-.52 0-1.04.2-1.43.59L10.3 9.45l-7.72 7.72c-.78.78-.78 2.05 0 2.83L4 21.41c.39.39.9.59 1.41.59.51 0 1.02-.2 1.41-.59l7.78-7.78 2.81-2.81c.8-.78.8-2.07 0-2.86zM5.41 20L4 18.59l7.72-7.72 1.47 1.35L5.41 20z\"/>\n",
              "  </svg>\n",
              "      </button>\n",
              "      \n",
              "  <style>\n",
              "    .colab-df-container {\n",
              "      display:flex;\n",
              "      flex-wrap:wrap;\n",
              "      gap: 12px;\n",
              "    }\n",
              "\n",
              "    .colab-df-convert {\n",
              "      background-color: #E8F0FE;\n",
              "      border: none;\n",
              "      border-radius: 50%;\n",
              "      cursor: pointer;\n",
              "      display: none;\n",
              "      fill: #1967D2;\n",
              "      height: 32px;\n",
              "      padding: 0 0 0 0;\n",
              "      width: 32px;\n",
              "    }\n",
              "\n",
              "    .colab-df-convert:hover {\n",
              "      background-color: #E2EBFA;\n",
              "      box-shadow: 0px 1px 2px rgba(60, 64, 67, 0.3), 0px 1px 3px 1px rgba(60, 64, 67, 0.15);\n",
              "      fill: #174EA6;\n",
              "    }\n",
              "\n",
              "    [theme=dark] .colab-df-convert {\n",
              "      background-color: #3B4455;\n",
              "      fill: #D2E3FC;\n",
              "    }\n",
              "\n",
              "    [theme=dark] .colab-df-convert:hover {\n",
              "      background-color: #434B5C;\n",
              "      box-shadow: 0px 1px 3px 1px rgba(0, 0, 0, 0.15);\n",
              "      filter: drop-shadow(0px 1px 2px rgba(0, 0, 0, 0.3));\n",
              "      fill: #FFFFFF;\n",
              "    }\n",
              "  </style>\n",
              "\n",
              "      <script>\n",
              "        const buttonEl =\n",
              "          document.querySelector('#df-6b2e10a8-2175-42da-81bc-ec211ae12273 button.colab-df-convert');\n",
              "        buttonEl.style.display =\n",
              "          google.colab.kernel.accessAllowed ? 'block' : 'none';\n",
              "\n",
              "        async function convertToInteractive(key) {\n",
              "          const element = document.querySelector('#df-6b2e10a8-2175-42da-81bc-ec211ae12273');\n",
              "          const dataTable =\n",
              "            await google.colab.kernel.invokeFunction('convertToInteractive',\n",
              "                                                     [key], {});\n",
              "          if (!dataTable) return;\n",
              "\n",
              "          const docLinkHtml = 'Like what you see? Visit the ' +\n",
              "            '<a target=\"_blank\" href=https://colab.research.google.com/notebooks/data_table.ipynb>data table notebook</a>'\n",
              "            + ' to learn more about interactive tables.';\n",
              "          element.innerHTML = '';\n",
              "          dataTable['output_type'] = 'display_data';\n",
              "          await google.colab.output.renderOutput(dataTable, element);\n",
              "          const docLink = document.createElement('div');\n",
              "          docLink.innerHTML = docLinkHtml;\n",
              "          element.appendChild(docLink);\n",
              "        }\n",
              "      </script>\n",
              "    </div>\n",
              "  </div>\n",
              "  "
            ]
          },
          "metadata": {},
          "execution_count": 13
        }
      ]
    },
    {
      "cell_type": "code",
      "source": [
        "print(dataset.shape)"
      ],
      "metadata": {
        "colab": {
          "base_uri": "https://localhost:8080/"
        },
        "id": "T60V2ARnWbNN",
        "outputId": "77bab7bc-17bc-46f1-9ee4-48401952b41a"
      },
      "execution_count": 14,
      "outputs": [
        {
          "output_type": "stream",
          "name": "stdout",
          "text": [
            "(200, 7)\n"
          ]
        }
      ]
    },
    {
      "cell_type": "markdown",
      "source": [
        "### missing value"
      ],
      "metadata": {
        "id": "4-FuysHqWskN"
      }
    },
    {
      "cell_type": "code",
      "source": [
        "# handling the missing data and replace missing values with nan from numpy and replace with mean of all the other values\n",
        "dataset1 = dataset.dropna()\n",
        "print(dataset1.shape)"
      ],
      "metadata": {
        "colab": {
          "base_uri": "https://localhost:8080/"
        },
        "id": "IoS8hn7NVsVe",
        "outputId": "b0b44f55-e174-490e-ad5d-406daa640285"
      },
      "execution_count": 15,
      "outputs": [
        {
          "output_type": "stream",
          "name": "stdout",
          "text": [
            "(135, 7)\n"
          ]
        }
      ]
    },
    {
      "cell_type": "markdown",
      "source": [
        "### remove duplicate"
      ],
      "metadata": {
        "id": "CVhIyuMWWrx_"
      }
    },
    {
      "cell_type": "code",
      "source": [
        "dataset2 = dataset1.drop_duplicates()\n",
        "print(dataset2.shape)"
      ],
      "metadata": {
        "colab": {
          "base_uri": "https://localhost:8080/"
        },
        "id": "3IKbS8u-WyQ7",
        "outputId": "193e8e64-8e50-4c4e-81e4-b0e543dcd13a"
      },
      "execution_count": 16,
      "outputs": [
        {
          "output_type": "stream",
          "name": "stdout",
          "text": [
            "(135, 7)\n"
          ]
        }
      ]
    },
    {
      "cell_type": "markdown",
      "source": [
        "# Text Preprocessing\n",
        "\n"
      ],
      "metadata": {
        "id": "rzBP-rihXFbx"
      }
    },
    {
      "cell_type": "code",
      "source": [
        "import re, string, unicodedata\n",
        "import json\n",
        "import nltk\n",
        "import json\n",
        "import time\n",
        "import itertools  \n",
        "import numpy as np\n",
        "import pandas as pd\n",
        "import tensorflow as tf\n",
        "import tensorflow_hub as hub\n",
        "import matplotlib.pyplot as plt\n",
        "from nltk.corpus import stopwords\n",
        "from nltk.stem import WordNetLemmatizer\n",
        "from nltk.tokenize import word_tokenize\n",
        "from wordcloud import WordCloud, STOPWORDS\n",
        "import tensorflow.keras.preprocessing.text as kpt\n",
        "from sklearn.model_selection import train_test_split\n",
        "from tensorflow.keras.preprocessing.text import Tokenizer"
      ],
      "metadata": {
        "id": "46PrMmn-dnBB"
      },
      "execution_count": 17,
      "outputs": []
    },
    {
      "cell_type": "markdown",
      "source": [
        "## Case folding"
      ],
      "metadata": {
        "id": "h7gCMmn4c1pH"
      }
    },
    {
      "cell_type": "code",
      "source": [
        "# Change text column to lower lower case\n",
        "dataset2['Tweets'] = dataset2['Tweets'].str.lower()\n",
        "\n",
        "# Look at the change\n",
        "print(dataset2)"
      ],
      "metadata": {
        "colab": {
          "base_uri": "https://localhost:8080/"
        },
        "id": "0WChobRddHlv",
        "outputId": "122950c0-2af0-4911-cfbe-830bc04afb36"
      },
      "execution_count": 18,
      "outputs": [
        {
          "output_type": "stream",
          "name": "stdout",
          "text": [
            "     Unnamed: 0             User  User_statuses_count  user_followers  \\\n",
            "0             0           ven ⛓️                 1005             498   \n",
            "1             1              zay                17674            1051   \n",
            "2             2           h3lluh                 8265             239   \n",
            "3             3           h3lluh                 8265             239   \n",
            "4             4                🍰                 1438             395   \n",
            "..          ...              ...                  ...             ...   \n",
            "192         192               🥢🫕               112853             208   \n",
            "193         193  juncutton day 🐰                40045             649   \n",
            "194         194          eden !!                23610             762   \n",
            "196         196          ᵃˡᵉˢⁱᵗᵃ                 7189             301   \n",
            "199         199               ‏ً                13377             210   \n",
            "\n",
            "     fav_count                                   User_location  \\\n",
            "0            0                       she / her  (minor) ✿ ✿ ✿    \n",
            "1            0                                   txt member 🐿️   \n",
            "2            0                       / svt / atz / nct / en- /   \n",
            "3            0                       / svt / atz / nct / en- /   \n",
            "4            0                                    she/her • 20   \n",
            "..         ...                                             ...   \n",
            "192          0                                         ISTJ-A    \n",
            "193          0                           0’3 | waiting for bbh   \n",
            "194          0  he/they ! 🇨🇱\\n404twt + hstwt\\ncbyf ! eng / esp   \n",
            "196          0                              Hermosillo, Sonora   \n",
            "199          0                               yoongi’s illegirl   \n",
            "\n",
            "                                                Tweets  \n",
            "0    rt @lexhaul: wts lfb ph [help rt please, tysm!...  \n",
            "1                       @convomfs danish green, miniso  \n",
            "2                         bump https://t.co/waqunefwxa  \n",
            "3    rt @kmjshng: cheolsoo facts and moments that k...  \n",
            "4    rt @lexhaul: wts lfb ph [help rt please, tysm!...  \n",
            "..                                                 ...  \n",
            "192  rt @sugarsanriio: hello kitty cooler bag from ...  \n",
            "193  rt @kyvo_gvr: wts | lfb [help rt] \\n\\n𓂋 xiumin...  \n",
            "194                  they have gay pins at miniso slay  \n",
            "196  rt @sugarsanriio: hello kitty cooler bag from ...  \n",
            "199  rt @sugarsanriio: hello kitty cooler bag from ...  \n",
            "\n",
            "[135 rows x 7 columns]\n"
          ]
        }
      ]
    },
    {
      "cell_type": "markdown",
      "source": [
        "## Remove URL"
      ],
      "metadata": {
        "id": "0JbfV7DPebQv"
      }
    },
    {
      "cell_type": "code",
      "source": [
        "def clean_data(dataset2):\n",
        "#replace URL of a text\n",
        "    dataset2['Tweets'] = dataset2['Tweets'].str.replace('http[s]?://(?:[a-zA-Z]|[0-9]|[$-_@.&+]|[!*\\(\\),]|(?:%[0-9a-fA-F][0-9a-fA-F]))+', ' ')\n",
        "\n",
        "clean_data(dataset2)\n",
        "print(dataset2['Tweets']);"
      ],
      "metadata": {
        "colab": {
          "base_uri": "https://localhost:8080/"
        },
        "id": "KQbqcNXGfQrg",
        "outputId": "91a09913-6ecb-4f8b-c46e-389f22226cbb"
      },
      "execution_count": 19,
      "outputs": [
        {
          "output_type": "stream",
          "name": "stdout",
          "text": [
            "0      rt @lexhaul: wts lfb ph [help rt please, tysm!...\n",
            "1                         @convomfs danish green, miniso\n",
            "2                                                 bump  \n",
            "3      rt @kmjshng: cheolsoo facts and moments that k...\n",
            "4      rt @lexhaul: wts lfb ph [help rt please, tysm!...\n",
            "                             ...                        \n",
            "192    rt @sugarsanriio: hello kitty cooler bag from ...\n",
            "193    rt @kyvo_gvr: wts | lfb [help rt] \\n\\n𓂋 xiumin...\n",
            "194                    they have gay pins at miniso slay\n",
            "196    rt @sugarsanriio: hello kitty cooler bag from ...\n",
            "199    rt @sugarsanriio: hello kitty cooler bag from ...\n",
            "Name: Tweets, Length: 135, dtype: object\n"
          ]
        },
        {
          "output_type": "stream",
          "name": "stderr",
          "text": [
            "/usr/local/lib/python3.7/dist-packages/ipykernel_launcher.py:3: FutureWarning: The default value of regex will change from True to False in a future version.\n",
            "  This is separate from the ipykernel package so we can avoid doing imports until\n"
          ]
        }
      ]
    },
    {
      "cell_type": "markdown",
      "source": [
        "## Remove Number"
      ],
      "metadata": {
        "id": "PBF84yjmhRU-"
      }
    },
    {
      "cell_type": "code",
      "source": [
        "# removing numbers from strings of speciafied \n",
        "# column, here 'Name'\n",
        "dataset2['Tweets']= dataset2['Tweets'].str.replace('\\d+', '')\n",
        "  \n",
        "# display output with numbers removed from \n",
        "# required strings\n",
        "print(dataset2)"
      ],
      "metadata": {
        "colab": {
          "base_uri": "https://localhost:8080/"
        },
        "id": "X-CxVrqnhhSD",
        "outputId": "dda62325-b3f6-4630-fddc-ccbb520bdbfa"
      },
      "execution_count": 20,
      "outputs": [
        {
          "output_type": "stream",
          "name": "stdout",
          "text": [
            "     Unnamed: 0             User  User_statuses_count  user_followers  \\\n",
            "0             0           ven ⛓️                 1005             498   \n",
            "1             1              zay                17674            1051   \n",
            "2             2           h3lluh                 8265             239   \n",
            "3             3           h3lluh                 8265             239   \n",
            "4             4                🍰                 1438             395   \n",
            "..          ...              ...                  ...             ...   \n",
            "192         192               🥢🫕               112853             208   \n",
            "193         193  juncutton day 🐰                40045             649   \n",
            "194         194          eden !!                23610             762   \n",
            "196         196          ᵃˡᵉˢⁱᵗᵃ                 7189             301   \n",
            "199         199               ‏ً                13377             210   \n",
            "\n",
            "     fav_count                                   User_location  \\\n",
            "0            0                       she / her  (minor) ✿ ✿ ✿    \n",
            "1            0                                   txt member 🐿️   \n",
            "2            0                       / svt / atz / nct / en- /   \n",
            "3            0                       / svt / atz / nct / en- /   \n",
            "4            0                                    she/her • 20   \n",
            "..         ...                                             ...   \n",
            "192          0                                         ISTJ-A    \n",
            "193          0                           0’3 | waiting for bbh   \n",
            "194          0  he/they ! 🇨🇱\\n404twt + hstwt\\ncbyf ! eng / esp   \n",
            "196          0                              Hermosillo, Sonora   \n",
            "199          0                               yoongi’s illegirl   \n",
            "\n",
            "                                                Tweets  \n",
            "0    rt @lexhaul: wts lfb ph [help rt please, tysm!...  \n",
            "1                       @convomfs danish green, miniso  \n",
            "2                                               bump    \n",
            "3    rt @kmjshng: cheolsoo facts and moments that k...  \n",
            "4    rt @lexhaul: wts lfb ph [help rt please, tysm!...  \n",
            "..                                                 ...  \n",
            "192  rt @sugarsanriio: hello kitty cooler bag from ...  \n",
            "193  rt @kyvo_gvr: wts | lfb [help rt] \\n\\n𓂋 xiumin...  \n",
            "194                  they have gay pins at miniso slay  \n",
            "196  rt @sugarsanriio: hello kitty cooler bag from ...  \n",
            "199  rt @sugarsanriio: hello kitty cooler bag from ...  \n",
            "\n",
            "[135 rows x 7 columns]\n"
          ]
        },
        {
          "output_type": "stream",
          "name": "stderr",
          "text": [
            "/usr/local/lib/python3.7/dist-packages/ipykernel_launcher.py:3: FutureWarning: The default value of regex will change from True to False in a future version.\n",
            "  This is separate from the ipykernel package so we can avoid doing imports until\n"
          ]
        }
      ]
    },
    {
      "cell_type": "markdown",
      "source": [
        "## Remove Punctuation"
      ],
      "metadata": {
        "id": "7TLTnHCqh4um"
      }
    },
    {
      "cell_type": "code",
      "source": [
        "dataset2['Tweets'] = dataset2['Tweets'].str.replace(r'[^\\w\\s]','')"
      ],
      "metadata": {
        "colab": {
          "base_uri": "https://localhost:8080/"
        },
        "id": "7pfjayWXh_C7",
        "outputId": "c7faacf5-6be2-415a-d30c-e4cb67a72bfd"
      },
      "execution_count": 21,
      "outputs": [
        {
          "output_type": "stream",
          "name": "stderr",
          "text": [
            "/usr/local/lib/python3.7/dist-packages/ipykernel_launcher.py:1: FutureWarning: The default value of regex will change from True to False in a future version.\n",
            "  \"\"\"Entry point for launching an IPython kernel.\n"
          ]
        }
      ]
    },
    {
      "cell_type": "code",
      "source": [
        "print(dataset2)"
      ],
      "metadata": {
        "colab": {
          "base_uri": "https://localhost:8080/"
        },
        "id": "Z9G9933BiLQA",
        "outputId": "309f5186-de77-4631-c00f-b8a0396ed1e3"
      },
      "execution_count": 22,
      "outputs": [
        {
          "output_type": "stream",
          "name": "stdout",
          "text": [
            "     Unnamed: 0             User  User_statuses_count  user_followers  \\\n",
            "0             0           ven ⛓️                 1005             498   \n",
            "1             1              zay                17674            1051   \n",
            "2             2           h3lluh                 8265             239   \n",
            "3             3           h3lluh                 8265             239   \n",
            "4             4                🍰                 1438             395   \n",
            "..          ...              ...                  ...             ...   \n",
            "192         192               🥢🫕               112853             208   \n",
            "193         193  juncutton day 🐰                40045             649   \n",
            "194         194          eden !!                23610             762   \n",
            "196         196          ᵃˡᵉˢⁱᵗᵃ                 7189             301   \n",
            "199         199               ‏ً                13377             210   \n",
            "\n",
            "     fav_count                                   User_location  \\\n",
            "0            0                       she / her  (minor) ✿ ✿ ✿    \n",
            "1            0                                   txt member 🐿️   \n",
            "2            0                       / svt / atz / nct / en- /   \n",
            "3            0                       / svt / atz / nct / en- /   \n",
            "4            0                                    she/her • 20   \n",
            "..         ...                                             ...   \n",
            "192          0                                         ISTJ-A    \n",
            "193          0                           0’3 | waiting for bbh   \n",
            "194          0  he/they ! 🇨🇱\\n404twt + hstwt\\ncbyf ! eng / esp   \n",
            "196          0                              Hermosillo, Sonora   \n",
            "199          0                               yoongi’s illegirl   \n",
            "\n",
            "                                                Tweets  \n",
            "0    rt lexhaul wts lfb ph help rt please tysm\\noff...  \n",
            "1                         convomfs danish green miniso  \n",
            "2                                               bump    \n",
            "3    rt kmjshng cheolsoo facts and moments that kee...  \n",
            "4    rt lexhaul wts lfb ph help rt please tysm\\noff...  \n",
            "..                                                 ...  \n",
            "192  rt sugarsanriio hello kitty cooler bag from mi...  \n",
            "193  rt kyvo_gvr wts  lfb help rt \\n\\n𓂋 xiumin exop...  \n",
            "194                  they have gay pins at miniso slay  \n",
            "196  rt sugarsanriio hello kitty cooler bag from mi...  \n",
            "199  rt sugarsanriio hello kitty cooler bag from mi...  \n",
            "\n",
            "[135 rows x 7 columns]\n"
          ]
        }
      ]
    },
    {
      "cell_type": "markdown",
      "source": [
        "## Stopwords Removal"
      ],
      "metadata": {
        "id": "nCTsnglfiRLf"
      }
    },
    {
      "cell_type": "code",
      "source": [
        "import nltk\n",
        "nltk.download('stopwords')\n",
        "print(stopwords.words('english'))"
      ],
      "metadata": {
        "colab": {
          "base_uri": "https://localhost:8080/"
        },
        "id": "kLD8h3_MiUYQ",
        "outputId": "6626e200-6722-43c8-f686-ae28e1c5fa76"
      },
      "execution_count": 23,
      "outputs": [
        {
          "output_type": "stream",
          "name": "stdout",
          "text": [
            "[nltk_data] Downloading package stopwords to /root/nltk_data...\n",
            "[nltk_data]   Unzipping corpora/stopwords.zip.\n",
            "['i', 'me', 'my', 'myself', 'we', 'our', 'ours', 'ourselves', 'you', \"you're\", \"you've\", \"you'll\", \"you'd\", 'your', 'yours', 'yourself', 'yourselves', 'he', 'him', 'his', 'himself', 'she', \"she's\", 'her', 'hers', 'herself', 'it', \"it's\", 'its', 'itself', 'they', 'them', 'their', 'theirs', 'themselves', 'what', 'which', 'who', 'whom', 'this', 'that', \"that'll\", 'these', 'those', 'am', 'is', 'are', 'was', 'were', 'be', 'been', 'being', 'have', 'has', 'had', 'having', 'do', 'does', 'did', 'doing', 'a', 'an', 'the', 'and', 'but', 'if', 'or', 'because', 'as', 'until', 'while', 'of', 'at', 'by', 'for', 'with', 'about', 'against', 'between', 'into', 'through', 'during', 'before', 'after', 'above', 'below', 'to', 'from', 'up', 'down', 'in', 'out', 'on', 'off', 'over', 'under', 'again', 'further', 'then', 'once', 'here', 'there', 'when', 'where', 'why', 'how', 'all', 'any', 'both', 'each', 'few', 'more', 'most', 'other', 'some', 'such', 'no', 'nor', 'not', 'only', 'own', 'same', 'so', 'than', 'too', 'very', 's', 't', 'can', 'will', 'just', 'don', \"don't\", 'should', \"should've\", 'now', 'd', 'll', 'm', 'o', 're', 've', 'y', 'ain', 'aren', \"aren't\", 'couldn', \"couldn't\", 'didn', \"didn't\", 'doesn', \"doesn't\", 'hadn', \"hadn't\", 'hasn', \"hasn't\", 'haven', \"haven't\", 'isn', \"isn't\", 'ma', 'mightn', \"mightn't\", 'mustn', \"mustn't\", 'needn', \"needn't\", 'shan', \"shan't\", 'shouldn', \"shouldn't\", 'wasn', \"wasn't\", 'weren', \"weren't\", 'won', \"won't\", 'wouldn', \"wouldn't\"]\n"
          ]
        }
      ]
    },
    {
      "cell_type": "code",
      "source": [
        "print(dataset2['Tweets']); \n",
        "\n",
        "import nltk\n",
        "nltk.download('stopwords')\n",
        "nltk.download('punkt')\n",
        "stop_words = set(stopwords.words('english'))\n",
        " \n",
        "dataset2['Tweets'] = dataset2['Tweets'].apply(lambda x: ' '.join([word for word in x.split() if word not in (stop_words)]))\n",
        "print(dataset2['Tweets'])"
      ],
      "metadata": {
        "colab": {
          "base_uri": "https://localhost:8080/"
        },
        "id": "tdDLP037mkPr",
        "outputId": "8d37f9f6-665e-4137-f836-043f0a86ba89"
      },
      "execution_count": 24,
      "outputs": [
        {
          "output_type": "stream",
          "name": "stdout",
          "text": [
            "0      rt lexhaul wts lfb ph help rt please tysm\\noff...\n",
            "1                           convomfs danish green miniso\n",
            "2                                                 bump  \n",
            "3      rt kmjshng cheolsoo facts and moments that kee...\n",
            "4      rt lexhaul wts lfb ph help rt please tysm\\noff...\n",
            "                             ...                        \n",
            "192    rt sugarsanriio hello kitty cooler bag from mi...\n",
            "193    rt kyvo_gvr wts  lfb help rt \\n\\n𓂋 xiumin exop...\n",
            "194                    they have gay pins at miniso slay\n",
            "196    rt sugarsanriio hello kitty cooler bag from mi...\n",
            "199    rt sugarsanriio hello kitty cooler bag from mi...\n",
            "Name: Tweets, Length: 135, dtype: object\n",
            "[nltk_data] Downloading package stopwords to /root/nltk_data...\n",
            "[nltk_data]   Package stopwords is already up-to-date!\n",
            "[nltk_data] Downloading package punkt to /root/nltk_data...\n",
            "[nltk_data]   Unzipping tokenizers/punkt.zip.\n",
            "0      rt lexhaul wts lfb ph help rt please tysm offi...\n",
            "1                           convomfs danish green miniso\n",
            "2                                                   bump\n",
            "3      rt kmjshng cheolsoo facts moments keep awake n...\n",
            "4      rt lexhaul wts lfb ph help rt please tysm offi...\n",
            "                             ...                        \n",
            "192     rt sugarsanriio hello kitty cooler bag miniso lt\n",
            "193    rt kyvo_gvr wts lfb help rt 𓂋 xiumin exoplanet...\n",
            "194                                 gay pins miniso slay\n",
            "196     rt sugarsanriio hello kitty cooler bag miniso lt\n",
            "199     rt sugarsanriio hello kitty cooler bag miniso lt\n",
            "Name: Tweets, Length: 135, dtype: object\n"
          ]
        }
      ]
    },
    {
      "cell_type": "markdown",
      "source": [
        "## Tokenizing"
      ],
      "metadata": {
        "id": "0OGacbpHmwoZ"
      }
    },
    {
      "cell_type": "code",
      "source": [
        "dataset2['Tweets'] = dataset2['Tweets'].apply(word_tokenize)\n",
        "\n",
        "print(dataset2['Tweets'])"
      ],
      "metadata": {
        "colab": {
          "base_uri": "https://localhost:8080/"
        },
        "id": "pj9Z7GT6myvr",
        "outputId": "f885a205-d91d-4546-f68b-dc7c5b3dafe4"
      },
      "execution_count": 25,
      "outputs": [
        {
          "output_type": "stream",
          "name": "stdout",
          "text": [
            "0      [rt, lexhaul, wts, lfb, ph, help, rt, please, ...\n",
            "1                      [convomfs, danish, green, miniso]\n",
            "2                                                 [bump]\n",
            "3      [rt, kmjshng, cheolsoo, facts, moments, keep, ...\n",
            "4      [rt, lexhaul, wts, lfb, ph, help, rt, please, ...\n",
            "                             ...                        \n",
            "192    [rt, sugarsanriio, hello, kitty, cooler, bag, ...\n",
            "193    [rt, kyvo_gvr, wts, lfb, help, rt, 𓂋, xiumin, ...\n",
            "194                            [gay, pins, miniso, slay]\n",
            "196    [rt, sugarsanriio, hello, kitty, cooler, bag, ...\n",
            "199    [rt, sugarsanriio, hello, kitty, cooler, bag, ...\n",
            "Name: Tweets, Length: 135, dtype: object\n"
          ]
        }
      ]
    },
    {
      "cell_type": "code",
      "source": [
        "print(dataset2)"
      ],
      "metadata": {
        "colab": {
          "base_uri": "https://localhost:8080/"
        },
        "id": "TABIaLA6m-tI",
        "outputId": "f030470b-38b2-4d81-fc58-e89f2dc436ca"
      },
      "execution_count": 26,
      "outputs": [
        {
          "output_type": "stream",
          "name": "stdout",
          "text": [
            "     Unnamed: 0             User  User_statuses_count  user_followers  \\\n",
            "0             0           ven ⛓️                 1005             498   \n",
            "1             1              zay                17674            1051   \n",
            "2             2           h3lluh                 8265             239   \n",
            "3             3           h3lluh                 8265             239   \n",
            "4             4                🍰                 1438             395   \n",
            "..          ...              ...                  ...             ...   \n",
            "192         192               🥢🫕               112853             208   \n",
            "193         193  juncutton day 🐰                40045             649   \n",
            "194         194          eden !!                23610             762   \n",
            "196         196          ᵃˡᵉˢⁱᵗᵃ                 7189             301   \n",
            "199         199               ‏ً                13377             210   \n",
            "\n",
            "     fav_count                                   User_location  \\\n",
            "0            0                       she / her  (minor) ✿ ✿ ✿    \n",
            "1            0                                   txt member 🐿️   \n",
            "2            0                       / svt / atz / nct / en- /   \n",
            "3            0                       / svt / atz / nct / en- /   \n",
            "4            0                                    she/her • 20   \n",
            "..         ...                                             ...   \n",
            "192          0                                         ISTJ-A    \n",
            "193          0                           0’3 | waiting for bbh   \n",
            "194          0  he/they ! 🇨🇱\\n404twt + hstwt\\ncbyf ! eng / esp   \n",
            "196          0                              Hermosillo, Sonora   \n",
            "199          0                               yoongi’s illegirl   \n",
            "\n",
            "                                                Tweets  \n",
            "0    [rt, lexhaul, wts, lfb, ph, help, rt, please, ...  \n",
            "1                    [convomfs, danish, green, miniso]  \n",
            "2                                               [bump]  \n",
            "3    [rt, kmjshng, cheolsoo, facts, moments, keep, ...  \n",
            "4    [rt, lexhaul, wts, lfb, ph, help, rt, please, ...  \n",
            "..                                                 ...  \n",
            "192  [rt, sugarsanriio, hello, kitty, cooler, bag, ...  \n",
            "193  [rt, kyvo_gvr, wts, lfb, help, rt, 𓂋, xiumin, ...  \n",
            "194                          [gay, pins, miniso, slay]  \n",
            "196  [rt, sugarsanriio, hello, kitty, cooler, bag, ...  \n",
            "199  [rt, sugarsanriio, hello, kitty, cooler, bag, ...  \n",
            "\n",
            "[135 rows x 7 columns]\n"
          ]
        }
      ]
    },
    {
      "cell_type": "markdown",
      "source": [
        "## Hasil Akhir"
      ],
      "metadata": {
        "id": "lu3mOLILnTjo"
      }
    },
    {
      "cell_type": "code",
      "source": [
        "dataset2.to_csv('/content/gdrive/My Drive/PDB/preprocessing_PDB.csv', index = False)"
      ],
      "metadata": {
        "id": "eMITQ_tWnV1V"
      },
      "execution_count": 29,
      "outputs": []
    },
    {
      "cell_type": "markdown",
      "source": [
        "## Label"
      ],
      "metadata": {
        "id": "GSez-aAP40PL"
      }
    },
    {
      "cell_type": "code",
      "source": [
        "preprocessing = pd.read_csv('preprocessing_PDB.csv')"
      ],
      "metadata": {
        "id": "MJpNHgYy6Tv1"
      },
      "execution_count": 32,
      "outputs": []
    },
    {
      "cell_type": "code",
      "source": [
        "print(preprocessing)"
      ],
      "metadata": {
        "colab": {
          "base_uri": "https://localhost:8080/"
        },
        "id": "-xs9s12L6vj8",
        "outputId": "9f74162f-3659-472e-8711-5abcb96fa71e"
      },
      "execution_count": 33,
      "outputs": [
        {
          "output_type": "stream",
          "name": "stdout",
          "text": [
            "     Unnamed: 0             User  User_statuses_count  user_followers  \\\n",
            "0             0           ven ⛓️                 1005             498   \n",
            "1             1              zay                17674            1051   \n",
            "2             2           h3lluh                 8265             239   \n",
            "3             3           h3lluh                 8265             239   \n",
            "4             4                🍰                 1438             395   \n",
            "..          ...              ...                  ...             ...   \n",
            "130         192               🥢🫕               112853             208   \n",
            "131         193  juncutton day 🐰                40045             649   \n",
            "132         194          eden !!                23610             762   \n",
            "133         196          ᵃˡᵉˢⁱᵗᵃ                 7189             301   \n",
            "134         199               ‏ً                13377             210   \n",
            "\n",
            "     fav_count                                   User_location  \\\n",
            "0            0                       she / her  (minor) ✿ ✿ ✿    \n",
            "1            0                                   txt member 🐿️   \n",
            "2            0                       / svt / atz / nct / en- /   \n",
            "3            0                       / svt / atz / nct / en- /   \n",
            "4            0                                    she/her • 20   \n",
            "..         ...                                             ...   \n",
            "130          0                                         ISTJ-A    \n",
            "131          0                           0’3 | waiting for bbh   \n",
            "132          0  he/they ! 🇨🇱\\n404twt + hstwt\\ncbyf ! eng / esp   \n",
            "133          0                              Hermosillo, Sonora   \n",
            "134          0                               yoongi’s illegirl   \n",
            "\n",
            "                                                Tweets  \n",
            "0    ['rt', 'lexhaul', 'wts', 'lfb', 'ph', 'help', ...  \n",
            "1            ['convomfs', 'danish', 'green', 'miniso']  \n",
            "2                                             ['bump']  \n",
            "3    ['rt', 'kmjshng', 'cheolsoo', 'facts', 'moment...  \n",
            "4    ['rt', 'lexhaul', 'wts', 'lfb', 'ph', 'help', ...  \n",
            "..                                                 ...  \n",
            "130  ['rt', 'sugarsanriio', 'hello', 'kitty', 'cool...  \n",
            "131  ['rt', 'kyvo_gvr', 'wts', 'lfb', 'help', 'rt',...  \n",
            "132                  ['gay', 'pins', 'miniso', 'slay']  \n",
            "133  ['rt', 'sugarsanriio', 'hello', 'kitty', 'cool...  \n",
            "134  ['rt', 'sugarsanriio', 'hello', 'kitty', 'cool...  \n",
            "\n",
            "[135 rows x 7 columns]\n"
          ]
        }
      ]
    },
    {
      "cell_type": "code",
      "source": [
        "print(preprocessing['Tweets'])"
      ],
      "metadata": {
        "colab": {
          "base_uri": "https://localhost:8080/"
        },
        "id": "ylagNxgo62kT",
        "outputId": "00f657cd-18b6-4a2f-c684-4c603f452348"
      },
      "execution_count": 34,
      "outputs": [
        {
          "output_type": "stream",
          "name": "stdout",
          "text": [
            "0      ['rt', 'lexhaul', 'wts', 'lfb', 'ph', 'help', ...\n",
            "1              ['convomfs', 'danish', 'green', 'miniso']\n",
            "2                                               ['bump']\n",
            "3      ['rt', 'kmjshng', 'cheolsoo', 'facts', 'moment...\n",
            "4      ['rt', 'lexhaul', 'wts', 'lfb', 'ph', 'help', ...\n",
            "                             ...                        \n",
            "130    ['rt', 'sugarsanriio', 'hello', 'kitty', 'cool...\n",
            "131    ['rt', 'kyvo_gvr', 'wts', 'lfb', 'help', 'rt',...\n",
            "132                    ['gay', 'pins', 'miniso', 'slay']\n",
            "133    ['rt', 'sugarsanriio', 'hello', 'kitty', 'cool...\n",
            "134    ['rt', 'sugarsanriio', 'hello', 'kitty', 'cool...\n",
            "Name: Tweets, Length: 135, dtype: object\n"
          ]
        }
      ]
    },
    {
      "cell_type": "code",
      "source": [
        "from textblob import TextBlob\n",
        "\n",
        "def getSubjectivity(review):\n",
        "    return TextBlob(review).sentiment.subjectivity\n",
        "\n",
        "def getPolarity(review):\n",
        "    return TextBlob(review).sentiment.polarity\n",
        "\n",
        "def analyze(score):\n",
        "    if score  < 0:\n",
        "        return 'Negative'\n",
        "    elif score == 0:\n",
        "        return 'Netral'\n",
        "    else:\n",
        "        return 'Positive'"
      ],
      "metadata": {
        "id": "Apk0C6GY44AA"
      },
      "execution_count": 35,
      "outputs": []
    },
    {
      "cell_type": "code",
      "source": [
        "final_data = pd.DataFrame(preprocessing[['User', 'User_statuses_count', \n",
        "                             'user_followers','fav_count','User_location','Tweets']])\n",
        "final_data.head()"
      ],
      "metadata": {
        "colab": {
          "base_uri": "https://localhost:8080/",
          "height": 206
        },
        "id": "0KTJ8Osj7W8I",
        "outputId": "7e55f5d0-4c19-422e-b70e-61ee0a6ddc86"
      },
      "execution_count": 37,
      "outputs": [
        {
          "output_type": "execute_result",
          "data": {
            "text/plain": [
              "     User  User_statuses_count  user_followers  fav_count  \\\n",
              "0  ven ⛓️                 1005             498          0   \n",
              "1     zay                17674            1051          0   \n",
              "2  h3lluh                 8265             239          0   \n",
              "3  h3lluh                 8265             239          0   \n",
              "4       🍰                 1438             395          0   \n",
              "\n",
              "               User_location  \\\n",
              "0  she / her  (minor) ✿ ✿ ✿    \n",
              "1              txt member 🐿️   \n",
              "2  / svt / atz / nct / en- /   \n",
              "3  / svt / atz / nct / en- /   \n",
              "4               she/her • 20   \n",
              "\n",
              "                                              Tweets  \n",
              "0  ['rt', 'lexhaul', 'wts', 'lfb', 'ph', 'help', ...  \n",
              "1          ['convomfs', 'danish', 'green', 'miniso']  \n",
              "2                                           ['bump']  \n",
              "3  ['rt', 'kmjshng', 'cheolsoo', 'facts', 'moment...  \n",
              "4  ['rt', 'lexhaul', 'wts', 'lfb', 'ph', 'help', ...  "
            ],
            "text/html": [
              "\n",
              "  <div id=\"df-fb582836-fddc-4711-a8b0-a9511743358b\">\n",
              "    <div class=\"colab-df-container\">\n",
              "      <div>\n",
              "<style scoped>\n",
              "    .dataframe tbody tr th:only-of-type {\n",
              "        vertical-align: middle;\n",
              "    }\n",
              "\n",
              "    .dataframe tbody tr th {\n",
              "        vertical-align: top;\n",
              "    }\n",
              "\n",
              "    .dataframe thead th {\n",
              "        text-align: right;\n",
              "    }\n",
              "</style>\n",
              "<table border=\"1\" class=\"dataframe\">\n",
              "  <thead>\n",
              "    <tr style=\"text-align: right;\">\n",
              "      <th></th>\n",
              "      <th>User</th>\n",
              "      <th>User_statuses_count</th>\n",
              "      <th>user_followers</th>\n",
              "      <th>fav_count</th>\n",
              "      <th>User_location</th>\n",
              "      <th>Tweets</th>\n",
              "    </tr>\n",
              "  </thead>\n",
              "  <tbody>\n",
              "    <tr>\n",
              "      <th>0</th>\n",
              "      <td>ven ⛓️</td>\n",
              "      <td>1005</td>\n",
              "      <td>498</td>\n",
              "      <td>0</td>\n",
              "      <td>she / her  (minor) ✿ ✿ ✿</td>\n",
              "      <td>['rt', 'lexhaul', 'wts', 'lfb', 'ph', 'help', ...</td>\n",
              "    </tr>\n",
              "    <tr>\n",
              "      <th>1</th>\n",
              "      <td>zay</td>\n",
              "      <td>17674</td>\n",
              "      <td>1051</td>\n",
              "      <td>0</td>\n",
              "      <td>txt member 🐿️</td>\n",
              "      <td>['convomfs', 'danish', 'green', 'miniso']</td>\n",
              "    </tr>\n",
              "    <tr>\n",
              "      <th>2</th>\n",
              "      <td>h3lluh</td>\n",
              "      <td>8265</td>\n",
              "      <td>239</td>\n",
              "      <td>0</td>\n",
              "      <td>/ svt / atz / nct / en- /</td>\n",
              "      <td>['bump']</td>\n",
              "    </tr>\n",
              "    <tr>\n",
              "      <th>3</th>\n",
              "      <td>h3lluh</td>\n",
              "      <td>8265</td>\n",
              "      <td>239</td>\n",
              "      <td>0</td>\n",
              "      <td>/ svt / atz / nct / en- /</td>\n",
              "      <td>['rt', 'kmjshng', 'cheolsoo', 'facts', 'moment...</td>\n",
              "    </tr>\n",
              "    <tr>\n",
              "      <th>4</th>\n",
              "      <td>🍰</td>\n",
              "      <td>1438</td>\n",
              "      <td>395</td>\n",
              "      <td>0</td>\n",
              "      <td>she/her • 20</td>\n",
              "      <td>['rt', 'lexhaul', 'wts', 'lfb', 'ph', 'help', ...</td>\n",
              "    </tr>\n",
              "  </tbody>\n",
              "</table>\n",
              "</div>\n",
              "      <button class=\"colab-df-convert\" onclick=\"convertToInteractive('df-fb582836-fddc-4711-a8b0-a9511743358b')\"\n",
              "              title=\"Convert this dataframe to an interactive table.\"\n",
              "              style=\"display:none;\">\n",
              "        \n",
              "  <svg xmlns=\"http://www.w3.org/2000/svg\" height=\"24px\"viewBox=\"0 0 24 24\"\n",
              "       width=\"24px\">\n",
              "    <path d=\"M0 0h24v24H0V0z\" fill=\"none\"/>\n",
              "    <path d=\"M18.56 5.44l.94 2.06.94-2.06 2.06-.94-2.06-.94-.94-2.06-.94 2.06-2.06.94zm-11 1L8.5 8.5l.94-2.06 2.06-.94-2.06-.94L8.5 2.5l-.94 2.06-2.06.94zm10 10l.94 2.06.94-2.06 2.06-.94-2.06-.94-.94-2.06-.94 2.06-2.06.94z\"/><path d=\"M17.41 7.96l-1.37-1.37c-.4-.4-.92-.59-1.43-.59-.52 0-1.04.2-1.43.59L10.3 9.45l-7.72 7.72c-.78.78-.78 2.05 0 2.83L4 21.41c.39.39.9.59 1.41.59.51 0 1.02-.2 1.41-.59l7.78-7.78 2.81-2.81c.8-.78.8-2.07 0-2.86zM5.41 20L4 18.59l7.72-7.72 1.47 1.35L5.41 20z\"/>\n",
              "  </svg>\n",
              "      </button>\n",
              "      \n",
              "  <style>\n",
              "    .colab-df-container {\n",
              "      display:flex;\n",
              "      flex-wrap:wrap;\n",
              "      gap: 12px;\n",
              "    }\n",
              "\n",
              "    .colab-df-convert {\n",
              "      background-color: #E8F0FE;\n",
              "      border: none;\n",
              "      border-radius: 50%;\n",
              "      cursor: pointer;\n",
              "      display: none;\n",
              "      fill: #1967D2;\n",
              "      height: 32px;\n",
              "      padding: 0 0 0 0;\n",
              "      width: 32px;\n",
              "    }\n",
              "\n",
              "    .colab-df-convert:hover {\n",
              "      background-color: #E2EBFA;\n",
              "      box-shadow: 0px 1px 2px rgba(60, 64, 67, 0.3), 0px 1px 3px 1px rgba(60, 64, 67, 0.15);\n",
              "      fill: #174EA6;\n",
              "    }\n",
              "\n",
              "    [theme=dark] .colab-df-convert {\n",
              "      background-color: #3B4455;\n",
              "      fill: #D2E3FC;\n",
              "    }\n",
              "\n",
              "    [theme=dark] .colab-df-convert:hover {\n",
              "      background-color: #434B5C;\n",
              "      box-shadow: 0px 1px 3px 1px rgba(0, 0, 0, 0.15);\n",
              "      filter: drop-shadow(0px 1px 2px rgba(0, 0, 0, 0.3));\n",
              "      fill: #FFFFFF;\n",
              "    }\n",
              "  </style>\n",
              "\n",
              "      <script>\n",
              "        const buttonEl =\n",
              "          document.querySelector('#df-fb582836-fddc-4711-a8b0-a9511743358b button.colab-df-convert');\n",
              "        buttonEl.style.display =\n",
              "          google.colab.kernel.accessAllowed ? 'block' : 'none';\n",
              "\n",
              "        async function convertToInteractive(key) {\n",
              "          const element = document.querySelector('#df-fb582836-fddc-4711-a8b0-a9511743358b');\n",
              "          const dataTable =\n",
              "            await google.colab.kernel.invokeFunction('convertToInteractive',\n",
              "                                                     [key], {});\n",
              "          if (!dataTable) return;\n",
              "\n",
              "          const docLinkHtml = 'Like what you see? Visit the ' +\n",
              "            '<a target=\"_blank\" href=https://colab.research.google.com/notebooks/data_table.ipynb>data table notebook</a>'\n",
              "            + ' to learn more about interactive tables.';\n",
              "          element.innerHTML = '';\n",
              "          dataTable['output_type'] = 'display_data';\n",
              "          await google.colab.output.renderOutput(dataTable, element);\n",
              "          const docLink = document.createElement('div');\n",
              "          docLink.innerHTML = docLinkHtml;\n",
              "          element.appendChild(docLink);\n",
              "        }\n",
              "      </script>\n",
              "    </div>\n",
              "  </div>\n",
              "  "
            ]
          },
          "metadata": {},
          "execution_count": 37
        }
      ]
    },
    {
      "cell_type": "code",
      "source": [
        "final_data['Subjectivity'] = final_data['Tweets'].apply(getSubjectivity)\n",
        "final_data['Polarity'] =  final_data['Tweets'].apply(getPolarity)\n",
        "final_data['TextBlob'] = final_data['Polarity'].apply(analyze)\n",
        "final_data.head()"
      ],
      "metadata": {
        "colab": {
          "base_uri": "https://localhost:8080/",
          "height": 206
        },
        "id": "s8QpoYlt7q8q",
        "outputId": "7ed67faf-d414-4461-bd1f-f9afcc39d642"
      },
      "execution_count": 39,
      "outputs": [
        {
          "output_type": "execute_result",
          "data": {
            "text/plain": [
              "     User  User_statuses_count  user_followers  fav_count  \\\n",
              "0  ven ⛓️                 1005             498          0   \n",
              "1     zay                17674            1051          0   \n",
              "2  h3lluh                 8265             239          0   \n",
              "3  h3lluh                 8265             239          0   \n",
              "4       🍰                 1438             395          0   \n",
              "\n",
              "               User_location  \\\n",
              "0  she / her  (minor) ✿ ✿ ✿    \n",
              "1              txt member 🐿️   \n",
              "2  / svt / atz / nct / en- /   \n",
              "3  / svt / atz / nct / en- /   \n",
              "4               she/her • 20   \n",
              "\n",
              "                                              Tweets  Subjectivity  Polarity  \\\n",
              "0  ['rt', 'lexhaul', 'wts', 'lfb', 'ph', 'help', ...           0.1      0.05   \n",
              "1          ['convomfs', 'danish', 'green', 'miniso']           0.3     -0.20   \n",
              "2                                           ['bump']           0.0      0.00   \n",
              "3  ['rt', 'kmjshng', 'cheolsoo', 'facts', 'moment...           0.0      0.00   \n",
              "4  ['rt', 'lexhaul', 'wts', 'lfb', 'ph', 'help', ...           0.1      0.05   \n",
              "\n",
              "   TextBlob  \n",
              "0  Positive  \n",
              "1  Negative  \n",
              "2    Netral  \n",
              "3    Netral  \n",
              "4  Positive  "
            ],
            "text/html": [
              "\n",
              "  <div id=\"df-8c4843c0-00d7-43e1-b7e6-69aac35a8235\">\n",
              "    <div class=\"colab-df-container\">\n",
              "      <div>\n",
              "<style scoped>\n",
              "    .dataframe tbody tr th:only-of-type {\n",
              "        vertical-align: middle;\n",
              "    }\n",
              "\n",
              "    .dataframe tbody tr th {\n",
              "        vertical-align: top;\n",
              "    }\n",
              "\n",
              "    .dataframe thead th {\n",
              "        text-align: right;\n",
              "    }\n",
              "</style>\n",
              "<table border=\"1\" class=\"dataframe\">\n",
              "  <thead>\n",
              "    <tr style=\"text-align: right;\">\n",
              "      <th></th>\n",
              "      <th>User</th>\n",
              "      <th>User_statuses_count</th>\n",
              "      <th>user_followers</th>\n",
              "      <th>fav_count</th>\n",
              "      <th>User_location</th>\n",
              "      <th>Tweets</th>\n",
              "      <th>Subjectivity</th>\n",
              "      <th>Polarity</th>\n",
              "      <th>TextBlob</th>\n",
              "    </tr>\n",
              "  </thead>\n",
              "  <tbody>\n",
              "    <tr>\n",
              "      <th>0</th>\n",
              "      <td>ven ⛓️</td>\n",
              "      <td>1005</td>\n",
              "      <td>498</td>\n",
              "      <td>0</td>\n",
              "      <td>she / her  (minor) ✿ ✿ ✿</td>\n",
              "      <td>['rt', 'lexhaul', 'wts', 'lfb', 'ph', 'help', ...</td>\n",
              "      <td>0.1</td>\n",
              "      <td>0.05</td>\n",
              "      <td>Positive</td>\n",
              "    </tr>\n",
              "    <tr>\n",
              "      <th>1</th>\n",
              "      <td>zay</td>\n",
              "      <td>17674</td>\n",
              "      <td>1051</td>\n",
              "      <td>0</td>\n",
              "      <td>txt member 🐿️</td>\n",
              "      <td>['convomfs', 'danish', 'green', 'miniso']</td>\n",
              "      <td>0.3</td>\n",
              "      <td>-0.20</td>\n",
              "      <td>Negative</td>\n",
              "    </tr>\n",
              "    <tr>\n",
              "      <th>2</th>\n",
              "      <td>h3lluh</td>\n",
              "      <td>8265</td>\n",
              "      <td>239</td>\n",
              "      <td>0</td>\n",
              "      <td>/ svt / atz / nct / en- /</td>\n",
              "      <td>['bump']</td>\n",
              "      <td>0.0</td>\n",
              "      <td>0.00</td>\n",
              "      <td>Netral</td>\n",
              "    </tr>\n",
              "    <tr>\n",
              "      <th>3</th>\n",
              "      <td>h3lluh</td>\n",
              "      <td>8265</td>\n",
              "      <td>239</td>\n",
              "      <td>0</td>\n",
              "      <td>/ svt / atz / nct / en- /</td>\n",
              "      <td>['rt', 'kmjshng', 'cheolsoo', 'facts', 'moment...</td>\n",
              "      <td>0.0</td>\n",
              "      <td>0.00</td>\n",
              "      <td>Netral</td>\n",
              "    </tr>\n",
              "    <tr>\n",
              "      <th>4</th>\n",
              "      <td>🍰</td>\n",
              "      <td>1438</td>\n",
              "      <td>395</td>\n",
              "      <td>0</td>\n",
              "      <td>she/her • 20</td>\n",
              "      <td>['rt', 'lexhaul', 'wts', 'lfb', 'ph', 'help', ...</td>\n",
              "      <td>0.1</td>\n",
              "      <td>0.05</td>\n",
              "      <td>Positive</td>\n",
              "    </tr>\n",
              "  </tbody>\n",
              "</table>\n",
              "</div>\n",
              "      <button class=\"colab-df-convert\" onclick=\"convertToInteractive('df-8c4843c0-00d7-43e1-b7e6-69aac35a8235')\"\n",
              "              title=\"Convert this dataframe to an interactive table.\"\n",
              "              style=\"display:none;\">\n",
              "        \n",
              "  <svg xmlns=\"http://www.w3.org/2000/svg\" height=\"24px\"viewBox=\"0 0 24 24\"\n",
              "       width=\"24px\">\n",
              "    <path d=\"M0 0h24v24H0V0z\" fill=\"none\"/>\n",
              "    <path d=\"M18.56 5.44l.94 2.06.94-2.06 2.06-.94-2.06-.94-.94-2.06-.94 2.06-2.06.94zm-11 1L8.5 8.5l.94-2.06 2.06-.94-2.06-.94L8.5 2.5l-.94 2.06-2.06.94zm10 10l.94 2.06.94-2.06 2.06-.94-2.06-.94-.94-2.06-.94 2.06-2.06.94z\"/><path d=\"M17.41 7.96l-1.37-1.37c-.4-.4-.92-.59-1.43-.59-.52 0-1.04.2-1.43.59L10.3 9.45l-7.72 7.72c-.78.78-.78 2.05 0 2.83L4 21.41c.39.39.9.59 1.41.59.51 0 1.02-.2 1.41-.59l7.78-7.78 2.81-2.81c.8-.78.8-2.07 0-2.86zM5.41 20L4 18.59l7.72-7.72 1.47 1.35L5.41 20z\"/>\n",
              "  </svg>\n",
              "      </button>\n",
              "      \n",
              "  <style>\n",
              "    .colab-df-container {\n",
              "      display:flex;\n",
              "      flex-wrap:wrap;\n",
              "      gap: 12px;\n",
              "    }\n",
              "\n",
              "    .colab-df-convert {\n",
              "      background-color: #E8F0FE;\n",
              "      border: none;\n",
              "      border-radius: 50%;\n",
              "      cursor: pointer;\n",
              "      display: none;\n",
              "      fill: #1967D2;\n",
              "      height: 32px;\n",
              "      padding: 0 0 0 0;\n",
              "      width: 32px;\n",
              "    }\n",
              "\n",
              "    .colab-df-convert:hover {\n",
              "      background-color: #E2EBFA;\n",
              "      box-shadow: 0px 1px 2px rgba(60, 64, 67, 0.3), 0px 1px 3px 1px rgba(60, 64, 67, 0.15);\n",
              "      fill: #174EA6;\n",
              "    }\n",
              "\n",
              "    [theme=dark] .colab-df-convert {\n",
              "      background-color: #3B4455;\n",
              "      fill: #D2E3FC;\n",
              "    }\n",
              "\n",
              "    [theme=dark] .colab-df-convert:hover {\n",
              "      background-color: #434B5C;\n",
              "      box-shadow: 0px 1px 3px 1px rgba(0, 0, 0, 0.15);\n",
              "      filter: drop-shadow(0px 1px 2px rgba(0, 0, 0, 0.3));\n",
              "      fill: #FFFFFF;\n",
              "    }\n",
              "  </style>\n",
              "\n",
              "      <script>\n",
              "        const buttonEl =\n",
              "          document.querySelector('#df-8c4843c0-00d7-43e1-b7e6-69aac35a8235 button.colab-df-convert');\n",
              "        buttonEl.style.display =\n",
              "          google.colab.kernel.accessAllowed ? 'block' : 'none';\n",
              "\n",
              "        async function convertToInteractive(key) {\n",
              "          const element = document.querySelector('#df-8c4843c0-00d7-43e1-b7e6-69aac35a8235');\n",
              "          const dataTable =\n",
              "            await google.colab.kernel.invokeFunction('convertToInteractive',\n",
              "                                                     [key], {});\n",
              "          if (!dataTable) return;\n",
              "\n",
              "          const docLinkHtml = 'Like what you see? Visit the ' +\n",
              "            '<a target=\"_blank\" href=https://colab.research.google.com/notebooks/data_table.ipynb>data table notebook</a>'\n",
              "            + ' to learn more about interactive tables.';\n",
              "          element.innerHTML = '';\n",
              "          dataTable['output_type'] = 'display_data';\n",
              "          await google.colab.output.renderOutput(dataTable, element);\n",
              "          const docLink = document.createElement('div');\n",
              "          docLink.innerHTML = docLinkHtml;\n",
              "          element.appendChild(docLink);\n",
              "        }\n",
              "      </script>\n",
              "    </div>\n",
              "  </div>\n",
              "  "
            ]
          },
          "metadata": {},
          "execution_count": 39
        }
      ]
    },
    {
      "cell_type": "code",
      "source": [
        "tb_counts = final_data.TextBlob.value_counts()\n",
        "tb_counts"
      ],
      "metadata": {
        "colab": {
          "base_uri": "https://localhost:8080/"
        },
        "id": "WB_xiJFX70Uf",
        "outputId": "baaf8ff1-0f28-4914-b49d-fd7958c7456f"
      },
      "execution_count": 40,
      "outputs": [
        {
          "output_type": "execute_result",
          "data": {
            "text/plain": [
              "Netral      70\n",
              "Positive    56\n",
              "Negative     9\n",
              "Name: TextBlob, dtype: int64"
            ]
          },
          "metadata": {},
          "execution_count": 40
        }
      ]
    },
    {
      "cell_type": "code",
      "source": [
        "import matplotlib.pyplot as plt\n",
        "%matplotlib inline\n",
        "\n",
        "plt.figure(figsize=(10,27))\n",
        "plt.pie(tb_counts.values, labels=tb_counts.index, explode=(0,0,0.25), autopct='%1.1f%%', shadow=False)"
      ],
      "metadata": {
        "colab": {
          "base_uri": "https://localhost:8080/",
          "height": 745
        },
        "id": "px2BYTYR75KH",
        "outputId": "5086f4e1-1f8c-41f7-9fa0-806c91c43b3d"
      },
      "execution_count": 41,
      "outputs": [
        {
          "output_type": "execute_result",
          "data": {
            "text/plain": [
              "([<matplotlib.patches.Wedge at 0x7f67a6e3a390>,\n",
              "  <matplotlib.patches.Wedge at 0x7f67a6e39950>,\n",
              "  <matplotlib.patches.Wedge at 0x7f67a6e36e10>],\n",
              " [Text(-0.06395927372182293, 1.0981389763162843, 'Netral'),\n",
              "  Text(-0.1657544094214646, -1.0874398722491934, 'Positive'),\n",
              "  Text(1.3204992185058648, -0.2806809824790417, 'Negative')],\n",
              " [Text(-0.03488687657553978, 0.5989848961725187, '51.9%'),\n",
              "  Text(-0.0904114960480716, -0.5931490212268327, '41.5%'),\n",
              "  Text(0.8314254338740631, -0.17672506304235958, '6.7%')])"
            ]
          },
          "metadata": {},
          "execution_count": 41
        },
        {
          "output_type": "display_data",
          "data": {
            "text/plain": [
              "<Figure size 720x1944 with 1 Axes>"
            ],
            "image/png": "[encoded data removed]"
          },
          "metadata": {}
        }
      ]
    },
    {
      "cell_type": "code",
      "source": [
        "final_data.to_csv('/content/gdrive/My Drive/PDB/DataFinal_PDB.csv', index = False)"
      ],
      "metadata": {
        "id": "WKWAAh2c8Iwf"
      },
      "execution_count": 42,
      "outputs": []
    }
  ],
  "metadata": {
    "kernelspec": {
      "display_name": "Python 3",
      "language": "python",
      "name": "python3"
    },
    "language_info": {
      "codemirror_mode": {
        "name": "ipython",
        "version": 3
      },
      "file_extension": ".py",
      "mimetype": "text/x-python",
      "name": "python",
      "nbconvert_exporter": "python",
      "pygments_lexer": "ipython3",
      "version": "3.7.0"
    },
    "colab": {
      "name": "Twitter_Sentiment_analysis.ipynb",
      "provenance": [],
      "collapsed_sections": []
    }
  },
  "nbformat": 4,
  "nbformat_minor": 0
}