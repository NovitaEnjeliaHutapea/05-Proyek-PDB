{
  "cells": [
    {
      "cell_type": "markdown",
      "source": [
        "Streaming data dan data preprocessing Kelompok 5 PDB\n",
        "\n",
        "12S18002 : Wiranda Siahaan\n",
        "\n",
        "12S18009 : Novita Enjelia Hutapea\n",
        "\n",
        "12S18041 : Merika H. Manurung\n",
        "\n",
        "12S18046 : Tiara Octavia Situmorang"
      ],
      "metadata": {
        "id": "0m_V-x4raepf"
      }
    },
    {
      "cell_type": "markdown",
      "metadata": {
        "id": "TnwdpQQpAFOa"
      },
      "source": [
        "# Consume twitter steaming data"
      ]
    },
    {
      "cell_type": "code",
      "source": [
        "from google.colab import drive\n",
        "drive.mount(\"/content/gdrive\")"
      ],
      "metadata": {
        "colab": {
          "base_uri": "https://localhost:8080/"
        },
        "id": "IqKU5opooAC6",
        "outputId": "a515643a-bce7-4996-a523-ed4a5c368db5"
      },
      "execution_count": null,
      "outputs": [
        {
          "output_type": "stream",
          "name": "stdout",
          "text": [
            "Mounted at /content/gdrive\n"
          ]
        }
      ]
    },
    {
      "cell_type": "code",
      "execution_count": null,
      "metadata": {
        "id": "5MpMC5-LAFOb"
      },
      "outputs": [],
      "source": [
        "import tweepy\n",
        "from tweepy import OAuthHandler\n",
        "from tweepy import Stream\n",
        "import socket\n",
        "import json\n",
        "import numpy as np\n",
        "import pandas as pd"
      ]
    },
    {
      "cell_type": "code",
      "execution_count": null,
      "metadata": {
        "id": "_QGBV7tZAFOb"
      },
      "outputs": [],
      "source": [
        "#Kindly put your credentials received from twitter developer account\n",
        "consumer_key='2mTmxHwkZramjVDOewE2dybgQ'\n",
        "consumer_secret='dJ42E93prTAze5BoF4wAIcxYA6gXfu9rGrHr6gguUt85xcHJSi'\n",
        "access_token ='1517128047019040768-YMZCcFIf6VLbZXNkJsa79sZk70xFkM'\n",
        "access_secret='Auwa9WPIktjUCrgQmzceZsdMtMA2hbnebSR7QlmYEdrlq'"
      ]
    },
    {
      "cell_type": "code",
      "execution_count": null,
      "metadata": {
        "id": "rDEboMq1AFOc"
      },
      "outputs": [],
      "source": [
        "auth = tweepy.OAuthHandler(consumer_key, consumer_secret)\n",
        "auth.set_access_token(access_token, access_secret)\n",
        "api = tweepy.API(auth)"
      ]
    },
    {
      "cell_type": "code",
      "execution_count": null,
      "metadata": {
        "colab": {
          "base_uri": "https://localhost:8080/"
        },
        "id": "Q5KeigjBAFOc",
        "outputId": "13ce6611-a822-46ed-98c3-5870d1a9ed49"
      },
      "outputs": [
        {
          "output_type": "stream",
          "name": "stdout",
          "text": [
            "@convomfs 3 ini. Tp yang British rose jarang pake.\n",
            "Yang miniso body mist sih. Gue bukan ahli parfum jadi semuanya s… https://t.co/slRCTCaRWj\n",
            "@Pranaa__ awet gk si parfumnya miniso?\n",
            "RT @FergieGo: Me encontré a la @JenySweet1 en el Miniso. https://t.co/f8KSXfhqw3\n",
            "miniso has these and theyre so cute 😫 https://t.co/Wr0jqTA4yB\n",
            "@convomfs Original Source Vanilla Raspberry, Zwitsal, Miniso Red Fruits &amp; Musk, Heaven Scent yg Black Amber sama Wo… https://t.co/T0Vd26tkry\n",
            "Miniso turned into a gym and he was doing weights infront of me🥲\n",
            "@tanyakanrl Beli sendok sama sumpit di miniso\n",
            "@capriesed baru sembuh kemaren abis sakit huhuhu, wah parfum miniso emg lumayan enak2 ya wanginyaa\n",
            "@OlixYT Yes but I was too shy too ask 😅 it's okay if no for me I appreciate it\n",
            "Ir a miniso o el mejor parche del mundo?\n",
            "eriask! Wta figure exo miniso sehun ridi ina harga nya brp ya?\n",
            "˗ˏˋ 50฿ รวมส่ง กระเป๋าสะพายข้างเอลโม่ซื้อมาจาก miniso ´ˎ˗\n",
            "\n",
            "#ส่งต่อกระเป๋า #ส่งต่อ #กระเป๋า #กระเป๋าสะพาย… https://t.co/1AfbCTbLOA\n",
            "@miniso_ph kailan niyo balak magbenta ng plushie ni anya?? 😩\n",
            "MINISO Corporation has filed for FCC ID approval on K-346 IPX4 Waterproof Speaker with Suction Cup  https://t.co/aZhSHtmEF3\n",
            "Necesito ir a miniso por un ventilador y por cosas que necesito, pero en realidad no necesito jajaja\n"
          ]
        }
      ],
      "source": [
        "for tweet in api.search(q='miniso', lan='en'):    \n",
        "    print(tweet.text)"
      ]
    },
    {
      "cell_type": "code",
      "execution_count": null,
      "metadata": {
        "id": "kEtE6TH1AFOd"
      },
      "outputs": [],
      "source": [
        "tweetDf = pd.DataFrame(columns = ['User', 'User_statuses_count', \n",
        "                             'user_followers','fav_count','User_location','Tweets',])"
      ]
    },
    {
      "cell_type": "code",
      "execution_count": null,
      "metadata": {
        "id": "yluw1S9eAFOd"
      },
      "outputs": [],
      "source": [
        "def stream(data, file_name):\n",
        "    i = 0\n",
        "    for tweet in tweepy.Cursor(api.search, q=data, count=100000, lang='en').items():\n",
        "        print(i, end='\\r')\n",
        "        tweetDf.loc[i, 'User'] = tweet.user.name\n",
        "        tweetDf.loc[i, 'User_statuses_count'] = tweet.user.statuses_count\n",
        "        tweetDf.loc[i, 'user_followers'] = tweet.user.followers_count\n",
        "        tweetDf.loc[i, 'fav_count'] = tweet.favorite_count\n",
        "        tweetDf.loc[i, 'User_location'] = tweet.user.location\n",
        "        tweetDf.loc[i, 'Tweets'] = tweet.text\n",
        "        \n",
        "        \n",
        "        tweetDf.to_csv('{}.csv'.format(file_name))\n",
        "        i+=1\n",
        "        if i == 200:\n",
        "            break\n",
        "        else:\n",
        "            pass"
      ]
    },
    {
      "cell_type": "code",
      "execution_count": null,
      "metadata": {
        "colab": {
          "base_uri": "https://localhost:8080/"
        },
        "id": "SMUB8DGxAFOe",
        "outputId": "48ed68ef-c98a-4cf1-bcea-30ae411ef8b6"
      },
      "outputs": [
        {
          "output_type": "stream",
          "name": "stdout",
          "text": [
            ""
          ]
        }
      ],
      "source": [
        "stream(data = ['miniso'], file_name = 'miniso_2021')"
      ]
    },
    {
      "cell_type": "code",
      "execution_count": null,
      "metadata": {
        "colab": {
          "base_uri": "https://localhost:8080/",
          "height": 206
        },
        "id": "H4vWvkRuAFOf",
        "outputId": "bea86e07-c865-426b-cbcd-3efafcc344cb"
      },
      "outputs": [
        {
          "output_type": "execute_result",
          "data": {
            "text/plain": [
              "                      User User_statuses_count user_followers fav_count  \\\n",
              "0  mitski stans tehran⁷ ☼𓃬               23627            883         0   \n",
              "1        lelee | kinda ia.                4837             72         0   \n",
              "2                  Upadhya               15384           2775         5   \n",
              "3      JHONRAFFY MORTIFERO                 359             21         0   \n",
              "4                   FCC ID               86152           1286         0   \n",
              "\n",
              "                 User_location  \\\n",
              "0  she/her/not my main account   \n",
              "1      ini rant berkedok main    \n",
              "2                    Sri Lanka   \n",
              "3                 Philippines    \n",
              "4                United States   \n",
              "\n",
              "                                              Tweets  \n",
              "0  miniso has these and theyre so cute 😫 https://...  \n",
              "1  @convomfs Original Source Vanilla Raspberry, Z...  \n",
              "2  Miniso turned into a gym and he was doing weig...  \n",
              "3  @OlixYT Yes but I was too shy too ask 😅 it's o...  \n",
              "4  MINISO Corporation has filed for FCC ID approv...  "
            ],
            "text/html": [
              "\n",
              "  <div id=\"df-9c5a5410-3e22-4270-921a-4323b9d13d7f\">\n",
              "    <div class=\"colab-df-container\">\n",
              "      <div>\n",
              "<style scoped>\n",
              "    .dataframe tbody tr th:only-of-type {\n",
              "        vertical-align: middle;\n",
              "    }\n",
              "\n",
              "    .dataframe tbody tr th {\n",
              "        vertical-align: top;\n",
              "    }\n",
              "\n",
              "    .dataframe thead th {\n",
              "        text-align: right;\n",
              "    }\n",
              "</style>\n",
              "<table border=\"1\" class=\"dataframe\">\n",
              "  <thead>\n",
              "    <tr style=\"text-align: right;\">\n",
              "      <th></th>\n",
              "      <th>User</th>\n",
              "      <th>User_statuses_count</th>\n",
              "      <th>user_followers</th>\n",
              "      <th>fav_count</th>\n",
              "      <th>User_location</th>\n",
              "      <th>Tweets</th>\n",
              "    </tr>\n",
              "  </thead>\n",
              "  <tbody>\n",
              "    <tr>\n",
              "      <th>0</th>\n",
              "      <td>mitski stans tehran⁷ ☼𓃬</td>\n",
              "      <td>23627</td>\n",
              "      <td>883</td>\n",
              "      <td>0</td>\n",
              "      <td>she/her/not my main account</td>\n",
              "      <td>miniso has these and theyre so cute 😫 https://...</td>\n",
              "    </tr>\n",
              "    <tr>\n",
              "      <th>1</th>\n",
              "      <td>lelee | kinda ia.</td>\n",
              "      <td>4837</td>\n",
              "      <td>72</td>\n",
              "      <td>0</td>\n",
              "      <td>ini rant berkedok main</td>\n",
              "      <td>@convomfs Original Source Vanilla Raspberry, Z...</td>\n",
              "    </tr>\n",
              "    <tr>\n",
              "      <th>2</th>\n",
              "      <td>Upadhya</td>\n",
              "      <td>15384</td>\n",
              "      <td>2775</td>\n",
              "      <td>5</td>\n",
              "      <td>Sri Lanka</td>\n",
              "      <td>Miniso turned into a gym and he was doing weig...</td>\n",
              "    </tr>\n",
              "    <tr>\n",
              "      <th>3</th>\n",
              "      <td>JHONRAFFY MORTIFERO</td>\n",
              "      <td>359</td>\n",
              "      <td>21</td>\n",
              "      <td>0</td>\n",
              "      <td>Philippines</td>\n",
              "      <td>@OlixYT Yes but I was too shy too ask 😅 it's o...</td>\n",
              "    </tr>\n",
              "    <tr>\n",
              "      <th>4</th>\n",
              "      <td>FCC ID</td>\n",
              "      <td>86152</td>\n",
              "      <td>1286</td>\n",
              "      <td>0</td>\n",
              "      <td>United States</td>\n",
              "      <td>MINISO Corporation has filed for FCC ID approv...</td>\n",
              "    </tr>\n",
              "  </tbody>\n",
              "</table>\n",
              "</div>\n",
              "      <button class=\"colab-df-convert\" onclick=\"convertToInteractive('df-9c5a5410-3e22-4270-921a-4323b9d13d7f')\"\n",
              "              title=\"Convert this dataframe to an interactive table.\"\n",
              "              style=\"display:none;\">\n",
              "        \n",
              "  <svg xmlns=\"http://www.w3.org/2000/svg\" height=\"24px\"viewBox=\"0 0 24 24\"\n",
              "       width=\"24px\">\n",
              "    <path d=\"M0 0h24v24H0V0z\" fill=\"none\"/>\n",
              "    <path d=\"M18.56 5.44l.94 2.06.94-2.06 2.06-.94-2.06-.94-.94-2.06-.94 2.06-2.06.94zm-11 1L8.5 8.5l.94-2.06 2.06-.94-2.06-.94L8.5 2.5l-.94 2.06-2.06.94zm10 10l.94 2.06.94-2.06 2.06-.94-2.06-.94-.94-2.06-.94 2.06-2.06.94z\"/><path d=\"M17.41 7.96l-1.37-1.37c-.4-.4-.92-.59-1.43-.59-.52 0-1.04.2-1.43.59L10.3 9.45l-7.72 7.72c-.78.78-.78 2.05 0 2.83L4 21.41c.39.39.9.59 1.41.59.51 0 1.02-.2 1.41-.59l7.78-7.78 2.81-2.81c.8-.78.8-2.07 0-2.86zM5.41 20L4 18.59l7.72-7.72 1.47 1.35L5.41 20z\"/>\n",
              "  </svg>\n",
              "      </button>\n",
              "      \n",
              "  <style>\n",
              "    .colab-df-container {\n",
              "      display:flex;\n",
              "      flex-wrap:wrap;\n",
              "      gap: 12px;\n",
              "    }\n",
              "\n",
              "    .colab-df-convert {\n",
              "      background-color: #E8F0FE;\n",
              "      border: none;\n",
              "      border-radius: 50%;\n",
              "      cursor: pointer;\n",
              "      display: none;\n",
              "      fill: #1967D2;\n",
              "      height: 32px;\n",
              "      padding: 0 0 0 0;\n",
              "      width: 32px;\n",
              "    }\n",
              "\n",
              "    .colab-df-convert:hover {\n",
              "      background-color: #E2EBFA;\n",
              "      box-shadow: 0px 1px 2px rgba(60, 64, 67, 0.3), 0px 1px 3px 1px rgba(60, 64, 67, 0.15);\n",
              "      fill: #174EA6;\n",
              "    }\n",
              "\n",
              "    [theme=dark] .colab-df-convert {\n",
              "      background-color: #3B4455;\n",
              "      fill: #D2E3FC;\n",
              "    }\n",
              "\n",
              "    [theme=dark] .colab-df-convert:hover {\n",
              "      background-color: #434B5C;\n",
              "      box-shadow: 0px 1px 3px 1px rgba(0, 0, 0, 0.15);\n",
              "      filter: drop-shadow(0px 1px 2px rgba(0, 0, 0, 0.3));\n",
              "      fill: #FFFFFF;\n",
              "    }\n",
              "  </style>\n",
              "\n",
              "      <script>\n",
              "        const buttonEl =\n",
              "          document.querySelector('#df-9c5a5410-3e22-4270-921a-4323b9d13d7f button.colab-df-convert');\n",
              "        buttonEl.style.display =\n",
              "          google.colab.kernel.accessAllowed ? 'block' : 'none';\n",
              "\n",
              "        async function convertToInteractive(key) {\n",
              "          const element = document.querySelector('#df-9c5a5410-3e22-4270-921a-4323b9d13d7f');\n",
              "          const dataTable =\n",
              "            await google.colab.kernel.invokeFunction('convertToInteractive',\n",
              "                                                     [key], {});\n",
              "          if (!dataTable) return;\n",
              "\n",
              "          const docLinkHtml = 'Like what you see? Visit the ' +\n",
              "            '<a target=\"_blank\" href=https://colab.research.google.com/notebooks/data_table.ipynb>data table notebook</a>'\n",
              "            + ' to learn more about interactive tables.';\n",
              "          element.innerHTML = '';\n",
              "          dataTable['output_type'] = 'display_data';\n",
              "          await google.colab.output.renderOutput(dataTable, element);\n",
              "          const docLink = document.createElement('div');\n",
              "          docLink.innerHTML = docLinkHtml;\n",
              "          element.appendChild(docLink);\n",
              "        }\n",
              "      </script>\n",
              "    </div>\n",
              "  </div>\n",
              "  "
            ]
          },
          "metadata": {},
          "execution_count": 10
        }
      ],
      "source": [
        "tweetDf.head()"
      ]
    },
    {
      "cell_type": "markdown",
      "source": [
        "## Data Preprocessing"
      ],
      "metadata": {
        "id": "TJTZJe2ZUtlR"
      }
    },
    {
      "cell_type": "code",
      "source": [
        "# libraries\n",
        "import numpy as np # used for handling numbers\n",
        "import pandas as pd # used for handling the dataset\n",
        "from sklearn.impute import SimpleImputer # used for handling missing data\n",
        "from sklearn.preprocessing import LabelEncoder, OneHotEncoder # used for encoding categorical data\n",
        "from sklearn.model_selection import train_test_split # used for splitting training and testing data\n",
        "from sklearn.preprocessing import StandardScaler # used for feature scaling"
      ],
      "metadata": {
        "id": "o2xV35ZNUyYl"
      },
      "execution_count": null,
      "outputs": []
    },
    {
      "cell_type": "code",
      "source": [
        "dataset = pd.read_csv('miniso_2021.csv') # to import the dataset into a variable\n",
        "# Splitting the attributes into independent and dependent attributes\n",
        "X = dataset.iloc[:, :-1].values # attributes to determine dependent variable / Class\n",
        "Y = dataset.iloc[:, -1].values # dependent variable / Class"
      ],
      "metadata": {
        "id": "leyrFBwoVMwE"
      },
      "execution_count": null,
      "outputs": []
    },
    {
      "cell_type": "code",
      "source": [
        "dataset.head()"
      ],
      "metadata": {
        "colab": {
          "base_uri": "https://localhost:8080/",
          "height": 206
        },
        "id": "rilWqXeeWFIl",
        "outputId": "acd76509-93c8-4b39-a9c7-acf2a5f0350e"
      },
      "execution_count": null,
      "outputs": [
        {
          "output_type": "execute_result",
          "data": {
            "text/plain": [
              "   Unnamed: 0                     User  User_statuses_count  user_followers  \\\n",
              "0           0  mitski stans tehran⁷ ☼𓃬                23627             883   \n",
              "1           1        lelee | kinda ia.                 4837              72   \n",
              "2           2                  Upadhya                15384            2775   \n",
              "3           3      JHONRAFFY MORTIFERO                  359              21   \n",
              "4           4                   FCC ID                86152            1286   \n",
              "\n",
              "   fav_count                User_location  \\\n",
              "0          0  she/her/not my main account   \n",
              "1          0      ini rant berkedok main    \n",
              "2          5                    Sri Lanka   \n",
              "3          0                 Philippines    \n",
              "4          0                United States   \n",
              "\n",
              "                                              Tweets  \n",
              "0  miniso has these and theyre so cute 😫 https://...  \n",
              "1  @convomfs Original Source Vanilla Raspberry, Z...  \n",
              "2  Miniso turned into a gym and he was doing weig...  \n",
              "3  @OlixYT Yes but I was too shy too ask 😅 it's o...  \n",
              "4  MINISO Corporation has filed for FCC ID approv...  "
            ],
            "text/html": [
              "\n",
              "  <div id=\"df-c9e49a8b-3a3d-4b84-8f15-974ee2da491f\">\n",
              "    <div class=\"colab-df-container\">\n",
              "      <div>\n",
              "<style scoped>\n",
              "    .dataframe tbody tr th:only-of-type {\n",
              "        vertical-align: middle;\n",
              "    }\n",
              "\n",
              "    .dataframe tbody tr th {\n",
              "        vertical-align: top;\n",
              "    }\n",
              "\n",
              "    .dataframe thead th {\n",
              "        text-align: right;\n",
              "    }\n",
              "</style>\n",
              "<table border=\"1\" class=\"dataframe\">\n",
              "  <thead>\n",
              "    <tr style=\"text-align: right;\">\n",
              "      <th></th>\n",
              "      <th>Unnamed: 0</th>\n",
              "      <th>User</th>\n",
              "      <th>User_statuses_count</th>\n",
              "      <th>user_followers</th>\n",
              "      <th>fav_count</th>\n",
              "      <th>User_location</th>\n",
              "      <th>Tweets</th>\n",
              "    </tr>\n",
              "  </thead>\n",
              "  <tbody>\n",
              "    <tr>\n",
              "      <th>0</th>\n",
              "      <td>0</td>\n",
              "      <td>mitski stans tehran⁷ ☼𓃬</td>\n",
              "      <td>23627</td>\n",
              "      <td>883</td>\n",
              "      <td>0</td>\n",
              "      <td>she/her/not my main account</td>\n",
              "      <td>miniso has these and theyre so cute 😫 https://...</td>\n",
              "    </tr>\n",
              "    <tr>\n",
              "      <th>1</th>\n",
              "      <td>1</td>\n",
              "      <td>lelee | kinda ia.</td>\n",
              "      <td>4837</td>\n",
              "      <td>72</td>\n",
              "      <td>0</td>\n",
              "      <td>ini rant berkedok main</td>\n",
              "      <td>@convomfs Original Source Vanilla Raspberry, Z...</td>\n",
              "    </tr>\n",
              "    <tr>\n",
              "      <th>2</th>\n",
              "      <td>2</td>\n",
              "      <td>Upadhya</td>\n",
              "      <td>15384</td>\n",
              "      <td>2775</td>\n",
              "      <td>5</td>\n",
              "      <td>Sri Lanka</td>\n",
              "      <td>Miniso turned into a gym and he was doing weig...</td>\n",
              "    </tr>\n",
              "    <tr>\n",
              "      <th>3</th>\n",
              "      <td>3</td>\n",
              "      <td>JHONRAFFY MORTIFERO</td>\n",
              "      <td>359</td>\n",
              "      <td>21</td>\n",
              "      <td>0</td>\n",
              "      <td>Philippines</td>\n",
              "      <td>@OlixYT Yes but I was too shy too ask 😅 it's o...</td>\n",
              "    </tr>\n",
              "    <tr>\n",
              "      <th>4</th>\n",
              "      <td>4</td>\n",
              "      <td>FCC ID</td>\n",
              "      <td>86152</td>\n",
              "      <td>1286</td>\n",
              "      <td>0</td>\n",
              "      <td>United States</td>\n",
              "      <td>MINISO Corporation has filed for FCC ID approv...</td>\n",
              "    </tr>\n",
              "  </tbody>\n",
              "</table>\n",
              "</div>\n",
              "      <button class=\"colab-df-convert\" onclick=\"convertToInteractive('df-c9e49a8b-3a3d-4b84-8f15-974ee2da491f')\"\n",
              "              title=\"Convert this dataframe to an interactive table.\"\n",
              "              style=\"display:none;\">\n",
              "        \n",
              "  <svg xmlns=\"http://www.w3.org/2000/svg\" height=\"24px\"viewBox=\"0 0 24 24\"\n",
              "       width=\"24px\">\n",
              "    <path d=\"M0 0h24v24H0V0z\" fill=\"none\"/>\n",
              "    <path d=\"M18.56 5.44l.94 2.06.94-2.06 2.06-.94-2.06-.94-.94-2.06-.94 2.06-2.06.94zm-11 1L8.5 8.5l.94-2.06 2.06-.94-2.06-.94L8.5 2.5l-.94 2.06-2.06.94zm10 10l.94 2.06.94-2.06 2.06-.94-2.06-.94-.94-2.06-.94 2.06-2.06.94z\"/><path d=\"M17.41 7.96l-1.37-1.37c-.4-.4-.92-.59-1.43-.59-.52 0-1.04.2-1.43.59L10.3 9.45l-7.72 7.72c-.78.78-.78 2.05 0 2.83L4 21.41c.39.39.9.59 1.41.59.51 0 1.02-.2 1.41-.59l7.78-7.78 2.81-2.81c.8-.78.8-2.07 0-2.86zM5.41 20L4 18.59l7.72-7.72 1.47 1.35L5.41 20z\"/>\n",
              "  </svg>\n",
              "      </button>\n",
              "      \n",
              "  <style>\n",
              "    .colab-df-container {\n",
              "      display:flex;\n",
              "      flex-wrap:wrap;\n",
              "      gap: 12px;\n",
              "    }\n",
              "\n",
              "    .colab-df-convert {\n",
              "      background-color: #E8F0FE;\n",
              "      border: none;\n",
              "      border-radius: 50%;\n",
              "      cursor: pointer;\n",
              "      display: none;\n",
              "      fill: #1967D2;\n",
              "      height: 32px;\n",
              "      padding: 0 0 0 0;\n",
              "      width: 32px;\n",
              "    }\n",
              "\n",
              "    .colab-df-convert:hover {\n",
              "      background-color: #E2EBFA;\n",
              "      box-shadow: 0px 1px 2px rgba(60, 64, 67, 0.3), 0px 1px 3px 1px rgba(60, 64, 67, 0.15);\n",
              "      fill: #174EA6;\n",
              "    }\n",
              "\n",
              "    [theme=dark] .colab-df-convert {\n",
              "      background-color: #3B4455;\n",
              "      fill: #D2E3FC;\n",
              "    }\n",
              "\n",
              "    [theme=dark] .colab-df-convert:hover {\n",
              "      background-color: #434B5C;\n",
              "      box-shadow: 0px 1px 3px 1px rgba(0, 0, 0, 0.15);\n",
              "      filter: drop-shadow(0px 1px 2px rgba(0, 0, 0, 0.3));\n",
              "      fill: #FFFFFF;\n",
              "    }\n",
              "  </style>\n",
              "\n",
              "      <script>\n",
              "        const buttonEl =\n",
              "          document.querySelector('#df-c9e49a8b-3a3d-4b84-8f15-974ee2da491f button.colab-df-convert');\n",
              "        buttonEl.style.display =\n",
              "          google.colab.kernel.accessAllowed ? 'block' : 'none';\n",
              "\n",
              "        async function convertToInteractive(key) {\n",
              "          const element = document.querySelector('#df-c9e49a8b-3a3d-4b84-8f15-974ee2da491f');\n",
              "          const dataTable =\n",
              "            await google.colab.kernel.invokeFunction('convertToInteractive',\n",
              "                                                     [key], {});\n",
              "          if (!dataTable) return;\n",
              "\n",
              "          const docLinkHtml = 'Like what you see? Visit the ' +\n",
              "            '<a target=\"_blank\" href=https://colab.research.google.com/notebooks/data_table.ipynb>data table notebook</a>'\n",
              "            + ' to learn more about interactive tables.';\n",
              "          element.innerHTML = '';\n",
              "          dataTable['output_type'] = 'display_data';\n",
              "          await google.colab.output.renderOutput(dataTable, element);\n",
              "          const docLink = document.createElement('div');\n",
              "          docLink.innerHTML = docLinkHtml;\n",
              "          element.appendChild(docLink);\n",
              "        }\n",
              "      </script>\n",
              "    </div>\n",
              "  </div>\n",
              "  "
            ]
          },
          "metadata": {},
          "execution_count": 13
        }
      ]
    },
    {
      "cell_type": "code",
      "source": [
        "print(dataset.shape)"
      ],
      "metadata": {
        "colab": {
          "base_uri": "https://localhost:8080/"
        },
        "id": "T60V2ARnWbNN",
        "outputId": "49a9ec7c-1571-4e85-b944-acd2819192b0"
      },
      "execution_count": null,
      "outputs": [
        {
          "output_type": "stream",
          "name": "stdout",
          "text": [
            "(200, 7)\n"
          ]
        }
      ]
    },
    {
      "cell_type": "markdown",
      "source": [
        "### drop coloumn"
      ],
      "metadata": {
        "id": "nBlYDo-3Ac5d"
      }
    },
    {
      "cell_type": "code",
      "source": [
        "to_drop = ['Unnamed: 0', 'User', 'User_statuses_count', 'user_followers', 'fav_count', 'User_location']"
      ],
      "metadata": {
        "id": "D5LnAjzsA2ma"
      },
      "execution_count": null,
      "outputs": []
    },
    {
      "cell_type": "code",
      "source": [
        "dataset.drop(to_drop, inplace=True, axis = 1)"
      ],
      "metadata": {
        "id": "GqrejV-pBb3M"
      },
      "execution_count": null,
      "outputs": []
    },
    {
      "cell_type": "code",
      "source": [
        "dataset.head()"
      ],
      "metadata": {
        "colab": {
          "base_uri": "https://localhost:8080/",
          "height": 206
        },
        "id": "_Hqq49RCDCOt",
        "outputId": "64b1301e-7ec8-462d-a51c-ed977ee7912e"
      },
      "execution_count": null,
      "outputs": [
        {
          "output_type": "execute_result",
          "data": {
            "text/plain": [
              "                                              Tweets\n",
              "0  miniso has these and theyre so cute 😫 https://...\n",
              "1  @convomfs Original Source Vanilla Raspberry, Z...\n",
              "2  Miniso turned into a gym and he was doing weig...\n",
              "3  @OlixYT Yes but I was too shy too ask 😅 it's o...\n",
              "4  MINISO Corporation has filed for FCC ID approv..."
            ],
            "text/html": [
              "\n",
              "  <div id=\"df-61d42b43-1ec5-4e99-8909-59812b72845a\">\n",
              "    <div class=\"colab-df-container\">\n",
              "      <div>\n",
              "<style scoped>\n",
              "    .dataframe tbody tr th:only-of-type {\n",
              "        vertical-align: middle;\n",
              "    }\n",
              "\n",
              "    .dataframe tbody tr th {\n",
              "        vertical-align: top;\n",
              "    }\n",
              "\n",
              "    .dataframe thead th {\n",
              "        text-align: right;\n",
              "    }\n",
              "</style>\n",
              "<table border=\"1\" class=\"dataframe\">\n",
              "  <thead>\n",
              "    <tr style=\"text-align: right;\">\n",
              "      <th></th>\n",
              "      <th>Tweets</th>\n",
              "    </tr>\n",
              "  </thead>\n",
              "  <tbody>\n",
              "    <tr>\n",
              "      <th>0</th>\n",
              "      <td>miniso has these and theyre so cute 😫 https://...</td>\n",
              "    </tr>\n",
              "    <tr>\n",
              "      <th>1</th>\n",
              "      <td>@convomfs Original Source Vanilla Raspberry, Z...</td>\n",
              "    </tr>\n",
              "    <tr>\n",
              "      <th>2</th>\n",
              "      <td>Miniso turned into a gym and he was doing weig...</td>\n",
              "    </tr>\n",
              "    <tr>\n",
              "      <th>3</th>\n",
              "      <td>@OlixYT Yes but I was too shy too ask 😅 it's o...</td>\n",
              "    </tr>\n",
              "    <tr>\n",
              "      <th>4</th>\n",
              "      <td>MINISO Corporation has filed for FCC ID approv...</td>\n",
              "    </tr>\n",
              "  </tbody>\n",
              "</table>\n",
              "</div>\n",
              "      <button class=\"colab-df-convert\" onclick=\"convertToInteractive('df-61d42b43-1ec5-4e99-8909-59812b72845a')\"\n",
              "              title=\"Convert this dataframe to an interactive table.\"\n",
              "              style=\"display:none;\">\n",
              "        \n",
              "  <svg xmlns=\"http://www.w3.org/2000/svg\" height=\"24px\"viewBox=\"0 0 24 24\"\n",
              "       width=\"24px\">\n",
              "    <path d=\"M0 0h24v24H0V0z\" fill=\"none\"/>\n",
              "    <path d=\"M18.56 5.44l.94 2.06.94-2.06 2.06-.94-2.06-.94-.94-2.06-.94 2.06-2.06.94zm-11 1L8.5 8.5l.94-2.06 2.06-.94-2.06-.94L8.5 2.5l-.94 2.06-2.06.94zm10 10l.94 2.06.94-2.06 2.06-.94-2.06-.94-.94-2.06-.94 2.06-2.06.94z\"/><path d=\"M17.41 7.96l-1.37-1.37c-.4-.4-.92-.59-1.43-.59-.52 0-1.04.2-1.43.59L10.3 9.45l-7.72 7.72c-.78.78-.78 2.05 0 2.83L4 21.41c.39.39.9.59 1.41.59.51 0 1.02-.2 1.41-.59l7.78-7.78 2.81-2.81c.8-.78.8-2.07 0-2.86zM5.41 20L4 18.59l7.72-7.72 1.47 1.35L5.41 20z\"/>\n",
              "  </svg>\n",
              "      </button>\n",
              "      \n",
              "  <style>\n",
              "    .colab-df-container {\n",
              "      display:flex;\n",
              "      flex-wrap:wrap;\n",
              "      gap: 12px;\n",
              "    }\n",
              "\n",
              "    .colab-df-convert {\n",
              "      background-color: #E8F0FE;\n",
              "      border: none;\n",
              "      border-radius: 50%;\n",
              "      cursor: pointer;\n",
              "      display: none;\n",
              "      fill: #1967D2;\n",
              "      height: 32px;\n",
              "      padding: 0 0 0 0;\n",
              "      width: 32px;\n",
              "    }\n",
              "\n",
              "    .colab-df-convert:hover {\n",
              "      background-color: #E2EBFA;\n",
              "      box-shadow: 0px 1px 2px rgba(60, 64, 67, 0.3), 0px 1px 3px 1px rgba(60, 64, 67, 0.15);\n",
              "      fill: #174EA6;\n",
              "    }\n",
              "\n",
              "    [theme=dark] .colab-df-convert {\n",
              "      background-color: #3B4455;\n",
              "      fill: #D2E3FC;\n",
              "    }\n",
              "\n",
              "    [theme=dark] .colab-df-convert:hover {\n",
              "      background-color: #434B5C;\n",
              "      box-shadow: 0px 1px 3px 1px rgba(0, 0, 0, 0.15);\n",
              "      filter: drop-shadow(0px 1px 2px rgba(0, 0, 0, 0.3));\n",
              "      fill: #FFFFFF;\n",
              "    }\n",
              "  </style>\n",
              "\n",
              "      <script>\n",
              "        const buttonEl =\n",
              "          document.querySelector('#df-61d42b43-1ec5-4e99-8909-59812b72845a button.colab-df-convert');\n",
              "        buttonEl.style.display =\n",
              "          google.colab.kernel.accessAllowed ? 'block' : 'none';\n",
              "\n",
              "        async function convertToInteractive(key) {\n",
              "          const element = document.querySelector('#df-61d42b43-1ec5-4e99-8909-59812b72845a');\n",
              "          const dataTable =\n",
              "            await google.colab.kernel.invokeFunction('convertToInteractive',\n",
              "                                                     [key], {});\n",
              "          if (!dataTable) return;\n",
              "\n",
              "          const docLinkHtml = 'Like what you see? Visit the ' +\n",
              "            '<a target=\"_blank\" href=https://colab.research.google.com/notebooks/data_table.ipynb>data table notebook</a>'\n",
              "            + ' to learn more about interactive tables.';\n",
              "          element.innerHTML = '';\n",
              "          dataTable['output_type'] = 'display_data';\n",
              "          await google.colab.output.renderOutput(dataTable, element);\n",
              "          const docLink = document.createElement('div');\n",
              "          docLink.innerHTML = docLinkHtml;\n",
              "          element.appendChild(docLink);\n",
              "        }\n",
              "      </script>\n",
              "    </div>\n",
              "  </div>\n",
              "  "
            ]
          },
          "metadata": {},
          "execution_count": 17
        }
      ]
    },
    {
      "cell_type": "code",
      "source": [
        "print(dataset.shape)"
      ],
      "metadata": {
        "colab": {
          "base_uri": "https://localhost:8080/"
        },
        "id": "fiwGDUyaDHtM",
        "outputId": "0023e5fd-b1db-462e-b762-1ef37cb6a31f"
      },
      "execution_count": null,
      "outputs": [
        {
          "output_type": "stream",
          "name": "stdout",
          "text": [
            "(200, 1)\n"
          ]
        }
      ]
    },
    {
      "cell_type": "markdown",
      "source": [
        "### missing value"
      ],
      "metadata": {
        "id": "4-FuysHqWskN"
      }
    },
    {
      "cell_type": "code",
      "source": [
        "# handling the missing data and replace missing values with nan from numpy and replace with mean of all the other values\n",
        "dataset1 = dataset.dropna()\n",
        "print(dataset1.shape)"
      ],
      "metadata": {
        "colab": {
          "base_uri": "https://localhost:8080/"
        },
        "id": "IoS8hn7NVsVe",
        "outputId": "b45e606d-81cd-4689-eba3-87d119090ebc"
      },
      "execution_count": null,
      "outputs": [
        {
          "output_type": "stream",
          "name": "stdout",
          "text": [
            "(200, 1)\n"
          ]
        }
      ]
    },
    {
      "cell_type": "markdown",
      "source": [
        "# Text Preprocessing\n",
        "\n"
      ],
      "metadata": {
        "id": "rzBP-rihXFbx"
      }
    },
    {
      "cell_type": "code",
      "source": [
        "import re, string, unicodedata\n",
        "import json\n",
        "import nltk\n",
        "import json\n",
        "import time\n",
        "import itertools  \n",
        "import numpy as np\n",
        "import pandas as pd\n",
        "import tensorflow as tf\n",
        "import tensorflow_hub as hub\n",
        "import matplotlib.pyplot as plt\n",
        "from nltk.corpus import stopwords\n",
        "from nltk.stem import WordNetLemmatizer\n",
        "from nltk.tokenize import word_tokenize\n",
        "from wordcloud import WordCloud, STOPWORDS\n",
        "import tensorflow.keras.preprocessing.text as kpt\n",
        "from sklearn.model_selection import train_test_split\n",
        "from tensorflow.keras.preprocessing.text import Tokenizer"
      ],
      "metadata": {
        "id": "46PrMmn-dnBB"
      },
      "execution_count": null,
      "outputs": []
    },
    {
      "cell_type": "markdown",
      "source": [
        "## Case folding"
      ],
      "metadata": {
        "id": "h7gCMmn4c1pH"
      }
    },
    {
      "cell_type": "code",
      "source": [
        "# Change text column to lower lower case\n",
        "dataset1['Tweets'] = dataset1['Tweets'].str.lower()\n",
        "\n",
        "# Look at the change\n",
        "print(dataset1)"
      ],
      "metadata": {
        "colab": {
          "base_uri": "https://localhost:8080/"
        },
        "id": "0WChobRddHlv",
        "outputId": "d41f172e-6a35-461b-bc7a-62baaeaa9d70"
      },
      "execution_count": null,
      "outputs": [
        {
          "output_type": "stream",
          "name": "stdout",
          "text": [
            "                                                Tweets\n",
            "0    miniso has these and theyre so cute 😫 https://...\n",
            "1    @convomfs original source vanilla raspberry, z...\n",
            "2    miniso turned into a gym and he was doing weig...\n",
            "3    @olixyt yes but i was too shy too ask 😅 it's o...\n",
            "4    miniso corporation has filed for fcc id approv...\n",
            "..                                                 ...\n",
            "195  rt @sugarsanriio: hello kitty cooler bag from ...\n",
            "196  rt @kyvo_gvr: wts | lfb [help rt] \\n\\n𓂋 xiumin...\n",
            "197  rt @kyvo_gvr: wts | lfb [help rt] \\n\\n𓂋 xiumin...\n",
            "198   @wana____ miniso taught me shege that’s why lool\n",
            "199  rt @kyvo_gvr: wts | lfb [help rt] \\n\\n𓂋 xiumin...\n",
            "\n",
            "[200 rows x 1 columns]\n"
          ]
        }
      ]
    },
    {
      "cell_type": "markdown",
      "source": [
        "## Remove URL"
      ],
      "metadata": {
        "id": "0JbfV7DPebQv"
      }
    },
    {
      "cell_type": "code",
      "source": [
        "def clean_data(dataset2):\n",
        "#replace URL of a text\n",
        "    dataset1['Tweets'] = dataset2['Tweets'].str.replace('http[s]?://(?:[a-zA-Z]|[0-9]|[$-_@.&+]|[!*\\(\\),]|(?:%[0-9a-fA-F][0-9a-fA-F]))+', ' ')\n",
        "\n",
        "clean_data(dataset1)\n",
        "print(dataset1['Tweets']);"
      ],
      "metadata": {
        "colab": {
          "base_uri": "https://localhost:8080/"
        },
        "id": "KQbqcNXGfQrg",
        "outputId": "5261243e-813b-4a02-8b7c-4cd05edc6935"
      },
      "execution_count": null,
      "outputs": [
        {
          "output_type": "stream",
          "name": "stdout",
          "text": [
            "0                miniso has these and theyre so cute 😫  \n",
            "1      @convomfs original source vanilla raspberry, z...\n",
            "2      miniso turned into a gym and he was doing weig...\n",
            "3      @olixyt yes but i was too shy too ask 😅 it's o...\n",
            "4      miniso corporation has filed for fcc id approv...\n",
            "                             ...                        \n",
            "195    rt @sugarsanriio: hello kitty cooler bag from ...\n",
            "196    rt @kyvo_gvr: wts | lfb [help rt] \\n\\n𓂋 xiumin...\n",
            "197    rt @kyvo_gvr: wts | lfb [help rt] \\n\\n𓂋 xiumin...\n",
            "198     @wana____ miniso taught me shege that’s why lool\n",
            "199    rt @kyvo_gvr: wts | lfb [help rt] \\n\\n𓂋 xiumin...\n",
            "Name: Tweets, Length: 200, dtype: object\n"
          ]
        },
        {
          "output_type": "stream",
          "name": "stderr",
          "text": [
            "/usr/local/lib/python3.7/dist-packages/ipykernel_launcher.py:3: FutureWarning: The default value of regex will change from True to False in a future version.\n",
            "  This is separate from the ipykernel package so we can avoid doing imports until\n"
          ]
        }
      ]
    },
    {
      "cell_type": "markdown",
      "source": [
        "## Remove Number"
      ],
      "metadata": {
        "id": "PBF84yjmhRU-"
      }
    },
    {
      "cell_type": "code",
      "source": [
        "# removing numbers from strings of speciafied \n",
        "# column, here 'Name'\n",
        "dataset1['Tweets']= dataset1['Tweets'].str.replace('\\d+', '')\n",
        "  \n",
        "# display output with numbers removed from \n",
        "# required strings\n",
        "print(dataset1)"
      ],
      "metadata": {
        "colab": {
          "base_uri": "https://localhost:8080/"
        },
        "id": "X-CxVrqnhhSD",
        "outputId": "531e1c75-be52-4e43-c3d4-5b3ccdd5adfe"
      },
      "execution_count": null,
      "outputs": [
        {
          "output_type": "stream",
          "name": "stdout",
          "text": [
            "                                                Tweets\n",
            "0              miniso has these and theyre so cute 😫  \n",
            "1    @convomfs original source vanilla raspberry, z...\n",
            "2    miniso turned into a gym and he was doing weig...\n",
            "3    @olixyt yes but i was too shy too ask 😅 it's o...\n",
            "4    miniso corporation has filed for fcc id approv...\n",
            "..                                                 ...\n",
            "195  rt @sugarsanriio: hello kitty cooler bag from ...\n",
            "196  rt @kyvo_gvr: wts | lfb [help rt] \\n\\n𓂋 xiumin...\n",
            "197  rt @kyvo_gvr: wts | lfb [help rt] \\n\\n𓂋 xiumin...\n",
            "198   @wana____ miniso taught me shege that’s why lool\n",
            "199  rt @kyvo_gvr: wts | lfb [help rt] \\n\\n𓂋 xiumin...\n",
            "\n",
            "[200 rows x 1 columns]\n"
          ]
        },
        {
          "output_type": "stream",
          "name": "stderr",
          "text": [
            "/usr/local/lib/python3.7/dist-packages/ipykernel_launcher.py:3: FutureWarning: The default value of regex will change from True to False in a future version.\n",
            "  This is separate from the ipykernel package so we can avoid doing imports until\n"
          ]
        }
      ]
    },
    {
      "cell_type": "markdown",
      "source": [
        "## Remove Punctuation"
      ],
      "metadata": {
        "id": "7TLTnHCqh4um"
      }
    },
    {
      "cell_type": "code",
      "source": [
        "dataset1['Tweets'] = dataset1['Tweets'].str.replace(r'[^\\w\\s]','')"
      ],
      "metadata": {
        "colab": {
          "base_uri": "https://localhost:8080/"
        },
        "id": "7pfjayWXh_C7",
        "outputId": "93069a70-b636-45c4-c1ab-051ed5d3bc06"
      },
      "execution_count": null,
      "outputs": [
        {
          "output_type": "stream",
          "name": "stderr",
          "text": [
            "/usr/local/lib/python3.7/dist-packages/ipykernel_launcher.py:1: FutureWarning: The default value of regex will change from True to False in a future version.\n",
            "  \"\"\"Entry point for launching an IPython kernel.\n"
          ]
        }
      ]
    },
    {
      "cell_type": "code",
      "source": [
        "def clean_text(text):\n",
        "    '''Make text lowercase, remove text in square brackets,remove links,remove punctuation\n",
        "    and remove words containing numbers.'''\n",
        "    text = str(text).lower()\n",
        "    text = re.sub('\\[.*?\\]', '', text)\n",
        "    text = re.sub('https?://\\S+|www\\.\\S+', '', text)\n",
        "    text = re.sub('<.*?>+', '', text)\n",
        "    text = re.sub('[%s]' % re.escape(string.punctuation), '', text)\n",
        "    text = re.sub('\\n', '', text)\n",
        "    text = re.sub('\\w*\\d\\w*', '', text)\n",
        "    text = re.sub(r\"\\d+\", \"\", text)\n",
        "    text = re.sub(r'[0-9]+', '', text)\n",
        "    text = re.sub(r'\\s*\\d+\\s*', '', text)\n",
        "    text = re.sub('/[^\\w\\s]/gi', '', text)\n",
        "    text = re.sub(\"@[^0-9a-zA-Z]+\", '',text)\n",
        "    text = re.sub(r'@[^\\s]+', ' ', text)\n",
        "    text = re.sub(r'#[^\\w]+', ' ', text)\n",
        "    text = re.sub(r\"[.,:;+!\\-_<^/=?&|$\\\"\\(\\)\\d\\*]\", \" \", text)\n",
        "    text = re.sub('  +', ' ', text) \n",
        "    text = re.sub('\\n+',' ',text)\n",
        "    text = re.sub('\\n', text)\n",
        "    text = re.sub('\\ ■',' ',text)\n",
        "    text = re.sub(r'&[^\\s]+', ' ', text)\n",
        "\n",
        "\n",
        "    return text"
      ],
      "metadata": {
        "id": "RPFVK4HjEYg4"
      },
      "execution_count": null,
      "outputs": []
    },
    {
      "cell_type": "code",
      "source": [
        "clean_data(dataset1)"
      ],
      "metadata": {
        "colab": {
          "base_uri": "https://localhost:8080/"
        },
        "id": "jHEVSiO5EjR0",
        "outputId": "c2516da7-7b89-4417-a2fa-8d2e348f4158"
      },
      "execution_count": null,
      "outputs": [
        {
          "output_type": "stream",
          "name": "stderr",
          "text": [
            "/usr/local/lib/python3.7/dist-packages/ipykernel_launcher.py:3: FutureWarning: The default value of regex will change from True to False in a future version.\n",
            "  This is separate from the ipykernel package so we can avoid doing imports until\n"
          ]
        }
      ]
    },
    {
      "cell_type": "code",
      "source": [
        "print(dataset1)"
      ],
      "metadata": {
        "colab": {
          "base_uri": "https://localhost:8080/"
        },
        "id": "Z9G9933BiLQA",
        "outputId": "25d54c88-54ce-4ce5-bee3-b5fc2dd84dcf"
      },
      "execution_count": null,
      "outputs": [
        {
          "output_type": "stream",
          "name": "stdout",
          "text": [
            "                                                Tweets\n",
            "0               miniso has these and theyre so cute   \n",
            "1    convomfs original source vanilla raspberry zwi...\n",
            "2    miniso turned into a gym and he was doing weig...\n",
            "3    olixyt yes but i was too shy too ask  its okay...\n",
            "4    miniso corporation has filed for fcc id approv...\n",
            "..                                                 ...\n",
            "195  rt sugarsanriio hello kitty cooler bag from mi...\n",
            "196  rt kyvo_gvr wts  lfb help rt \\n\\n𓂋 xiumin exop...\n",
            "197  rt kyvo_gvr wts  lfb help rt \\n\\n𓂋 xiumin exop...\n",
            "198     wana____ miniso taught me shege thats why lool\n",
            "199  rt kyvo_gvr wts  lfb help rt \\n\\n𓂋 xiumin exop...\n",
            "\n",
            "[200 rows x 1 columns]\n"
          ]
        }
      ]
    },
    {
      "cell_type": "markdown",
      "source": [
        "## Stopwords Removal"
      ],
      "metadata": {
        "id": "nCTsnglfiRLf"
      }
    },
    {
      "cell_type": "code",
      "source": [
        "import nltk\n",
        "nltk.download('stopwords')\n",
        "print(stopwords.words('english'))"
      ],
      "metadata": {
        "colab": {
          "base_uri": "https://localhost:8080/"
        },
        "id": "kLD8h3_MiUYQ",
        "outputId": "650b3ccd-06a6-451c-86b1-90f825bc2039"
      },
      "execution_count": null,
      "outputs": [
        {
          "output_type": "stream",
          "name": "stdout",
          "text": [
            "[nltk_data] Downloading package stopwords to /root/nltk_data...\n",
            "[nltk_data]   Unzipping corpora/stopwords.zip.\n",
            "['i', 'me', 'my', 'myself', 'we', 'our', 'ours', 'ourselves', 'you', \"you're\", \"you've\", \"you'll\", \"you'd\", 'your', 'yours', 'yourself', 'yourselves', 'he', 'him', 'his', 'himself', 'she', \"she's\", 'her', 'hers', 'herself', 'it', \"it's\", 'its', 'itself', 'they', 'them', 'their', 'theirs', 'themselves', 'what', 'which', 'who', 'whom', 'this', 'that', \"that'll\", 'these', 'those', 'am', 'is', 'are', 'was', 'were', 'be', 'been', 'being', 'have', 'has', 'had', 'having', 'do', 'does', 'did', 'doing', 'a', 'an', 'the', 'and', 'but', 'if', 'or', 'because', 'as', 'until', 'while', 'of', 'at', 'by', 'for', 'with', 'about', 'against', 'between', 'into', 'through', 'during', 'before', 'after', 'above', 'below', 'to', 'from', 'up', 'down', 'in', 'out', 'on', 'off', 'over', 'under', 'again', 'further', 'then', 'once', 'here', 'there', 'when', 'where', 'why', 'how', 'all', 'any', 'both', 'each', 'few', 'more', 'most', 'other', 'some', 'such', 'no', 'nor', 'not', 'only', 'own', 'same', 'so', 'than', 'too', 'very', 's', 't', 'can', 'will', 'just', 'don', \"don't\", 'should', \"should've\", 'now', 'd', 'll', 'm', 'o', 're', 've', 'y', 'ain', 'aren', \"aren't\", 'couldn', \"couldn't\", 'didn', \"didn't\", 'doesn', \"doesn't\", 'hadn', \"hadn't\", 'hasn', \"hasn't\", 'haven', \"haven't\", 'isn', \"isn't\", 'ma', 'mightn', \"mightn't\", 'mustn', \"mustn't\", 'needn', \"needn't\", 'shan', \"shan't\", 'shouldn', \"shouldn't\", 'wasn', \"wasn't\", 'weren', \"weren't\", 'won', \"won't\", 'wouldn', \"wouldn't\"]\n"
          ]
        }
      ]
    },
    {
      "cell_type": "code",
      "source": [
        "print(dataset1['Tweets']); \n",
        "\n",
        "import nltk\n",
        "nltk.download('stopwords')\n",
        "nltk.download('punkt')\n",
        "stop_words = set(stopwords.words('english'))\n",
        " \n",
        "dataset1['Tweets'] = dataset1['Tweets'].apply(lambda x: ' '.join([word for word in x.split() if word not in (stop_words)]))\n",
        "print(dataset1['Tweets'])"
      ],
      "metadata": {
        "colab": {
          "base_uri": "https://localhost:8080/"
        },
        "id": "tdDLP037mkPr",
        "outputId": "dd6f5fa7-ab6d-4828-c372-2b83ab8e92ec"
      },
      "execution_count": null,
      "outputs": [
        {
          "output_type": "stream",
          "name": "stdout",
          "text": [
            "0                 miniso has these and theyre so cute   \n",
            "1      convomfs original source vanilla raspberry zwi...\n",
            "2      miniso turned into a gym and he was doing weig...\n",
            "3      olixyt yes but i was too shy too ask  its okay...\n",
            "4      miniso corporation has filed for fcc id approv...\n",
            "                             ...                        \n",
            "195    rt sugarsanriio hello kitty cooler bag from mi...\n",
            "196    rt kyvo_gvr wts  lfb help rt \\n\\n𓂋 xiumin exop...\n",
            "197    rt kyvo_gvr wts  lfb help rt \\n\\n𓂋 xiumin exop...\n",
            "198       wana____ miniso taught me shege thats why lool\n",
            "199    rt kyvo_gvr wts  lfb help rt \\n\\n𓂋 xiumin exop...\n",
            "Name: Tweets, Length: 200, dtype: object\n",
            "[nltk_data] Downloading package stopwords to /root/nltk_data...\n",
            "[nltk_data]   Package stopwords is already up-to-date!\n",
            "[nltk_data] Downloading package punkt to /root/nltk_data...\n",
            "[nltk_data]   Unzipping tokenizers/punkt.zip.\n",
            "0                                     miniso theyre cute\n",
            "1      convomfs original source vanilla raspberry zwi...\n",
            "2                      miniso turned gym weights infront\n",
            "3                     olixyt yes shy ask okay appreciate\n",
            "4      miniso corporation filed fcc id approval k ipx...\n",
            "                             ...                        \n",
            "195     rt sugarsanriio hello kitty cooler bag miniso lt\n",
            "196    rt kyvo_gvr wts lfb help rt 𓂋 xiumin exoplanet...\n",
            "197    rt kyvo_gvr wts lfb help rt 𓂋 xiumin exoplanet...\n",
            "198              wana____ miniso taught shege thats lool\n",
            "199    rt kyvo_gvr wts lfb help rt 𓂋 xiumin exoplanet...\n",
            "Name: Tweets, Length: 200, dtype: object\n"
          ]
        }
      ]
    },
    {
      "cell_type": "markdown",
      "source": [
        "## Tokenizing"
      ],
      "metadata": {
        "id": "0OGacbpHmwoZ"
      }
    },
    {
      "cell_type": "code",
      "source": [
        "dataset1['Tweets'] = dataset1['Tweets'].apply(word_tokenize)\n",
        "\n",
        "print(dataset1['Tweets'])"
      ],
      "metadata": {
        "colab": {
          "base_uri": "https://localhost:8080/"
        },
        "id": "pj9Z7GT6myvr",
        "outputId": "e70e3e04-6d7e-4ae2-dc8c-a016268fcad3"
      },
      "execution_count": null,
      "outputs": [
        {
          "output_type": "stream",
          "name": "stdout",
          "text": [
            "0                                 [miniso, theyre, cute]\n",
            "1      [convomfs, original, source, vanilla, raspberr...\n",
            "2                [miniso, turned, gym, weights, infront]\n",
            "3              [olixyt, yes, shy, ask, okay, appreciate]\n",
            "4      [miniso, corporation, filed, fcc, id, approval...\n",
            "                             ...                        \n",
            "195    [rt, sugarsanriio, hello, kitty, cooler, bag, ...\n",
            "196    [rt, kyvo_gvr, wts, lfb, help, rt, 𓂋, xiumin, ...\n",
            "197    [rt, kyvo_gvr, wts, lfb, help, rt, 𓂋, xiumin, ...\n",
            "198       [wana____, miniso, taught, shege, thats, lool]\n",
            "199    [rt, kyvo_gvr, wts, lfb, help, rt, 𓂋, xiumin, ...\n",
            "Name: Tweets, Length: 200, dtype: object\n"
          ]
        }
      ]
    },
    {
      "cell_type": "code",
      "source": [
        "print(dataset1)"
      ],
      "metadata": {
        "colab": {
          "base_uri": "https://localhost:8080/"
        },
        "id": "TABIaLA6m-tI",
        "outputId": "39f34614-13fa-41e9-f127-0e8a1cde22a1"
      },
      "execution_count": null,
      "outputs": [
        {
          "output_type": "stream",
          "name": "stdout",
          "text": [
            "                                                Tweets\n",
            "0                               [miniso, theyre, cute]\n",
            "1    [convomfs, original, source, vanilla, raspberr...\n",
            "2              [miniso, turned, gym, weights, infront]\n",
            "3            [olixyt, yes, shy, ask, okay, appreciate]\n",
            "4    [miniso, corporation, filed, fcc, id, approval...\n",
            "..                                                 ...\n",
            "195  [rt, sugarsanriio, hello, kitty, cooler, bag, ...\n",
            "196  [rt, kyvo_gvr, wts, lfb, help, rt, 𓂋, xiumin, ...\n",
            "197  [rt, kyvo_gvr, wts, lfb, help, rt, 𓂋, xiumin, ...\n",
            "198     [wana____, miniso, taught, shege, thats, lool]\n",
            "199  [rt, kyvo_gvr, wts, lfb, help, rt, 𓂋, xiumin, ...\n",
            "\n",
            "[200 rows x 1 columns]\n"
          ]
        }
      ]
    },
    {
      "cell_type": "markdown",
      "source": [
        "## Hasil Akhir"
      ],
      "metadata": {
        "id": "lu3mOLILnTjo"
      }
    },
    {
      "cell_type": "code",
      "source": [
        "dataset1.to_csv('/content/gdrive/My Drive/PDB/preprocessing_PDB.csv', index = False)"
      ],
      "metadata": {
        "id": "eMITQ_tWnV1V"
      },
      "execution_count": null,
      "outputs": []
    },
    {
      "cell_type": "code",
      "source": [
        "data = pd.read_csv('/content/gdrive/My Drive/PDB/preprocessing_PDB.csv')"
      ],
      "metadata": {
        "id": "qFXYOS0F8UCw"
      },
      "execution_count": null,
      "outputs": []
    },
    {
      "cell_type": "code",
      "source": [
        "from textblob import TextBlob\n",
        "\n",
        "def getSubjectivity(review):\n",
        "    return TextBlob(review).sentiment.subjectivity\n",
        "\n",
        "def getPolarity(review):\n",
        "    return TextBlob(review).sentiment.polarity\n",
        "\n",
        "def analyze(score):\n",
        "    if score  < 0:\n",
        "        return '-1'\n",
        "    elif score == 0:\n",
        "        return '0'\n",
        "    else:\n",
        "        return '1'"
      ],
      "metadata": {
        "id": "PV52iOW-8d_1"
      },
      "execution_count": null,
      "outputs": []
    },
    {
      "cell_type": "code",
      "source": [
        "final_data = pd.DataFrame(data[['Tweets']])\n",
        "final_data.head()"
      ],
      "metadata": {
        "colab": {
          "base_uri": "https://localhost:8080/",
          "height": 206
        },
        "id": "Yn_WOqKw8nl0",
        "outputId": "1f906f79-a5c7-401f-9ac4-7f9a0e4e492b"
      },
      "execution_count": null,
      "outputs": [
        {
          "output_type": "execute_result",
          "data": {
            "text/plain": [
              "                                              Tweets\n",
              "0                       ['miniso', 'theyre', 'cute']\n",
              "1  ['convomfs', 'original', 'source', 'vanilla', ...\n",
              "2  ['miniso', 'turned', 'gym', 'weights', 'infront']\n",
              "3  ['olixyt', 'yes', 'shy', 'ask', 'okay', 'appre...\n",
              "4  ['miniso', 'corporation', 'filed', 'fcc', 'id'..."
            ],
            "text/html": [
              "\n",
              "  <div id=\"df-2c16c541-9c96-4765-b2cf-0d917990dd1e\">\n",
              "    <div class=\"colab-df-container\">\n",
              "      <div>\n",
              "<style scoped>\n",
              "    .dataframe tbody tr th:only-of-type {\n",
              "        vertical-align: middle;\n",
              "    }\n",
              "\n",
              "    .dataframe tbody tr th {\n",
              "        vertical-align: top;\n",
              "    }\n",
              "\n",
              "    .dataframe thead th {\n",
              "        text-align: right;\n",
              "    }\n",
              "</style>\n",
              "<table border=\"1\" class=\"dataframe\">\n",
              "  <thead>\n",
              "    <tr style=\"text-align: right;\">\n",
              "      <th></th>\n",
              "      <th>Tweets</th>\n",
              "    </tr>\n",
              "  </thead>\n",
              "  <tbody>\n",
              "    <tr>\n",
              "      <th>0</th>\n",
              "      <td>['miniso', 'theyre', 'cute']</td>\n",
              "    </tr>\n",
              "    <tr>\n",
              "      <th>1</th>\n",
              "      <td>['convomfs', 'original', 'source', 'vanilla', ...</td>\n",
              "    </tr>\n",
              "    <tr>\n",
              "      <th>2</th>\n",
              "      <td>['miniso', 'turned', 'gym', 'weights', 'infront']</td>\n",
              "    </tr>\n",
              "    <tr>\n",
              "      <th>3</th>\n",
              "      <td>['olixyt', 'yes', 'shy', 'ask', 'okay', 'appre...</td>\n",
              "    </tr>\n",
              "    <tr>\n",
              "      <th>4</th>\n",
              "      <td>['miniso', 'corporation', 'filed', 'fcc', 'id'...</td>\n",
              "    </tr>\n",
              "  </tbody>\n",
              "</table>\n",
              "</div>\n",
              "      <button class=\"colab-df-convert\" onclick=\"convertToInteractive('df-2c16c541-9c96-4765-b2cf-0d917990dd1e')\"\n",
              "              title=\"Convert this dataframe to an interactive table.\"\n",
              "              style=\"display:none;\">\n",
              "        \n",
              "  <svg xmlns=\"http://www.w3.org/2000/svg\" height=\"24px\"viewBox=\"0 0 24 24\"\n",
              "       width=\"24px\">\n",
              "    <path d=\"M0 0h24v24H0V0z\" fill=\"none\"/>\n",
              "    <path d=\"M18.56 5.44l.94 2.06.94-2.06 2.06-.94-2.06-.94-.94-2.06-.94 2.06-2.06.94zm-11 1L8.5 8.5l.94-2.06 2.06-.94-2.06-.94L8.5 2.5l-.94 2.06-2.06.94zm10 10l.94 2.06.94-2.06 2.06-.94-2.06-.94-.94-2.06-.94 2.06-2.06.94z\"/><path d=\"M17.41 7.96l-1.37-1.37c-.4-.4-.92-.59-1.43-.59-.52 0-1.04.2-1.43.59L10.3 9.45l-7.72 7.72c-.78.78-.78 2.05 0 2.83L4 21.41c.39.39.9.59 1.41.59.51 0 1.02-.2 1.41-.59l7.78-7.78 2.81-2.81c.8-.78.8-2.07 0-2.86zM5.41 20L4 18.59l7.72-7.72 1.47 1.35L5.41 20z\"/>\n",
              "  </svg>\n",
              "      </button>\n",
              "      \n",
              "  <style>\n",
              "    .colab-df-container {\n",
              "      display:flex;\n",
              "      flex-wrap:wrap;\n",
              "      gap: 12px;\n",
              "    }\n",
              "\n",
              "    .colab-df-convert {\n",
              "      background-color: #E8F0FE;\n",
              "      border: none;\n",
              "      border-radius: 50%;\n",
              "      cursor: pointer;\n",
              "      display: none;\n",
              "      fill: #1967D2;\n",
              "      height: 32px;\n",
              "      padding: 0 0 0 0;\n",
              "      width: 32px;\n",
              "    }\n",
              "\n",
              "    .colab-df-convert:hover {\n",
              "      background-color: #E2EBFA;\n",
              "      box-shadow: 0px 1px 2px rgba(60, 64, 67, 0.3), 0px 1px 3px 1px rgba(60, 64, 67, 0.15);\n",
              "      fill: #174EA6;\n",
              "    }\n",
              "\n",
              "    [theme=dark] .colab-df-convert {\n",
              "      background-color: #3B4455;\n",
              "      fill: #D2E3FC;\n",
              "    }\n",
              "\n",
              "    [theme=dark] .colab-df-convert:hover {\n",
              "      background-color: #434B5C;\n",
              "      box-shadow: 0px 1px 3px 1px rgba(0, 0, 0, 0.15);\n",
              "      filter: drop-shadow(0px 1px 2px rgba(0, 0, 0, 0.3));\n",
              "      fill: #FFFFFF;\n",
              "    }\n",
              "  </style>\n",
              "\n",
              "      <script>\n",
              "        const buttonEl =\n",
              "          document.querySelector('#df-2c16c541-9c96-4765-b2cf-0d917990dd1e button.colab-df-convert');\n",
              "        buttonEl.style.display =\n",
              "          google.colab.kernel.accessAllowed ? 'block' : 'none';\n",
              "\n",
              "        async function convertToInteractive(key) {\n",
              "          const element = document.querySelector('#df-2c16c541-9c96-4765-b2cf-0d917990dd1e');\n",
              "          const dataTable =\n",
              "            await google.colab.kernel.invokeFunction('convertToInteractive',\n",
              "                                                     [key], {});\n",
              "          if (!dataTable) return;\n",
              "\n",
              "          const docLinkHtml = 'Like what you see? Visit the ' +\n",
              "            '<a target=\"_blank\" href=https://colab.research.google.com/notebooks/data_table.ipynb>data table notebook</a>'\n",
              "            + ' to learn more about interactive tables.';\n",
              "          element.innerHTML = '';\n",
              "          dataTable['output_type'] = 'display_data';\n",
              "          await google.colab.output.renderOutput(dataTable, element);\n",
              "          const docLink = document.createElement('div');\n",
              "          docLink.innerHTML = docLinkHtml;\n",
              "          element.appendChild(docLink);\n",
              "        }\n",
              "      </script>\n",
              "    </div>\n",
              "  </div>\n",
              "  "
            ]
          },
          "metadata": {},
          "execution_count": 35
        }
      ]
    },
    {
      "cell_type": "code",
      "source": [
        "final_data['Subjectivity'] = final_data['Tweets'].apply(getSubjectivity)\n",
        "final_data['Polarity'] =  final_data['Tweets'].apply(getPolarity)\n",
        "final_data['TextBlob'] = final_data['Polarity'].apply(analyze)\n",
        "final_data.head()"
      ],
      "metadata": {
        "colab": {
          "base_uri": "https://localhost:8080/",
          "height": 206
        },
        "id": "5HLZNzPU8x9v",
        "outputId": "e2dfb828-1a2c-4777-a361-b23994443c5d"
      },
      "execution_count": null,
      "outputs": [
        {
          "output_type": "execute_result",
          "data": {
            "text/plain": [
              "                                              Tweets  Subjectivity  Polarity  \\\n",
              "0                       ['miniso', 'theyre', 'cute']      1.000000  0.500000   \n",
              "1  ['convomfs', 'original', 'source', 'vanilla', ...      0.394444  0.069444   \n",
              "2  ['miniso', 'turned', 'gym', 'weights', 'infront']      0.000000  0.000000   \n",
              "3  ['olixyt', 'yes', 'shy', 'ask', 'okay', 'appre...      0.500000  0.000000   \n",
              "4  ['miniso', 'corporation', 'filed', 'fcc', 'id'...      0.000000  0.000000   \n",
              "\n",
              "  TextBlob  \n",
              "0        1  \n",
              "1        1  \n",
              "2        0  \n",
              "3        0  \n",
              "4        0  "
            ],
            "text/html": [
              "\n",
              "  <div id=\"df-b278deea-0eb5-4327-9b46-fa2ab59fb980\">\n",
              "    <div class=\"colab-df-container\">\n",
              "      <div>\n",
              "<style scoped>\n",
              "    .dataframe tbody tr th:only-of-type {\n",
              "        vertical-align: middle;\n",
              "    }\n",
              "\n",
              "    .dataframe tbody tr th {\n",
              "        vertical-align: top;\n",
              "    }\n",
              "\n",
              "    .dataframe thead th {\n",
              "        text-align: right;\n",
              "    }\n",
              "</style>\n",
              "<table border=\"1\" class=\"dataframe\">\n",
              "  <thead>\n",
              "    <tr style=\"text-align: right;\">\n",
              "      <th></th>\n",
              "      <th>Tweets</th>\n",
              "      <th>Subjectivity</th>\n",
              "      <th>Polarity</th>\n",
              "      <th>TextBlob</th>\n",
              "    </tr>\n",
              "  </thead>\n",
              "  <tbody>\n",
              "    <tr>\n",
              "      <th>0</th>\n",
              "      <td>['miniso', 'theyre', 'cute']</td>\n",
              "      <td>1.000000</td>\n",
              "      <td>0.500000</td>\n",
              "      <td>1</td>\n",
              "    </tr>\n",
              "    <tr>\n",
              "      <th>1</th>\n",
              "      <td>['convomfs', 'original', 'source', 'vanilla', ...</td>\n",
              "      <td>0.394444</td>\n",
              "      <td>0.069444</td>\n",
              "      <td>1</td>\n",
              "    </tr>\n",
              "    <tr>\n",
              "      <th>2</th>\n",
              "      <td>['miniso', 'turned', 'gym', 'weights', 'infront']</td>\n",
              "      <td>0.000000</td>\n",
              "      <td>0.000000</td>\n",
              "      <td>0</td>\n",
              "    </tr>\n",
              "    <tr>\n",
              "      <th>3</th>\n",
              "      <td>['olixyt', 'yes', 'shy', 'ask', 'okay', 'appre...</td>\n",
              "      <td>0.500000</td>\n",
              "      <td>0.000000</td>\n",
              "      <td>0</td>\n",
              "    </tr>\n",
              "    <tr>\n",
              "      <th>4</th>\n",
              "      <td>['miniso', 'corporation', 'filed', 'fcc', 'id'...</td>\n",
              "      <td>0.000000</td>\n",
              "      <td>0.000000</td>\n",
              "      <td>0</td>\n",
              "    </tr>\n",
              "  </tbody>\n",
              "</table>\n",
              "</div>\n",
              "      <button class=\"colab-df-convert\" onclick=\"convertToInteractive('df-b278deea-0eb5-4327-9b46-fa2ab59fb980')\"\n",
              "              title=\"Convert this dataframe to an interactive table.\"\n",
              "              style=\"display:none;\">\n",
              "        \n",
              "  <svg xmlns=\"http://www.w3.org/2000/svg\" height=\"24px\"viewBox=\"0 0 24 24\"\n",
              "       width=\"24px\">\n",
              "    <path d=\"M0 0h24v24H0V0z\" fill=\"none\"/>\n",
              "    <path d=\"M18.56 5.44l.94 2.06.94-2.06 2.06-.94-2.06-.94-.94-2.06-.94 2.06-2.06.94zm-11 1L8.5 8.5l.94-2.06 2.06-.94-2.06-.94L8.5 2.5l-.94 2.06-2.06.94zm10 10l.94 2.06.94-2.06 2.06-.94-2.06-.94-.94-2.06-.94 2.06-2.06.94z\"/><path d=\"M17.41 7.96l-1.37-1.37c-.4-.4-.92-.59-1.43-.59-.52 0-1.04.2-1.43.59L10.3 9.45l-7.72 7.72c-.78.78-.78 2.05 0 2.83L4 21.41c.39.39.9.59 1.41.59.51 0 1.02-.2 1.41-.59l7.78-7.78 2.81-2.81c.8-.78.8-2.07 0-2.86zM5.41 20L4 18.59l7.72-7.72 1.47 1.35L5.41 20z\"/>\n",
              "  </svg>\n",
              "      </button>\n",
              "      \n",
              "  <style>\n",
              "    .colab-df-container {\n",
              "      display:flex;\n",
              "      flex-wrap:wrap;\n",
              "      gap: 12px;\n",
              "    }\n",
              "\n",
              "    .colab-df-convert {\n",
              "      background-color: #E8F0FE;\n",
              "      border: none;\n",
              "      border-radius: 50%;\n",
              "      cursor: pointer;\n",
              "      display: none;\n",
              "      fill: #1967D2;\n",
              "      height: 32px;\n",
              "      padding: 0 0 0 0;\n",
              "      width: 32px;\n",
              "    }\n",
              "\n",
              "    .colab-df-convert:hover {\n",
              "      background-color: #E2EBFA;\n",
              "      box-shadow: 0px 1px 2px rgba(60, 64, 67, 0.3), 0px 1px 3px 1px rgba(60, 64, 67, 0.15);\n",
              "      fill: #174EA6;\n",
              "    }\n",
              "\n",
              "    [theme=dark] .colab-df-convert {\n",
              "      background-color: #3B4455;\n",
              "      fill: #D2E3FC;\n",
              "    }\n",
              "\n",
              "    [theme=dark] .colab-df-convert:hover {\n",
              "      background-color: #434B5C;\n",
              "      box-shadow: 0px 1px 3px 1px rgba(0, 0, 0, 0.15);\n",
              "      filter: drop-shadow(0px 1px 2px rgba(0, 0, 0, 0.3));\n",
              "      fill: #FFFFFF;\n",
              "    }\n",
              "  </style>\n",
              "\n",
              "      <script>\n",
              "        const buttonEl =\n",
              "          document.querySelector('#df-b278deea-0eb5-4327-9b46-fa2ab59fb980 button.colab-df-convert');\n",
              "        buttonEl.style.display =\n",
              "          google.colab.kernel.accessAllowed ? 'block' : 'none';\n",
              "\n",
              "        async function convertToInteractive(key) {\n",
              "          const element = document.querySelector('#df-b278deea-0eb5-4327-9b46-fa2ab59fb980');\n",
              "          const dataTable =\n",
              "            await google.colab.kernel.invokeFunction('convertToInteractive',\n",
              "                                                     [key], {});\n",
              "          if (!dataTable) return;\n",
              "\n",
              "          const docLinkHtml = 'Like what you see? Visit the ' +\n",
              "            '<a target=\"_blank\" href=https://colab.research.google.com/notebooks/data_table.ipynb>data table notebook</a>'\n",
              "            + ' to learn more about interactive tables.';\n",
              "          element.innerHTML = '';\n",
              "          dataTable['output_type'] = 'display_data';\n",
              "          await google.colab.output.renderOutput(dataTable, element);\n",
              "          const docLink = document.createElement('div');\n",
              "          docLink.innerHTML = docLinkHtml;\n",
              "          element.appendChild(docLink);\n",
              "        }\n",
              "      </script>\n",
              "    </div>\n",
              "  </div>\n",
              "  "
            ]
          },
          "metadata": {},
          "execution_count": 36
        }
      ]
    },
    {
      "cell_type": "code",
      "source": [
        "tb_counts = final_data.TextBlob.value_counts()\n",
        "tb_counts"
      ],
      "metadata": {
        "colab": {
          "base_uri": "https://localhost:8080/"
        },
        "id": "zWBGrR-A9G1T",
        "outputId": "13e363c7-2052-4c85-ceaf-9e4c8ccc6a11"
      },
      "execution_count": null,
      "outputs": [
        {
          "output_type": "execute_result",
          "data": {
            "text/plain": [
              "0     108\n",
              "1      81\n",
              "-1     11\n",
              "Name: TextBlob, dtype: int64"
            ]
          },
          "metadata": {},
          "execution_count": 37
        }
      ]
    },
    {
      "cell_type": "code",
      "source": [
        "final_data.to_csv('/content/gdrive/My Drive/PDB/Final_Data.csv', index = False)"
      ],
      "metadata": {
        "id": "TWU3AEjdGBLZ"
      },
      "execution_count": null,
      "outputs": []
    },
    {
      "cell_type": "code",
      "source": [
        "# Naive Bayes Classification\n",
        "\n",
        "# Importing the libraries\n",
        "import os\n",
        "import pandas as pd\n",
        "import numpy as np\n",
        "import nltk\n",
        "import matplotlib.pyplot as plt\n",
        "import seaborn as sns\n",
        "from sklearn.feature_extraction.text import CountVectorizer, TfidfVectorizer\n",
        "from sklearn import preprocessing \n",
        "from sklearn.model_selection import train_test_split\n",
        "from sklearn.naive_bayes import MultinomialNB\n",
        "from sklearn import metrics\n",
        "from imblearn.over_sampling import SMOTE\n"
      ],
      "metadata": {
        "id": "0JeP7PVZVH0j"
      },
      "execution_count": null,
      "outputs": []
    },
    {
      "cell_type": "code",
      "source": [
        "# Importing the dataset\n",
        "df = pd.read_csv('/content/gdrive/My Drive/PDB/Final_Data.csv')"
      ],
      "metadata": {
        "id": "bw72ZPCqWCgR"
      },
      "execution_count": null,
      "outputs": []
    },
    {
      "cell_type": "code",
      "source": [
        "#looking at the first 5 values of the dataset\n",
        "df.head()"
      ],
      "metadata": {
        "colab": {
          "base_uri": "https://localhost:8080/",
          "height": 206
        },
        "id": "t9xcIqaqWLaF",
        "outputId": "c90aec3b-eac1-44e8-cbc1-868a1df12ab5"
      },
      "execution_count": null,
      "outputs": [
        {
          "output_type": "execute_result",
          "data": {
            "text/plain": [
              "                                              Tweets  Subjectivity  Polarity  \\\n",
              "0                       ['miniso', 'theyre', 'cute']      1.000000  0.500000   \n",
              "1  ['convomfs', 'original', 'source', 'vanilla', ...      0.394444  0.069444   \n",
              "2  ['miniso', 'turned', 'gym', 'weights', 'infront']      0.000000  0.000000   \n",
              "3  ['olixyt', 'yes', 'shy', 'ask', 'okay', 'appre...      0.500000  0.000000   \n",
              "4  ['miniso', 'corporation', 'filed', 'fcc', 'id'...      0.000000  0.000000   \n",
              "\n",
              "   TextBlob  \n",
              "0         1  \n",
              "1         1  \n",
              "2         0  \n",
              "3         0  \n",
              "4         0  "
            ],
            "text/html": [
              "\n",
              "  <div id=\"df-6f7a4a03-5a65-4677-a8df-01a463aa2b11\">\n",
              "    <div class=\"colab-df-container\">\n",
              "      <div>\n",
              "<style scoped>\n",
              "    .dataframe tbody tr th:only-of-type {\n",
              "        vertical-align: middle;\n",
              "    }\n",
              "\n",
              "    .dataframe tbody tr th {\n",
              "        vertical-align: top;\n",
              "    }\n",
              "\n",
              "    .dataframe thead th {\n",
              "        text-align: right;\n",
              "    }\n",
              "</style>\n",
              "<table border=\"1\" class=\"dataframe\">\n",
              "  <thead>\n",
              "    <tr style=\"text-align: right;\">\n",
              "      <th></th>\n",
              "      <th>Tweets</th>\n",
              "      <th>Subjectivity</th>\n",
              "      <th>Polarity</th>\n",
              "      <th>TextBlob</th>\n",
              "    </tr>\n",
              "  </thead>\n",
              "  <tbody>\n",
              "    <tr>\n",
              "      <th>0</th>\n",
              "      <td>['miniso', 'theyre', 'cute']</td>\n",
              "      <td>1.000000</td>\n",
              "      <td>0.500000</td>\n",
              "      <td>1</td>\n",
              "    </tr>\n",
              "    <tr>\n",
              "      <th>1</th>\n",
              "      <td>['convomfs', 'original', 'source', 'vanilla', ...</td>\n",
              "      <td>0.394444</td>\n",
              "      <td>0.069444</td>\n",
              "      <td>1</td>\n",
              "    </tr>\n",
              "    <tr>\n",
              "      <th>2</th>\n",
              "      <td>['miniso', 'turned', 'gym', 'weights', 'infront']</td>\n",
              "      <td>0.000000</td>\n",
              "      <td>0.000000</td>\n",
              "      <td>0</td>\n",
              "    </tr>\n",
              "    <tr>\n",
              "      <th>3</th>\n",
              "      <td>['olixyt', 'yes', 'shy', 'ask', 'okay', 'appre...</td>\n",
              "      <td>0.500000</td>\n",
              "      <td>0.000000</td>\n",
              "      <td>0</td>\n",
              "    </tr>\n",
              "    <tr>\n",
              "      <th>4</th>\n",
              "      <td>['miniso', 'corporation', 'filed', 'fcc', 'id'...</td>\n",
              "      <td>0.000000</td>\n",
              "      <td>0.000000</td>\n",
              "      <td>0</td>\n",
              "    </tr>\n",
              "  </tbody>\n",
              "</table>\n",
              "</div>\n",
              "      <button class=\"colab-df-convert\" onclick=\"convertToInteractive('df-6f7a4a03-5a65-4677-a8df-01a463aa2b11')\"\n",
              "              title=\"Convert this dataframe to an interactive table.\"\n",
              "              style=\"display:none;\">\n",
              "        \n",
              "  <svg xmlns=\"http://www.w3.org/2000/svg\" height=\"24px\"viewBox=\"0 0 24 24\"\n",
              "       width=\"24px\">\n",
              "    <path d=\"M0 0h24v24H0V0z\" fill=\"none\"/>\n",
              "    <path d=\"M18.56 5.44l.94 2.06.94-2.06 2.06-.94-2.06-.94-.94-2.06-.94 2.06-2.06.94zm-11 1L8.5 8.5l.94-2.06 2.06-.94-2.06-.94L8.5 2.5l-.94 2.06-2.06.94zm10 10l.94 2.06.94-2.06 2.06-.94-2.06-.94-.94-2.06-.94 2.06-2.06.94z\"/><path d=\"M17.41 7.96l-1.37-1.37c-.4-.4-.92-.59-1.43-.59-.52 0-1.04.2-1.43.59L10.3 9.45l-7.72 7.72c-.78.78-.78 2.05 0 2.83L4 21.41c.39.39.9.59 1.41.59.51 0 1.02-.2 1.41-.59l7.78-7.78 2.81-2.81c.8-.78.8-2.07 0-2.86zM5.41 20L4 18.59l7.72-7.72 1.47 1.35L5.41 20z\"/>\n",
              "  </svg>\n",
              "      </button>\n",
              "      \n",
              "  <style>\n",
              "    .colab-df-container {\n",
              "      display:flex;\n",
              "      flex-wrap:wrap;\n",
              "      gap: 12px;\n",
              "    }\n",
              "\n",
              "    .colab-df-convert {\n",
              "      background-color: #E8F0FE;\n",
              "      border: none;\n",
              "      border-radius: 50%;\n",
              "      cursor: pointer;\n",
              "      display: none;\n",
              "      fill: #1967D2;\n",
              "      height: 32px;\n",
              "      padding: 0 0 0 0;\n",
              "      width: 32px;\n",
              "    }\n",
              "\n",
              "    .colab-df-convert:hover {\n",
              "      background-color: #E2EBFA;\n",
              "      box-shadow: 0px 1px 2px rgba(60, 64, 67, 0.3), 0px 1px 3px 1px rgba(60, 64, 67, 0.15);\n",
              "      fill: #174EA6;\n",
              "    }\n",
              "\n",
              "    [theme=dark] .colab-df-convert {\n",
              "      background-color: #3B4455;\n",
              "      fill: #D2E3FC;\n",
              "    }\n",
              "\n",
              "    [theme=dark] .colab-df-convert:hover {\n",
              "      background-color: #434B5C;\n",
              "      box-shadow: 0px 1px 3px 1px rgba(0, 0, 0, 0.15);\n",
              "      filter: drop-shadow(0px 1px 2px rgba(0, 0, 0, 0.3));\n",
              "      fill: #FFFFFF;\n",
              "    }\n",
              "  </style>\n",
              "\n",
              "      <script>\n",
              "        const buttonEl =\n",
              "          document.querySelector('#df-6f7a4a03-5a65-4677-a8df-01a463aa2b11 button.colab-df-convert');\n",
              "        buttonEl.style.display =\n",
              "          google.colab.kernel.accessAllowed ? 'block' : 'none';\n",
              "\n",
              "        async function convertToInteractive(key) {\n",
              "          const element = document.querySelector('#df-6f7a4a03-5a65-4677-a8df-01a463aa2b11');\n",
              "          const dataTable =\n",
              "            await google.colab.kernel.invokeFunction('convertToInteractive',\n",
              "                                                     [key], {});\n",
              "          if (!dataTable) return;\n",
              "\n",
              "          const docLinkHtml = 'Like what you see? Visit the ' +\n",
              "            '<a target=\"_blank\" href=https://colab.research.google.com/notebooks/data_table.ipynb>data table notebook</a>'\n",
              "            + ' to learn more about interactive tables.';\n",
              "          element.innerHTML = '';\n",
              "          dataTable['output_type'] = 'display_data';\n",
              "          await google.colab.output.renderOutput(dataTable, element);\n",
              "          const docLink = document.createElement('div');\n",
              "          docLink.innerHTML = docLinkHtml;\n",
              "          element.appendChild(docLink);\n",
              "        }\n",
              "      </script>\n",
              "    </div>\n",
              "  </div>\n",
              "  "
            ]
          },
          "metadata": {},
          "execution_count": 71
        }
      ]
    },
    {
      "cell_type": "code",
      "source": [
        "df['TextBlob'].value_counts()"
      ],
      "metadata": {
        "colab": {
          "base_uri": "https://localhost:8080/"
        },
        "id": "uos45bMPb_Pq",
        "outputId": "2554d339-e85c-436f-fd6e-e4249b9e7c16"
      },
      "execution_count": null,
      "outputs": [
        {
          "output_type": "execute_result",
          "data": {
            "text/plain": [
              " 0    108\n",
              " 1     81\n",
              "-1     11\n",
              "Name: TextBlob, dtype: int64"
            ]
          },
          "metadata": {},
          "execution_count": 73
        }
      ]
    },
    {
      "cell_type": "code",
      "source": [
        "X = df['Tweets']\n",
        "Y = df['TextBlob']\n",
        "from sklearn.model_selection import train_test_split as tt\n",
        "X_train, X_test, Y_train, Y_test = tt(X, Y,test_size=0.2, random_state=100)"
      ],
      "metadata": {
        "id": "JUKYSiQ6cPg4"
      },
      "execution_count": null,
      "outputs": []
    },
    {
      "cell_type": "code",
      "source": [
        "X_train.shape"
      ],
      "metadata": {
        "colab": {
          "base_uri": "https://localhost:8080/"
        },
        "id": "RkL6Qdoecb3S",
        "outputId": "3257bc33-d19b-4480-edaf-905281efa4c2"
      },
      "execution_count": null,
      "outputs": [
        {
          "output_type": "execute_result",
          "data": {
            "text/plain": [
              "(160,)"
            ]
          },
          "metadata": {},
          "execution_count": 76
        }
      ]
    },
    {
      "cell_type": "code",
      "source": [
        "X_test.shape"
      ],
      "metadata": {
        "colab": {
          "base_uri": "https://localhost:8080/"
        },
        "id": "BnafqQEjcd-B",
        "outputId": "b39d05cb-7524-4c0b-abee-f590e7a7262e"
      },
      "execution_count": null,
      "outputs": [
        {
          "output_type": "execute_result",
          "data": {
            "text/plain": [
              "(40,)"
            ]
          },
          "metadata": {},
          "execution_count": 77
        }
      ]
    },
    {
      "cell_type": "code",
      "source": [
        "from sklearn.feature_extraction.text import CountVectorizer\n",
        "vector = CountVectorizer(stop_words ='english')\n",
        "vector.fit(X_train)"
      ],
      "metadata": {
        "colab": {
          "base_uri": "https://localhost:8080/"
        },
        "id": "JL0y7ATbcm_m",
        "outputId": "80b841d1-1c78-44ad-d05b-bbfb9e96ede5"
      },
      "execution_count": null,
      "outputs": [
        {
          "output_type": "execute_result",
          "data": {
            "text/plain": [
              "CountVectorizer(stop_words='english')"
            ]
          },
          "metadata": {},
          "execution_count": 78
        }
      ]
    },
    {
      "cell_type": "code",
      "source": [
        "vector.vocabulary_"
      ],
      "metadata": {
        "colab": {
          "base_uri": "https://localhost:8080/"
        },
        "id": "5tElxd2acpZm",
        "outputId": "2506f0d3-e0f8-4f49-92a4-07f5222706df"
      },
      "execution_count": null,
      "outputs": [
        {
          "output_type": "execute_result",
          "data": {
            "text/plain": [
              "{'_khunby': 0,\n",
              " 'accepted': 1,\n",
              " 'actu': 2,\n",
              " 'actual': 3,\n",
              " 'adewuyifm': 4,\n",
              " 'ago': 5,\n",
              " 'ahits': 6,\n",
              " 'allabout_atz': 7,\n",
              " 'amazon': 8,\n",
              " 'amazonmallpk': 9,\n",
              " 'amazonoutletmall': 10,\n",
              " 'amber': 11,\n",
              " 'amp': 12,\n",
              " 'anxiety': 13,\n",
              " 'anymore': 14,\n",
              " 'appreciate': 15,\n",
              " 'approval': 16,\n",
              " 'arcade': 17,\n",
              " 'arramiiidee': 18,\n",
              " 'ask': 19,\n",
              " 'askrl': 20,\n",
              " 'ateez': 21,\n",
              " 'attack': 22,\n",
              " 'au': 23,\n",
              " 'available': 24,\n",
              " 'awake': 25,\n",
              " 'backpack': 26,\n",
              " 'bag': 27,\n",
              " 'bags': 28,\n",
              " 'bank': 29,\n",
              " 'bare': 30,\n",
              " 'baridura': 31,\n",
              " 'basic': 32,\n",
              " 'bcs': 33,\n",
              " 'bea': 34,\n",
              " 'bears': 35,\n",
              " 'beautiful': 36,\n",
              " 'berate': 37,\n",
              " 'best': 38,\n",
              " 'better': 39,\n",
              " 'bev': 40,\n",
              " 'bias': 41,\n",
              " 'bisa': 42,\n",
              " 'black': 43,\n",
              " 'blenco': 44,\n",
              " 'bloomrooms': 45,\n",
              " 'body': 46,\n",
              " 'boo': 47,\n",
              " 'bottle': 48,\n",
              " 'bought': 49,\n",
              " 'box': 50,\n",
              " 'boy': 51,\n",
              " 'branches': 52,\n",
              " 'brands': 53,\n",
              " 'breaking': 54,\n",
              " 'bro': 55,\n",
              " 'btppubliceye': 56,\n",
              " 'bulletin': 57,\n",
              " 'bumblebee': 58,\n",
              " 'bump': 59,\n",
              " 'buy': 60,\n",
              " 'carried': 61,\n",
              " 'case': 62,\n",
              " 'cashier': 63,\n",
              " 'center': 64,\n",
              " 'cfc_saada': 65,\n",
              " 'cheap': 66,\n",
              " 'checkout': 67,\n",
              " 'cheolsoo': 68,\n",
              " 'choose': 69,\n",
              " 'cigarjjk': 70,\n",
              " 'closed': 71,\n",
              " 'cmb': 72,\n",
              " 'collection': 73,\n",
              " 'color': 74,\n",
              " 'coloured': 75,\n",
              " 'coming': 76,\n",
              " 'convomfs': 77,\n",
              " 'cool': 78,\n",
              " 'coolboy_joel': 79,\n",
              " 'cooler': 80,\n",
              " 'corgi': 81,\n",
              " 'corporation': 82,\n",
              " 'cosmic': 83,\n",
              " 'couple': 84,\n",
              " 'cowboy': 85,\n",
              " 'crossbody': 86,\n",
              " 'cup': 87,\n",
              " 'cute': 88,\n",
              " 'cutest': 89,\n",
              " 'dang': 90,\n",
              " 'day': 91,\n",
              " 'days': 92,\n",
              " 'dead': 93,\n",
              " 'demand': 94,\n",
              " 'diy': 95,\n",
              " 'dm': 96,\n",
              " 'doesnt': 97,\n",
              " 'donate': 98,\n",
              " 'dont': 99,\n",
              " 'drew': 100,\n",
              " 'earphones': 101,\n",
              " 'easy': 102,\n",
              " 'enter': 103,\n",
              " 'eribong': 104,\n",
              " 'esp': 105,\n",
              " 'especially': 106,\n",
              " 'et': 107,\n",
              " 'european': 108,\n",
              " 'ev': 109,\n",
              " 'exams': 110,\n",
              " 'excited': 111,\n",
              " 'exciting': 112,\n",
              " 'exo': 113,\n",
              " 'exoplanet': 114,\n",
              " 'expensive': 115,\n",
              " 'express': 116,\n",
              " 'eyebrow': 117,\n",
              " 'facts': 118,\n",
              " 'faiqaa_a': 119,\n",
              " 'faith': 120,\n",
              " 'fan': 121,\n",
              " 'fans': 122,\n",
              " 'fav': 123,\n",
              " 'favorite': 124,\n",
              " 'favourite': 125,\n",
              " 'fb': 126,\n",
              " 'fcc': 127,\n",
              " 'feed': 128,\n",
              " 'fighter': 129,\n",
              " 'figure': 130,\n",
              " 'filed': 131,\n",
              " 'flash': 132,\n",
              " 'flashback': 133,\n",
              " 'followminiso': 134,\n",
              " 'fools': 135,\n",
              " 'foot': 136,\n",
              " 'footpath': 137,\n",
              " 'fragrance': 138,\n",
              " 'free': 139,\n",
              " 'fruits': 140,\n",
              " 'ft': 141,\n",
              " 'fuck': 142,\n",
              " 'fucking': 143,\n",
              " 'fun': 144,\n",
              " 'giant': 145,\n",
              " 'gift': 146,\n",
              " 'girl': 147,\n",
              " 'glass': 148,\n",
              " 'gon': 149,\n",
              " 'good': 150,\n",
              " 'gossamergown': 151,\n",
              " 'got': 152,\n",
              " 'gratong': 153,\n",
              " 'group': 154,\n",
              " 'gym': 155,\n",
              " 'halasoortrfps': 156,\n",
              " 'handbag': 157,\n",
              " 'handle': 158,\n",
              " 'handy': 159,\n",
              " 'happy': 160,\n",
              " 'hate': 161,\n",
              " 'head': 162,\n",
              " 'heaven': 163,\n",
              " 'heeduie': 164,\n",
              " 'hello': 165,\n",
              " 'help': 166,\n",
              " 'holiday': 167,\n",
              " 'holy': 168,\n",
              " 'hot': 169,\n",
              " 'hours': 170,\n",
              " 'houston': 171,\n",
              " 'id': 172,\n",
              " 'idc': 173,\n",
              " 'ill': 174,\n",
              " 'im': 175,\n",
              " 'importing': 176,\n",
              " 'inconspicuous': 177,\n",
              " 'indiranagar': 178,\n",
              " 'indyloopz': 179,\n",
              " 'infront': 180,\n",
              " 'ins': 181,\n",
              " 'ipx': 182,\n",
              " 'item': 183,\n",
              " 'ive': 184,\n",
              " 'japaneseinspired': 185,\n",
              " 'kasi': 186,\n",
              " 'kenyas': 187,\n",
              " 'kindly': 188,\n",
              " 'kitty': 189,\n",
              " 'kmjshng': 190,\n",
              " 'know': 191,\n",
              " 'ko': 192,\n",
              " 'kst': 193,\n",
              " 'kyvo_gvr': 194,\n",
              " 'lady': 195,\n",
              " 'lagyan': 196,\n",
              " 'lalisa': 197,\n",
              " 'lama': 198,\n",
              " 'lane': 199,\n",
              " 'lang': 200,\n",
              " 'let': 201,\n",
              " 'lexhaul': 202,\n",
              " 'lfb': 203,\n",
              " 'lifeis': 204,\n",
              " 'lifestyle': 205,\n",
              " 'lightstick': 206,\n",
              " 'like': 207,\n",
              " 'liked': 208,\n",
              " 'link': 209,\n",
              " 'live': 210,\n",
              " 'locate': 211,\n",
              " 'loki': 212,\n",
              " 'loml': 213,\n",
              " 'long': 214,\n",
              " 'look': 215,\n",
              " 'looking': 216,\n",
              " 'lool': 217,\n",
              " 'lost': 218,\n",
              " 'lostikins': 219,\n",
              " 'lotso': 220,\n",
              " 'lotte': 221,\n",
              " 'love': 222,\n",
              " 'loved': 223,\n",
              " 'loves': 224,\n",
              " 'lt': 225,\n",
              " 'make': 226,\n",
              " 'mall': 227,\n",
              " 'markets': 228,\n",
              " 'mart': 229,\n",
              " 'marvel': 230,\n",
              " 'masklotso': 231,\n",
              " 'massively': 232,\n",
              " 'masterpiece': 233,\n",
              " 'meet': 234,\n",
              " 'merchandise': 235,\n",
              " 'mines': 236,\n",
              " 'minion': 237,\n",
              " 'miniso': 238,\n",
              " 'minisoke': 239,\n",
              " 'missing': 240,\n",
              " 'mist': 241,\n",
              " 'ml': 242,\n",
              " 'moments': 243,\n",
              " 'monday': 244,\n",
              " 'month': 245,\n",
              " 'months': 246,\n",
              " 'mr': 247,\n",
              " 'mushroom': 248,\n",
              " 'musk': 249,\n",
              " 'mv': 250,\n",
              " 'myloveatz': 251,\n",
              " 'na': 252,\n",
              " 'nakalimutan': 253,\n",
              " 'naman': 254,\n",
              " 'naples': 255,\n",
              " 'naseem__ahamed': 256,\n",
              " 'natural': 257,\n",
              " 'nb': 258,\n",
              " 'need': 259,\n",
              " 'needlework': 260,\n",
              " 'new': 261,\n",
              " 'news': 262,\n",
              " 'nga': 263,\n",
              " 'ngl': 264,\n",
              " 'night': 265,\n",
              " 'niya': 266,\n",
              " 'noona': 267,\n",
              " 'nuguchae': 268,\n",
              " 'official': 269,\n",
              " 'ohshi': 270,\n",
              " 'okay': 271,\n",
              " 'older': 272,\n",
              " 'olixyt': 273,\n",
              " 'omg': 274,\n",
              " 'ones': 275,\n",
              " 'onhand': 276,\n",
              " 'open': 277,\n",
              " 'order': 278,\n",
              " 'original': 279,\n",
              " 'outlet': 280,\n",
              " 'outside': 281,\n",
              " 'overpriced': 282,\n",
              " 'pabaya': 283,\n",
              " 'pad': 284,\n",
              " 'pakistan': 285,\n",
              " 'panda': 286,\n",
              " 'panpan': 287,\n",
              " 'parfum': 288,\n",
              " 'paris': 289,\n",
              " 'parking': 290,\n",
              " 'parkseonghwa': 291,\n",
              " 'pastel': 292,\n",
              " 'payo': 293,\n",
              " 'pc': 294,\n",
              " 'penguin': 295,\n",
              " 'perfum': 296,\n",
              " 'perfume': 297,\n",
              " 'ph': 298,\n",
              " 'photocard': 299,\n",
              " 'planning': 300,\n",
              " 'pledis_': 301,\n",
              " 'plush': 302,\n",
              " 'plushes': 303,\n",
              " 'plushie': 304,\n",
              " 'plushies': 305,\n",
              " 'pm': 306,\n",
              " 'pokémon': 307,\n",
              " 'pony': 308,\n",
              " 'prep': 309,\n",
              " 'presence': 310,\n",
              " 'pretty': 311,\n",
              " 'preview': 312,\n",
              " 'pringles': 313,\n",
              " 'probably': 314,\n",
              " 'problem': 315,\n",
              " 'random': 316,\n",
              " 'raspberry': 317,\n",
              " 'razors': 318,\n",
              " 'read': 319,\n",
              " 'real': 320,\n",
              " 'red': 321,\n",
              " 'refund': 322,\n",
              " 'restocked': 323,\n",
              " 'retail': 324,\n",
              " 'rfmx': 325,\n",
              " 'riffler': 326,\n",
              " 'right': 327,\n",
              " 'rlly': 328,\n",
              " 'road': 329,\n",
              " 'roblist': 330,\n",
              " 'rs': 331,\n",
              " 'rt': 332,\n",
              " 'ruvshtwt': 333,\n",
              " 'saken': 334,\n",
              " 'sama': 335,\n",
              " 'sanrio': 336,\n",
              " 'santaro': 337,\n",
              " 'saying': 338,\n",
              " 'says': 339,\n",
              " 'scarf': 340,\n",
              " 'scent': 341,\n",
              " 'seeing': 342,\n",
              " 'selection': 343,\n",
              " 'sell': 344,\n",
              " 'seonghwa': 345,\n",
              " 'series': 346,\n",
              " 'set': 347,\n",
              " 'seungkwan': 348,\n",
              " 'seventeen': 349,\n",
              " 'sewing': 350,\n",
              " 'shege': 351,\n",
              " 'shine': 352,\n",
              " 'shipout': 353,\n",
              " 'shipping': 354,\n",
              " 'shit': 355,\n",
              " 'shld': 356,\n",
              " 'shoot': 357,\n",
              " 'shop': 358,\n",
              " 'shops': 359,\n",
              " 'shotaniwonu': 360,\n",
              " 'shoulder': 361,\n",
              " 'shy': 362,\n",
              " 'similar': 363,\n",
              " 'sketch': 364,\n",
              " 'sleep': 365,\n",
              " 'sltsht': 366,\n",
              " 'smth': 367,\n",
              " 'solihull': 368,\n",
              " 'somebody': 369,\n",
              " 'sounding': 370,\n",
              " 'source': 371,\n",
              " 'span': 372,\n",
              " 'speaker': 373,\n",
              " 'spent': 374,\n",
              " 'spray': 375,\n",
              " 'stocks': 376,\n",
              " 'stoniminimoni': 377,\n",
              " 'stopped': 378,\n",
              " 'store': 379,\n",
              " 'story': 380,\n",
              " 'straight': 381,\n",
              " 'strawberry': 382,\n",
              " 'streams': 383,\n",
              " 'strengthens': 384,\n",
              " 'stuff': 385,\n",
              " 'stupid': 386,\n",
              " 'suction': 387,\n",
              " 'sugarsanriio': 388,\n",
              " 'sun': 389,\n",
              " 'super': 390,\n",
              " 'tahan': 391,\n",
              " 'tall': 392,\n",
              " 'tas': 393,\n",
              " 'taught': 394,\n",
              " 'teaser': 395,\n",
              " 'thats': 396,\n",
              " 'theyre': 397,\n",
              " 'theyve': 398,\n",
              " 'think': 399,\n",
              " 'thinkaboutit': 400,\n",
              " 'thinking': 401,\n",
              " 'thread': 402,\n",
              " 'threebarebears': 403,\n",
              " 'thrift': 404,\n",
              " 'time': 405,\n",
              " 'tired': 406,\n",
              " 'today': 407,\n",
              " 'touchwood': 408,\n",
              " 'toy': 409,\n",
              " 'transparent': 410,\n",
              " 'trash': 411,\n",
              " 'trinity': 412,\n",
              " 'trskzip': 413,\n",
              " 'turned': 414,\n",
              " 'tysm': 415,\n",
              " 'ufoboy': 416,\n",
              " 'umbrella': 417,\n",
              " 'unfortunately': 418,\n",
              " 'unit': 419,\n",
              " 'update': 420,\n",
              " 'ur': 421,\n",
              " 'use': 422,\n",
              " 'using': 423,\n",
              " 'vanilla': 424,\n",
              " 'ver': 425,\n",
              " 'visi': 426,\n",
              " 'visit': 427,\n",
              " 'walked': 428,\n",
              " 'wana____': 429,\n",
              " 'wanita': 430,\n",
              " 'want': 431,\n",
              " 'water': 432,\n",
              " 'waterproof': 433,\n",
              " 'wdzy': 434,\n",
              " 'weekend': 435,\n",
              " 'weights': 436,\n",
              " 'welcomes': 437,\n",
              " 'went': 438,\n",
              " 'whats': 439,\n",
              " 'win': 440,\n",
              " 'witnessed': 441,\n",
              " 'wm': 442,\n",
              " 'wo': 443,\n",
              " 'woman': 444,\n",
              " 'wont': 445,\n",
              " 'wooluxe': 446,\n",
              " 'woozi': 447,\n",
              " 'work': 448,\n",
              " 'wtf': 449,\n",
              " 'wts': 450,\n",
              " 'xiumin': 451,\n",
              " 'yall': 452,\n",
              " 'yes': 453,\n",
              " 'yg': 454,\n",
              " 'youre': 455,\n",
              " 'yun': 456,\n",
              " 'yung': 457,\n",
              " 'zwitsal': 458,\n",
              " '박성화': 459,\n",
              " '성화': 460,\n",
              " '세븐틴': 461}"
            ]
          },
          "metadata": {},
          "execution_count": 79
        }
      ]
    },
    {
      "cell_type": "code",
      "source": [
        "vector.get_feature_names()"
      ],
      "metadata": {
        "colab": {
          "base_uri": "https://localhost:8080/"
        },
        "id": "xVf3olNXctYn",
        "outputId": "19175997-6e8b-4f78-e783-4708f0632cc5"
      },
      "execution_count": null,
      "outputs": [
        {
          "output_type": "stream",
          "name": "stderr",
          "text": [
            "/usr/local/lib/python3.7/dist-packages/sklearn/utils/deprecation.py:87: FutureWarning: Function get_feature_names is deprecated; get_feature_names is deprecated in 1.0 and will be removed in 1.2. Please use get_feature_names_out instead.\n",
            "  warnings.warn(msg, category=FutureWarning)\n"
          ]
        },
        {
          "output_type": "execute_result",
          "data": {
            "text/plain": [
              "['_khunby',\n",
              " 'accepted',\n",
              " 'actu',\n",
              " 'actual',\n",
              " 'adewuyifm',\n",
              " 'ago',\n",
              " 'ahits',\n",
              " 'allabout_atz',\n",
              " 'amazon',\n",
              " 'amazonmallpk',\n",
              " 'amazonoutletmall',\n",
              " 'amber',\n",
              " 'amp',\n",
              " 'anxiety',\n",
              " 'anymore',\n",
              " 'appreciate',\n",
              " 'approval',\n",
              " 'arcade',\n",
              " 'arramiiidee',\n",
              " 'ask',\n",
              " 'askrl',\n",
              " 'ateez',\n",
              " 'attack',\n",
              " 'au',\n",
              " 'available',\n",
              " 'awake',\n",
              " 'backpack',\n",
              " 'bag',\n",
              " 'bags',\n",
              " 'bank',\n",
              " 'bare',\n",
              " 'baridura',\n",
              " 'basic',\n",
              " 'bcs',\n",
              " 'bea',\n",
              " 'bears',\n",
              " 'beautiful',\n",
              " 'berate',\n",
              " 'best',\n",
              " 'better',\n",
              " 'bev',\n",
              " 'bias',\n",
              " 'bisa',\n",
              " 'black',\n",
              " 'blenco',\n",
              " 'bloomrooms',\n",
              " 'body',\n",
              " 'boo',\n",
              " 'bottle',\n",
              " 'bought',\n",
              " 'box',\n",
              " 'boy',\n",
              " 'branches',\n",
              " 'brands',\n",
              " 'breaking',\n",
              " 'bro',\n",
              " 'btppubliceye',\n",
              " 'bulletin',\n",
              " 'bumblebee',\n",
              " 'bump',\n",
              " 'buy',\n",
              " 'carried',\n",
              " 'case',\n",
              " 'cashier',\n",
              " 'center',\n",
              " 'cfc_saada',\n",
              " 'cheap',\n",
              " 'checkout',\n",
              " 'cheolsoo',\n",
              " 'choose',\n",
              " 'cigarjjk',\n",
              " 'closed',\n",
              " 'cmb',\n",
              " 'collection',\n",
              " 'color',\n",
              " 'coloured',\n",
              " 'coming',\n",
              " 'convomfs',\n",
              " 'cool',\n",
              " 'coolboy_joel',\n",
              " 'cooler',\n",
              " 'corgi',\n",
              " 'corporation',\n",
              " 'cosmic',\n",
              " 'couple',\n",
              " 'cowboy',\n",
              " 'crossbody',\n",
              " 'cup',\n",
              " 'cute',\n",
              " 'cutest',\n",
              " 'dang',\n",
              " 'day',\n",
              " 'days',\n",
              " 'dead',\n",
              " 'demand',\n",
              " 'diy',\n",
              " 'dm',\n",
              " 'doesnt',\n",
              " 'donate',\n",
              " 'dont',\n",
              " 'drew',\n",
              " 'earphones',\n",
              " 'easy',\n",
              " 'enter',\n",
              " 'eribong',\n",
              " 'esp',\n",
              " 'especially',\n",
              " 'et',\n",
              " 'european',\n",
              " 'ev',\n",
              " 'exams',\n",
              " 'excited',\n",
              " 'exciting',\n",
              " 'exo',\n",
              " 'exoplanet',\n",
              " 'expensive',\n",
              " 'express',\n",
              " 'eyebrow',\n",
              " 'facts',\n",
              " 'faiqaa_a',\n",
              " 'faith',\n",
              " 'fan',\n",
              " 'fans',\n",
              " 'fav',\n",
              " 'favorite',\n",
              " 'favourite',\n",
              " 'fb',\n",
              " 'fcc',\n",
              " 'feed',\n",
              " 'fighter',\n",
              " 'figure',\n",
              " 'filed',\n",
              " 'flash',\n",
              " 'flashback',\n",
              " 'followminiso',\n",
              " 'fools',\n",
              " 'foot',\n",
              " 'footpath',\n",
              " 'fragrance',\n",
              " 'free',\n",
              " 'fruits',\n",
              " 'ft',\n",
              " 'fuck',\n",
              " 'fucking',\n",
              " 'fun',\n",
              " 'giant',\n",
              " 'gift',\n",
              " 'girl',\n",
              " 'glass',\n",
              " 'gon',\n",
              " 'good',\n",
              " 'gossamergown',\n",
              " 'got',\n",
              " 'gratong',\n",
              " 'group',\n",
              " 'gym',\n",
              " 'halasoortrfps',\n",
              " 'handbag',\n",
              " 'handle',\n",
              " 'handy',\n",
              " 'happy',\n",
              " 'hate',\n",
              " 'head',\n",
              " 'heaven',\n",
              " 'heeduie',\n",
              " 'hello',\n",
              " 'help',\n",
              " 'holiday',\n",
              " 'holy',\n",
              " 'hot',\n",
              " 'hours',\n",
              " 'houston',\n",
              " 'id',\n",
              " 'idc',\n",
              " 'ill',\n",
              " 'im',\n",
              " 'importing',\n",
              " 'inconspicuous',\n",
              " 'indiranagar',\n",
              " 'indyloopz',\n",
              " 'infront',\n",
              " 'ins',\n",
              " 'ipx',\n",
              " 'item',\n",
              " 'ive',\n",
              " 'japaneseinspired',\n",
              " 'kasi',\n",
              " 'kenyas',\n",
              " 'kindly',\n",
              " 'kitty',\n",
              " 'kmjshng',\n",
              " 'know',\n",
              " 'ko',\n",
              " 'kst',\n",
              " 'kyvo_gvr',\n",
              " 'lady',\n",
              " 'lagyan',\n",
              " 'lalisa',\n",
              " 'lama',\n",
              " 'lane',\n",
              " 'lang',\n",
              " 'let',\n",
              " 'lexhaul',\n",
              " 'lfb',\n",
              " 'lifeis',\n",
              " 'lifestyle',\n",
              " 'lightstick',\n",
              " 'like',\n",
              " 'liked',\n",
              " 'link',\n",
              " 'live',\n",
              " 'locate',\n",
              " 'loki',\n",
              " 'loml',\n",
              " 'long',\n",
              " 'look',\n",
              " 'looking',\n",
              " 'lool',\n",
              " 'lost',\n",
              " 'lostikins',\n",
              " 'lotso',\n",
              " 'lotte',\n",
              " 'love',\n",
              " 'loved',\n",
              " 'loves',\n",
              " 'lt',\n",
              " 'make',\n",
              " 'mall',\n",
              " 'markets',\n",
              " 'mart',\n",
              " 'marvel',\n",
              " 'masklotso',\n",
              " 'massively',\n",
              " 'masterpiece',\n",
              " 'meet',\n",
              " 'merchandise',\n",
              " 'mines',\n",
              " 'minion',\n",
              " 'miniso',\n",
              " 'minisoke',\n",
              " 'missing',\n",
              " 'mist',\n",
              " 'ml',\n",
              " 'moments',\n",
              " 'monday',\n",
              " 'month',\n",
              " 'months',\n",
              " 'mr',\n",
              " 'mushroom',\n",
              " 'musk',\n",
              " 'mv',\n",
              " 'myloveatz',\n",
              " 'na',\n",
              " 'nakalimutan',\n",
              " 'naman',\n",
              " 'naples',\n",
              " 'naseem__ahamed',\n",
              " 'natural',\n",
              " 'nb',\n",
              " 'need',\n",
              " 'needlework',\n",
              " 'new',\n",
              " 'news',\n",
              " 'nga',\n",
              " 'ngl',\n",
              " 'night',\n",
              " 'niya',\n",
              " 'noona',\n",
              " 'nuguchae',\n",
              " 'official',\n",
              " 'ohshi',\n",
              " 'okay',\n",
              " 'older',\n",
              " 'olixyt',\n",
              " 'omg',\n",
              " 'ones',\n",
              " 'onhand',\n",
              " 'open',\n",
              " 'order',\n",
              " 'original',\n",
              " 'outlet',\n",
              " 'outside',\n",
              " 'overpriced',\n",
              " 'pabaya',\n",
              " 'pad',\n",
              " 'pakistan',\n",
              " 'panda',\n",
              " 'panpan',\n",
              " 'parfum',\n",
              " 'paris',\n",
              " 'parking',\n",
              " 'parkseonghwa',\n",
              " 'pastel',\n",
              " 'payo',\n",
              " 'pc',\n",
              " 'penguin',\n",
              " 'perfum',\n",
              " 'perfume',\n",
              " 'ph',\n",
              " 'photocard',\n",
              " 'planning',\n",
              " 'pledis_',\n",
              " 'plush',\n",
              " 'plushes',\n",
              " 'plushie',\n",
              " 'plushies',\n",
              " 'pm',\n",
              " 'pokémon',\n",
              " 'pony',\n",
              " 'prep',\n",
              " 'presence',\n",
              " 'pretty',\n",
              " 'preview',\n",
              " 'pringles',\n",
              " 'probably',\n",
              " 'problem',\n",
              " 'random',\n",
              " 'raspberry',\n",
              " 'razors',\n",
              " 'read',\n",
              " 'real',\n",
              " 'red',\n",
              " 'refund',\n",
              " 'restocked',\n",
              " 'retail',\n",
              " 'rfmx',\n",
              " 'riffler',\n",
              " 'right',\n",
              " 'rlly',\n",
              " 'road',\n",
              " 'roblist',\n",
              " 'rs',\n",
              " 'rt',\n",
              " 'ruvshtwt',\n",
              " 'saken',\n",
              " 'sama',\n",
              " 'sanrio',\n",
              " 'santaro',\n",
              " 'saying',\n",
              " 'says',\n",
              " 'scarf',\n",
              " 'scent',\n",
              " 'seeing',\n",
              " 'selection',\n",
              " 'sell',\n",
              " 'seonghwa',\n",
              " 'series',\n",
              " 'set',\n",
              " 'seungkwan',\n",
              " 'seventeen',\n",
              " 'sewing',\n",
              " 'shege',\n",
              " 'shine',\n",
              " 'shipout',\n",
              " 'shipping',\n",
              " 'shit',\n",
              " 'shld',\n",
              " 'shoot',\n",
              " 'shop',\n",
              " 'shops',\n",
              " 'shotaniwonu',\n",
              " 'shoulder',\n",
              " 'shy',\n",
              " 'similar',\n",
              " 'sketch',\n",
              " 'sleep',\n",
              " 'sltsht',\n",
              " 'smth',\n",
              " 'solihull',\n",
              " 'somebody',\n",
              " 'sounding',\n",
              " 'source',\n",
              " 'span',\n",
              " 'speaker',\n",
              " 'spent',\n",
              " 'spray',\n",
              " 'stocks',\n",
              " 'stoniminimoni',\n",
              " 'stopped',\n",
              " 'store',\n",
              " 'story',\n",
              " 'straight',\n",
              " 'strawberry',\n",
              " 'streams',\n",
              " 'strengthens',\n",
              " 'stuff',\n",
              " 'stupid',\n",
              " 'suction',\n",
              " 'sugarsanriio',\n",
              " 'sun',\n",
              " 'super',\n",
              " 'tahan',\n",
              " 'tall',\n",
              " 'tas',\n",
              " 'taught',\n",
              " 'teaser',\n",
              " 'thats',\n",
              " 'theyre',\n",
              " 'theyve',\n",
              " 'think',\n",
              " 'thinkaboutit',\n",
              " 'thinking',\n",
              " 'thread',\n",
              " 'threebarebears',\n",
              " 'thrift',\n",
              " 'time',\n",
              " 'tired',\n",
              " 'today',\n",
              " 'touchwood',\n",
              " 'toy',\n",
              " 'transparent',\n",
              " 'trash',\n",
              " 'trinity',\n",
              " 'trskzip',\n",
              " 'turned',\n",
              " 'tysm',\n",
              " 'ufoboy',\n",
              " 'umbrella',\n",
              " 'unfortunately',\n",
              " 'unit',\n",
              " 'update',\n",
              " 'ur',\n",
              " 'use',\n",
              " 'using',\n",
              " 'vanilla',\n",
              " 'ver',\n",
              " 'visi',\n",
              " 'visit',\n",
              " 'walked',\n",
              " 'wana____',\n",
              " 'wanita',\n",
              " 'want',\n",
              " 'water',\n",
              " 'waterproof',\n",
              " 'wdzy',\n",
              " 'weekend',\n",
              " 'weights',\n",
              " 'welcomes',\n",
              " 'went',\n",
              " 'whats',\n",
              " 'win',\n",
              " 'witnessed',\n",
              " 'wm',\n",
              " 'wo',\n",
              " 'woman',\n",
              " 'wont',\n",
              " 'wooluxe',\n",
              " 'woozi',\n",
              " 'work',\n",
              " 'wtf',\n",
              " 'wts',\n",
              " 'xiumin',\n",
              " 'yall',\n",
              " 'yes',\n",
              " 'yg',\n",
              " 'youre',\n",
              " 'yun',\n",
              " 'yung',\n",
              " 'zwitsal',\n",
              " '박성화',\n",
              " '성화',\n",
              " '세븐틴']"
            ]
          },
          "metadata": {},
          "execution_count": 80
        }
      ]
    },
    {
      "cell_type": "code",
      "source": [
        "X_train_transformed =vector.transform(X_train)\n",
        "X_test_transformed =vector.transform(X_test)"
      ],
      "metadata": {
        "id": "7G1Hot9RcxEa"
      },
      "execution_count": null,
      "outputs": []
    },
    {
      "cell_type": "code",
      "source": [
        "from sklearn.naive_bayes import MultinomialNB\n",
        "model = MultinomialNB()\n",
        "model.fit(X_train_transformed,Y_train)\n",
        "y_pred = model.predict(X_test_transformed)\n",
        "y_pred_prob = model.predict_proba(X_test_transformed)"
      ],
      "metadata": {
        "id": "AKH1ISVHc1eP"
      },
      "execution_count": null,
      "outputs": []
    },
    {
      "cell_type": "code",
      "source": [
        "from sklearn.metrics import confusion_matrix,accuracy_score,precision_score,recall_score,f1_score\n",
        "print(confusion_matrix(Y_test,y_pred))\n",
        "print()\n",
        "print(accuracy_score(Y_test,y_pred))"
      ],
      "metadata": {
        "colab": {
          "base_uri": "https://localhost:8080/"
        },
        "id": "nuOPdGSnc3c5",
        "outputId": "023efb43-c43e-40be-d7af-db657731637c"
      },
      "execution_count": null,
      "outputs": [
        {
          "output_type": "stream",
          "name": "stdout",
          "text": [
            "[[ 0  4  1]\n",
            " [ 0 23  1]\n",
            " [ 0  1 10]]\n",
            "\n",
            "0.825\n"
          ]
        }
      ]
    },
    {
      "cell_type": "code",
      "source": [
        "from sklearn.metrics import accuracy_score"
      ],
      "metadata": {
        "id": "aCh6YG8qdoHP"
      },
      "execution_count": null,
      "outputs": []
    },
    {
      "cell_type": "code",
      "source": [
        "from sklearn.metrics import classification_report\n",
        "\n",
        "print(classification_report(Y_test, y_pred))"
      ],
      "metadata": {
        "colab": {
          "base_uri": "https://localhost:8080/"
        },
        "id": "QpE2v66zc5be",
        "outputId": "630ee6cb-62cd-475b-80b4-54a330c36ac4"
      },
      "execution_count": null,
      "outputs": [
        {
          "output_type": "stream",
          "name": "stdout",
          "text": [
            "              precision    recall  f1-score   support\n",
            "\n",
            "          -1       0.00      0.00      0.00         5\n",
            "           0       0.82      0.96      0.88        24\n",
            "           1       0.83      0.91      0.87        11\n",
            "\n",
            "    accuracy                           0.82        40\n",
            "   macro avg       0.55      0.62      0.58        40\n",
            "weighted avg       0.72      0.82      0.77        40\n",
            "\n"
          ]
        },
        {
          "output_type": "stream",
          "name": "stderr",
          "text": [
            "/usr/local/lib/python3.7/dist-packages/sklearn/metrics/_classification.py:1318: UndefinedMetricWarning: Precision and F-score are ill-defined and being set to 0.0 in labels with no predicted samples. Use `zero_division` parameter to control this behavior.\n",
            "  _warn_prf(average, modifier, msg_start, len(result))\n",
            "/usr/local/lib/python3.7/dist-packages/sklearn/metrics/_classification.py:1318: UndefinedMetricWarning: Precision and F-score are ill-defined and being set to 0.0 in labels with no predicted samples. Use `zero_division` parameter to control this behavior.\n",
            "  _warn_prf(average, modifier, msg_start, len(result))\n",
            "/usr/local/lib/python3.7/dist-packages/sklearn/metrics/_classification.py:1318: UndefinedMetricWarning: Precision and F-score are ill-defined and being set to 0.0 in labels with no predicted samples. Use `zero_division` parameter to control this behavior.\n",
            "  _warn_prf(average, modifier, msg_start, len(result))\n"
          ]
        }
      ]
    }
  ],
  "metadata": {
    "kernelspec": {
      "display_name": "Python 3",
      "language": "python",
      "name": "python3"
    },
    "language_info": {
      "codemirror_mode": {
        "name": "ipython",
        "version": 3
      },
      "file_extension": ".py",
      "mimetype": "text/x-python",
      "name": "python",
      "nbconvert_exporter": "python",
      "pygments_lexer": "ipython3",
      "version": "3.7.0"
    },
    "colab": {
      "name": "Twitter_Sentiment_analysis.ipynb",
      "provenance": [],
      "collapsed_sections": []
    }
  },
  "nbformat": 4,
  "nbformat_minor": 0
}