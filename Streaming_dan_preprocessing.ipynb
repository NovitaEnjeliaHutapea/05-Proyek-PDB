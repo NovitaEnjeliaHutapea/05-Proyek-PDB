{
  "cells": [
    {
      "cell_type": "markdown",
      "source": [
        "Streaming data dan data preprocessing Kelompok 5 PDB\n",
        "\n",
        "12S18002 : Wiranda Siahaan\n",
        "\n",
        "12S18009 : Novita Enjelia Hutapea\n",
        "\n",
        "12S18041 : Merika H. Manurung\n",
        "\n",
        "12S18046 : Tiara Octavia Situmorang"
      ],
      "metadata": {
        "id": "0m_V-x4raepf"
      }
    },
    {
      "cell_type": "markdown",
      "metadata": {
        "id": "TnwdpQQpAFOa"
      },
      "source": [
        "# Consume twitter steaming data"
      ]
    },
    {
      "cell_type": "code",
      "source": [
        "from google.colab import drive\n",
        "drive.mount(\"/content/gdrive\")"
      ],
      "metadata": {
        "colab": {
          "base_uri": "https://localhost:8080/"
        },
        "id": "IqKU5opooAC6",
        "outputId": "ae4bdde5-e19d-4b03-871f-cf9d7c444827"
      },
      "execution_count": null,
      "outputs": [
        {
          "output_type": "stream",
          "name": "stdout",
          "text": [
            "Mounted at /content/gdrive\n"
          ]
        }
      ]
    },
    {
      "cell_type": "code",
      "execution_count": null,
      "metadata": {
        "id": "5MpMC5-LAFOb"
      },
      "outputs": [],
      "source": [
        "import tweepy\n",
        "from tweepy import OAuthHandler\n",
        "from tweepy import Stream\n",
        "import socket\n",
        "import json\n",
        "import numpy as np\n",
        "import pandas as pd"
      ]
    },
    {
      "cell_type": "code",
      "execution_count": null,
      "metadata": {
        "id": "_QGBV7tZAFOb"
      },
      "outputs": [],
      "source": [
        "#Kindly put your credentials received from twitter developer account\n",
        "consumer_key='2mTmxHwkZramjVDOewE2dybgQ'\n",
        "consumer_secret='dJ42E93prTAze5BoF4wAIcxYA6gXfu9rGrHr6gguUt85xcHJSi'\n",
        "access_token ='1517128047019040768-YMZCcFIf6VLbZXNkJsa79sZk70xFkM'\n",
        "access_secret='Auwa9WPIktjUCrgQmzceZsdMtMA2hbnebSR7QlmYEdrlq'"
      ]
    },
    {
      "cell_type": "code",
      "execution_count": null,
      "metadata": {
        "id": "rDEboMq1AFOc"
      },
      "outputs": [],
      "source": [
        "auth = tweepy.OAuthHandler(consumer_key, consumer_secret)\n",
        "auth.set_access_token(access_token, access_secret)\n",
        "api = tweepy.API(auth)"
      ]
    },
    {
      "cell_type": "code",
      "execution_count": null,
      "metadata": {
        "colab": {
          "base_uri": "https://localhost:8080/"
        },
        "id": "Q5KeigjBAFOc",
        "outputId": "9bf36ff0-aa63-43a8-e91a-8944e372e062"
      },
      "outputs": [
        {
          "output_type": "stream",
          "name": "stdout",
          "text": [
            "@banjarbase Di dm ada store miniso\n",
            "@banjarbase ada, di miniso\n",
            "someone needs to take me to miniso\n",
            "@ohmybeautybank aku pake miniso\n",
            "@ohmybeautybank duh kalo itu kurang tau tp aku pake penjepit bulu mata miniso dan lumayan lentik di aku\n",
            "@mritzzha itu td ad lewat beli mainan di miniso\n",
            "yg pernah pake earphone miniso ini minta review nya dong https://t.co/jnkTIx7uy8\n",
            "nyesel beli dompet di miniso bener\" ga awet cepet rusaknya , udah 2 kali beli dompet miniso soalnya huhuhuhuhu blm jg 1 thn anjir\n",
            "RT @MarvelThaiFan: #Miniso ลดครึ่งของ Marvel อยู่จ้า https://t.co/lyRTmCvT1Q\n",
            "Casi 3am desperté a mis papás para mañanaa fueran a miniso tempra a comprarme cositas de marvel. Wenaas noches\n",
            "RT @MarvelThaiFan: #Miniso ลดครึ่งของ Marvel อยู่จ้า https://t.co/lyRTmCvT1Q\n",
            "[BB] Review Parfum miniso yang ini dong, yang enak varian apa? Sender mau ngirimin buat temen sender :&gt; TIA https://t.co/j3ScYv7AcC\n",
            "WTS | READY INA\n",
            "\n",
            "Photocard PC Sehun Chanyeol Japan 5th Anniv Miniso Figure AR Selca DFTF \n",
            "\n",
            "💰 on pic\n",
            "\n",
            "🏠 Banten\n",
            "✅ gra… https://t.co/nUjxLWjAHc\n",
            "RT @MarvelThaiFan: #Miniso ลดครึ่งของ Marvel อยู่จ้า https://t.co/lyRTmCvT1Q\n",
            "@RuriUmiUwU Aguas con el que vende Hot dogs por el Miniso xD\n"
          ]
        }
      ],
      "source": [
        "for tweet in api.search(q='miniso', lan='en'):    \n",
        "    print(tweet.text)"
      ]
    },
    {
      "cell_type": "code",
      "execution_count": null,
      "metadata": {
        "id": "kEtE6TH1AFOd"
      },
      "outputs": [],
      "source": [
        "tweetDf = pd.DataFrame(columns = ['User', 'User_statuses_count', \n",
        "                             'user_followers','fav_count','User_location','Tweets',])"
      ]
    },
    {
      "cell_type": "code",
      "execution_count": null,
      "metadata": {
        "id": "yluw1S9eAFOd"
      },
      "outputs": [],
      "source": [
        "def stream(data, file_name):\n",
        "    i = 0\n",
        "    for tweet in tweepy.Cursor(api.search, q=data, count=100000, lang='en').items():\n",
        "        print(i, end='\\r')\n",
        "        tweetDf.loc[i, 'User'] = tweet.user.name\n",
        "        tweetDf.loc[i, 'User_statuses_count'] = tweet.user.statuses_count\n",
        "        tweetDf.loc[i, 'user_followers'] = tweet.user.followers_count\n",
        "        tweetDf.loc[i, 'fav_count'] = tweet.favorite_count\n",
        "        tweetDf.loc[i, 'User_location'] = tweet.user.location\n",
        "        tweetDf.loc[i, 'Tweets'] = tweet.text\n",
        "        \n",
        "        \n",
        "        tweetDf.to_csv('{}.csv'.format(file_name))\n",
        "        i+=1\n",
        "        if i == 200:\n",
        "            break\n",
        "        else:\n",
        "            pass"
      ]
    },
    {
      "cell_type": "code",
      "execution_count": null,
      "metadata": {
        "colab": {
          "base_uri": "https://localhost:8080/"
        },
        "id": "SMUB8DGxAFOe",
        "outputId": "05895826-54e5-4d8b-9531-a11b8fef5d8e"
      },
      "outputs": [
        {
          "output_type": "stream",
          "name": "stdout",
          "text": [
            ""
          ]
        }
      ],
      "source": [
        "stream(data = ['miniso'], file_name = 'miniso_2021')"
      ]
    },
    {
      "cell_type": "code",
      "execution_count": null,
      "metadata": {
        "colab": {
          "base_uri": "https://localhost:8080/",
          "height": 206
        },
        "id": "H4vWvkRuAFOf",
        "outputId": "837656f2-a130-435a-9242-9e94ca0db413"
      },
      "outputs": [
        {
          "output_type": "execute_result",
          "data": {
            "text/plain": [
              "                       User User_statuses_count user_followers fav_count  \\\n",
              "0                      nat🦙                4502             63         0   \n",
              "1                      qya’                1623             35         0   \n",
              "2                  Shreyasi                1253             16         0   \n",
              "3  j 💜 • I TALKED TO YERI 😭               16299           1961         2   \n",
              "4                      Dyv.                2841            167         0   \n",
              "\n",
              "            User_location                                             Tweets  \n",
              "0     she/her | sb to unf                 someone needs to take me to miniso  \n",
              "1  ina  - wts/wtb/wtt acc  WTS | READY INA\\n\\nPhotocard PC Sehun Chanyeol...  \n",
              "2          Kolkata, India  @amazonIN really disappointed about the produc...  \n",
              "3  \"Love u!!! :)\", 220401  WHY DID I JUST FOUND OUT THAT THERE IS A HUMON...  \n",
              "4                                                      @OOTDFESS miniso nder  "
            ],
            "text/html": [
              "\n",
              "  <div id=\"df-0606eb16-79d0-4a07-80f3-028ca6516f30\">\n",
              "    <div class=\"colab-df-container\">\n",
              "      <div>\n",
              "<style scoped>\n",
              "    .dataframe tbody tr th:only-of-type {\n",
              "        vertical-align: middle;\n",
              "    }\n",
              "\n",
              "    .dataframe tbody tr th {\n",
              "        vertical-align: top;\n",
              "    }\n",
              "\n",
              "    .dataframe thead th {\n",
              "        text-align: right;\n",
              "    }\n",
              "</style>\n",
              "<table border=\"1\" class=\"dataframe\">\n",
              "  <thead>\n",
              "    <tr style=\"text-align: right;\">\n",
              "      <th></th>\n",
              "      <th>User</th>\n",
              "      <th>User_statuses_count</th>\n",
              "      <th>user_followers</th>\n",
              "      <th>fav_count</th>\n",
              "      <th>User_location</th>\n",
              "      <th>Tweets</th>\n",
              "    </tr>\n",
              "  </thead>\n",
              "  <tbody>\n",
              "    <tr>\n",
              "      <th>0</th>\n",
              "      <td>nat🦙</td>\n",
              "      <td>4502</td>\n",
              "      <td>63</td>\n",
              "      <td>0</td>\n",
              "      <td>she/her | sb to unf</td>\n",
              "      <td>someone needs to take me to miniso</td>\n",
              "    </tr>\n",
              "    <tr>\n",
              "      <th>1</th>\n",
              "      <td>qya’</td>\n",
              "      <td>1623</td>\n",
              "      <td>35</td>\n",
              "      <td>0</td>\n",
              "      <td>ina  - wts/wtb/wtt acc</td>\n",
              "      <td>WTS | READY INA\\n\\nPhotocard PC Sehun Chanyeol...</td>\n",
              "    </tr>\n",
              "    <tr>\n",
              "      <th>2</th>\n",
              "      <td>Shreyasi</td>\n",
              "      <td>1253</td>\n",
              "      <td>16</td>\n",
              "      <td>0</td>\n",
              "      <td>Kolkata, India</td>\n",
              "      <td>@amazonIN really disappointed about the produc...</td>\n",
              "    </tr>\n",
              "    <tr>\n",
              "      <th>3</th>\n",
              "      <td>j 💜 • I TALKED TO YERI 😭</td>\n",
              "      <td>16299</td>\n",
              "      <td>1961</td>\n",
              "      <td>2</td>\n",
              "      <td>\"Love u!!! :)\", 220401</td>\n",
              "      <td>WHY DID I JUST FOUND OUT THAT THERE IS A HUMON...</td>\n",
              "    </tr>\n",
              "    <tr>\n",
              "      <th>4</th>\n",
              "      <td>Dyv.</td>\n",
              "      <td>2841</td>\n",
              "      <td>167</td>\n",
              "      <td>0</td>\n",
              "      <td></td>\n",
              "      <td>@OOTDFESS miniso nder</td>\n",
              "    </tr>\n",
              "  </tbody>\n",
              "</table>\n",
              "</div>\n",
              "      <button class=\"colab-df-convert\" onclick=\"convertToInteractive('df-0606eb16-79d0-4a07-80f3-028ca6516f30')\"\n",
              "              title=\"Convert this dataframe to an interactive table.\"\n",
              "              style=\"display:none;\">\n",
              "        \n",
              "  <svg xmlns=\"http://www.w3.org/2000/svg\" height=\"24px\"viewBox=\"0 0 24 24\"\n",
              "       width=\"24px\">\n",
              "    <path d=\"M0 0h24v24H0V0z\" fill=\"none\"/>\n",
              "    <path d=\"M18.56 5.44l.94 2.06.94-2.06 2.06-.94-2.06-.94-.94-2.06-.94 2.06-2.06.94zm-11 1L8.5 8.5l.94-2.06 2.06-.94-2.06-.94L8.5 2.5l-.94 2.06-2.06.94zm10 10l.94 2.06.94-2.06 2.06-.94-2.06-.94-.94-2.06-.94 2.06-2.06.94z\"/><path d=\"M17.41 7.96l-1.37-1.37c-.4-.4-.92-.59-1.43-.59-.52 0-1.04.2-1.43.59L10.3 9.45l-7.72 7.72c-.78.78-.78 2.05 0 2.83L4 21.41c.39.39.9.59 1.41.59.51 0 1.02-.2 1.41-.59l7.78-7.78 2.81-2.81c.8-.78.8-2.07 0-2.86zM5.41 20L4 18.59l7.72-7.72 1.47 1.35L5.41 20z\"/>\n",
              "  </svg>\n",
              "      </button>\n",
              "      \n",
              "  <style>\n",
              "    .colab-df-container {\n",
              "      display:flex;\n",
              "      flex-wrap:wrap;\n",
              "      gap: 12px;\n",
              "    }\n",
              "\n",
              "    .colab-df-convert {\n",
              "      background-color: #E8F0FE;\n",
              "      border: none;\n",
              "      border-radius: 50%;\n",
              "      cursor: pointer;\n",
              "      display: none;\n",
              "      fill: #1967D2;\n",
              "      height: 32px;\n",
              "      padding: 0 0 0 0;\n",
              "      width: 32px;\n",
              "    }\n",
              "\n",
              "    .colab-df-convert:hover {\n",
              "      background-color: #E2EBFA;\n",
              "      box-shadow: 0px 1px 2px rgba(60, 64, 67, 0.3), 0px 1px 3px 1px rgba(60, 64, 67, 0.15);\n",
              "      fill: #174EA6;\n",
              "    }\n",
              "\n",
              "    [theme=dark] .colab-df-convert {\n",
              "      background-color: #3B4455;\n",
              "      fill: #D2E3FC;\n",
              "    }\n",
              "\n",
              "    [theme=dark] .colab-df-convert:hover {\n",
              "      background-color: #434B5C;\n",
              "      box-shadow: 0px 1px 3px 1px rgba(0, 0, 0, 0.15);\n",
              "      filter: drop-shadow(0px 1px 2px rgba(0, 0, 0, 0.3));\n",
              "      fill: #FFFFFF;\n",
              "    }\n",
              "  </style>\n",
              "\n",
              "      <script>\n",
              "        const buttonEl =\n",
              "          document.querySelector('#df-0606eb16-79d0-4a07-80f3-028ca6516f30 button.colab-df-convert');\n",
              "        buttonEl.style.display =\n",
              "          google.colab.kernel.accessAllowed ? 'block' : 'none';\n",
              "\n",
              "        async function convertToInteractive(key) {\n",
              "          const element = document.querySelector('#df-0606eb16-79d0-4a07-80f3-028ca6516f30');\n",
              "          const dataTable =\n",
              "            await google.colab.kernel.invokeFunction('convertToInteractive',\n",
              "                                                     [key], {});\n",
              "          if (!dataTable) return;\n",
              "\n",
              "          const docLinkHtml = 'Like what you see? Visit the ' +\n",
              "            '<a target=\"_blank\" href=https://colab.research.google.com/notebooks/data_table.ipynb>data table notebook</a>'\n",
              "            + ' to learn more about interactive tables.';\n",
              "          element.innerHTML = '';\n",
              "          dataTable['output_type'] = 'display_data';\n",
              "          await google.colab.output.renderOutput(dataTable, element);\n",
              "          const docLink = document.createElement('div');\n",
              "          docLink.innerHTML = docLinkHtml;\n",
              "          element.appendChild(docLink);\n",
              "        }\n",
              "      </script>\n",
              "    </div>\n",
              "  </div>\n",
              "  "
            ]
          },
          "metadata": {},
          "execution_count": 9
        }
      ],
      "source": [
        "tweetDf.head()"
      ]
    },
    {
      "cell_type": "markdown",
      "source": [
        "## Data Preprocessing"
      ],
      "metadata": {
        "id": "TJTZJe2ZUtlR"
      }
    },
    {
      "cell_type": "code",
      "source": [
        "# libraries\n",
        "import numpy as np # used for handling numbers\n",
        "import pandas as pd # used for handling the dataset\n",
        "from sklearn.impute import SimpleImputer # used for handling missing data\n",
        "from sklearn.preprocessing import LabelEncoder, OneHotEncoder # used for encoding categorical data\n",
        "from sklearn.model_selection import train_test_split # used for splitting training and testing data\n",
        "from sklearn.preprocessing import StandardScaler # used for feature scaling"
      ],
      "metadata": {
        "id": "o2xV35ZNUyYl"
      },
      "execution_count": null,
      "outputs": []
    },
    {
      "cell_type": "code",
      "source": [
        "dataset = pd.read_csv('miniso_2021.csv') # to import the dataset into a variable\n",
        "# Splitting the attributes into independent and dependent attributes\n",
        "X = dataset.iloc[:, :-1].values # attributes to determine dependent variable / Class\n",
        "Y = dataset.iloc[:, -1].values # dependent variable / Class"
      ],
      "metadata": {
        "id": "leyrFBwoVMwE"
      },
      "execution_count": null,
      "outputs": []
    },
    {
      "cell_type": "code",
      "source": [
        "dataset.head()"
      ],
      "metadata": {
        "colab": {
          "base_uri": "https://localhost:8080/",
          "height": 206
        },
        "id": "rilWqXeeWFIl",
        "outputId": "8af4c551-3eeb-4cfa-d13c-d632f928cb86"
      },
      "execution_count": null,
      "outputs": [
        {
          "output_type": "execute_result",
          "data": {
            "text/plain": [
              "   Unnamed: 0                      User  User_statuses_count  user_followers  \\\n",
              "0           0                      nat🦙                 4502              63   \n",
              "1           1                      qya’                 1623              35   \n",
              "2           2                  Shreyasi                 1253              16   \n",
              "3           3  j 💜 • I TALKED TO YERI 😭                16299            1961   \n",
              "4           4                      Dyv.                 2841             167   \n",
              "\n",
              "   fav_count           User_location  \\\n",
              "0          0     she/her | sb to unf   \n",
              "1          0  ina  - wts/wtb/wtt acc   \n",
              "2          0          Kolkata, India   \n",
              "3          2  \"Love u!!! :)\", 220401   \n",
              "4          0                     NaN   \n",
              "\n",
              "                                              Tweets  \n",
              "0                 someone needs to take me to miniso  \n",
              "1  WTS | READY INA\\n\\nPhotocard PC Sehun Chanyeol...  \n",
              "2  @amazonIN really disappointed about the produc...  \n",
              "3  WHY DID I JUST FOUND OUT THAT THERE IS A HUMON...  \n",
              "4                              @OOTDFESS miniso nder  "
            ],
            "text/html": [
              "\n",
              "  <div id=\"df-11a4bdb3-51f1-428c-87de-23fc6cd3c4f7\">\n",
              "    <div class=\"colab-df-container\">\n",
              "      <div>\n",
              "<style scoped>\n",
              "    .dataframe tbody tr th:only-of-type {\n",
              "        vertical-align: middle;\n",
              "    }\n",
              "\n",
              "    .dataframe tbody tr th {\n",
              "        vertical-align: top;\n",
              "    }\n",
              "\n",
              "    .dataframe thead th {\n",
              "        text-align: right;\n",
              "    }\n",
              "</style>\n",
              "<table border=\"1\" class=\"dataframe\">\n",
              "  <thead>\n",
              "    <tr style=\"text-align: right;\">\n",
              "      <th></th>\n",
              "      <th>Unnamed: 0</th>\n",
              "      <th>User</th>\n",
              "      <th>User_statuses_count</th>\n",
              "      <th>user_followers</th>\n",
              "      <th>fav_count</th>\n",
              "      <th>User_location</th>\n",
              "      <th>Tweets</th>\n",
              "    </tr>\n",
              "  </thead>\n",
              "  <tbody>\n",
              "    <tr>\n",
              "      <th>0</th>\n",
              "      <td>0</td>\n",
              "      <td>nat🦙</td>\n",
              "      <td>4502</td>\n",
              "      <td>63</td>\n",
              "      <td>0</td>\n",
              "      <td>she/her | sb to unf</td>\n",
              "      <td>someone needs to take me to miniso</td>\n",
              "    </tr>\n",
              "    <tr>\n",
              "      <th>1</th>\n",
              "      <td>1</td>\n",
              "      <td>qya’</td>\n",
              "      <td>1623</td>\n",
              "      <td>35</td>\n",
              "      <td>0</td>\n",
              "      <td>ina  - wts/wtb/wtt acc</td>\n",
              "      <td>WTS | READY INA\\n\\nPhotocard PC Sehun Chanyeol...</td>\n",
              "    </tr>\n",
              "    <tr>\n",
              "      <th>2</th>\n",
              "      <td>2</td>\n",
              "      <td>Shreyasi</td>\n",
              "      <td>1253</td>\n",
              "      <td>16</td>\n",
              "      <td>0</td>\n",
              "      <td>Kolkata, India</td>\n",
              "      <td>@amazonIN really disappointed about the produc...</td>\n",
              "    </tr>\n",
              "    <tr>\n",
              "      <th>3</th>\n",
              "      <td>3</td>\n",
              "      <td>j 💜 • I TALKED TO YERI 😭</td>\n",
              "      <td>16299</td>\n",
              "      <td>1961</td>\n",
              "      <td>2</td>\n",
              "      <td>\"Love u!!! :)\", 220401</td>\n",
              "      <td>WHY DID I JUST FOUND OUT THAT THERE IS A HUMON...</td>\n",
              "    </tr>\n",
              "    <tr>\n",
              "      <th>4</th>\n",
              "      <td>4</td>\n",
              "      <td>Dyv.</td>\n",
              "      <td>2841</td>\n",
              "      <td>167</td>\n",
              "      <td>0</td>\n",
              "      <td>NaN</td>\n",
              "      <td>@OOTDFESS miniso nder</td>\n",
              "    </tr>\n",
              "  </tbody>\n",
              "</table>\n",
              "</div>\n",
              "      <button class=\"colab-df-convert\" onclick=\"convertToInteractive('df-11a4bdb3-51f1-428c-87de-23fc6cd3c4f7')\"\n",
              "              title=\"Convert this dataframe to an interactive table.\"\n",
              "              style=\"display:none;\">\n",
              "        \n",
              "  <svg xmlns=\"http://www.w3.org/2000/svg\" height=\"24px\"viewBox=\"0 0 24 24\"\n",
              "       width=\"24px\">\n",
              "    <path d=\"M0 0h24v24H0V0z\" fill=\"none\"/>\n",
              "    <path d=\"M18.56 5.44l.94 2.06.94-2.06 2.06-.94-2.06-.94-.94-2.06-.94 2.06-2.06.94zm-11 1L8.5 8.5l.94-2.06 2.06-.94-2.06-.94L8.5 2.5l-.94 2.06-2.06.94zm10 10l.94 2.06.94-2.06 2.06-.94-2.06-.94-.94-2.06-.94 2.06-2.06.94z\"/><path d=\"M17.41 7.96l-1.37-1.37c-.4-.4-.92-.59-1.43-.59-.52 0-1.04.2-1.43.59L10.3 9.45l-7.72 7.72c-.78.78-.78 2.05 0 2.83L4 21.41c.39.39.9.59 1.41.59.51 0 1.02-.2 1.41-.59l7.78-7.78 2.81-2.81c.8-.78.8-2.07 0-2.86zM5.41 20L4 18.59l7.72-7.72 1.47 1.35L5.41 20z\"/>\n",
              "  </svg>\n",
              "      </button>\n",
              "      \n",
              "  <style>\n",
              "    .colab-df-container {\n",
              "      display:flex;\n",
              "      flex-wrap:wrap;\n",
              "      gap: 12px;\n",
              "    }\n",
              "\n",
              "    .colab-df-convert {\n",
              "      background-color: #E8F0FE;\n",
              "      border: none;\n",
              "      border-radius: 50%;\n",
              "      cursor: pointer;\n",
              "      display: none;\n",
              "      fill: #1967D2;\n",
              "      height: 32px;\n",
              "      padding: 0 0 0 0;\n",
              "      width: 32px;\n",
              "    }\n",
              "\n",
              "    .colab-df-convert:hover {\n",
              "      background-color: #E2EBFA;\n",
              "      box-shadow: 0px 1px 2px rgba(60, 64, 67, 0.3), 0px 1px 3px 1px rgba(60, 64, 67, 0.15);\n",
              "      fill: #174EA6;\n",
              "    }\n",
              "\n",
              "    [theme=dark] .colab-df-convert {\n",
              "      background-color: #3B4455;\n",
              "      fill: #D2E3FC;\n",
              "    }\n",
              "\n",
              "    [theme=dark] .colab-df-convert:hover {\n",
              "      background-color: #434B5C;\n",
              "      box-shadow: 0px 1px 3px 1px rgba(0, 0, 0, 0.15);\n",
              "      filter: drop-shadow(0px 1px 2px rgba(0, 0, 0, 0.3));\n",
              "      fill: #FFFFFF;\n",
              "    }\n",
              "  </style>\n",
              "\n",
              "      <script>\n",
              "        const buttonEl =\n",
              "          document.querySelector('#df-11a4bdb3-51f1-428c-87de-23fc6cd3c4f7 button.colab-df-convert');\n",
              "        buttonEl.style.display =\n",
              "          google.colab.kernel.accessAllowed ? 'block' : 'none';\n",
              "\n",
              "        async function convertToInteractive(key) {\n",
              "          const element = document.querySelector('#df-11a4bdb3-51f1-428c-87de-23fc6cd3c4f7');\n",
              "          const dataTable =\n",
              "            await google.colab.kernel.invokeFunction('convertToInteractive',\n",
              "                                                     [key], {});\n",
              "          if (!dataTable) return;\n",
              "\n",
              "          const docLinkHtml = 'Like what you see? Visit the ' +\n",
              "            '<a target=\"_blank\" href=https://colab.research.google.com/notebooks/data_table.ipynb>data table notebook</a>'\n",
              "            + ' to learn more about interactive tables.';\n",
              "          element.innerHTML = '';\n",
              "          dataTable['output_type'] = 'display_data';\n",
              "          await google.colab.output.renderOutput(dataTable, element);\n",
              "          const docLink = document.createElement('div');\n",
              "          docLink.innerHTML = docLinkHtml;\n",
              "          element.appendChild(docLink);\n",
              "        }\n",
              "      </script>\n",
              "    </div>\n",
              "  </div>\n",
              "  "
            ]
          },
          "metadata": {},
          "execution_count": 12
        }
      ]
    },
    {
      "cell_type": "code",
      "source": [
        "print(dataset.shape)"
      ],
      "metadata": {
        "colab": {
          "base_uri": "https://localhost:8080/"
        },
        "id": "T60V2ARnWbNN",
        "outputId": "b9c5a615-c53e-493d-c140-3ba68e0d9745"
      },
      "execution_count": null,
      "outputs": [
        {
          "output_type": "stream",
          "name": "stdout",
          "text": [
            "(200, 7)\n"
          ]
        }
      ]
    },
    {
      "cell_type": "markdown",
      "source": [
        "### drop coloumn"
      ],
      "metadata": {
        "id": "nBlYDo-3Ac5d"
      }
    },
    {
      "cell_type": "code",
      "source": [
        "to_drop = ['Unnamed: 0', 'User', 'User_statuses_count', 'user_followers', 'fav_count', 'User_location']"
      ],
      "metadata": {
        "id": "D5LnAjzsA2ma"
      },
      "execution_count": null,
      "outputs": []
    },
    {
      "cell_type": "code",
      "source": [
        "dataset.drop(to_drop, inplace=True, axis = 1)"
      ],
      "metadata": {
        "id": "GqrejV-pBb3M"
      },
      "execution_count": null,
      "outputs": []
    },
    {
      "cell_type": "code",
      "source": [
        "dataset.head()"
      ],
      "metadata": {
        "colab": {
          "base_uri": "https://localhost:8080/",
          "height": 206
        },
        "id": "_Hqq49RCDCOt",
        "outputId": "a205e631-6155-427c-cbcd-47d959394de2"
      },
      "execution_count": null,
      "outputs": [
        {
          "output_type": "execute_result",
          "data": {
            "text/plain": [
              "                                              Tweets\n",
              "0                 someone needs to take me to miniso\n",
              "1  WTS | READY INA\\n\\nPhotocard PC Sehun Chanyeol...\n",
              "2  @amazonIN really disappointed about the produc...\n",
              "3  WHY DID I JUST FOUND OUT THAT THERE IS A HUMON...\n",
              "4                              @OOTDFESS miniso nder"
            ],
            "text/html": [
              "\n",
              "  <div id=\"df-196d47d1-ea1c-4bc9-a7dc-a2d432ce793d\">\n",
              "    <div class=\"colab-df-container\">\n",
              "      <div>\n",
              "<style scoped>\n",
              "    .dataframe tbody tr th:only-of-type {\n",
              "        vertical-align: middle;\n",
              "    }\n",
              "\n",
              "    .dataframe tbody tr th {\n",
              "        vertical-align: top;\n",
              "    }\n",
              "\n",
              "    .dataframe thead th {\n",
              "        text-align: right;\n",
              "    }\n",
              "</style>\n",
              "<table border=\"1\" class=\"dataframe\">\n",
              "  <thead>\n",
              "    <tr style=\"text-align: right;\">\n",
              "      <th></th>\n",
              "      <th>Tweets</th>\n",
              "    </tr>\n",
              "  </thead>\n",
              "  <tbody>\n",
              "    <tr>\n",
              "      <th>0</th>\n",
              "      <td>someone needs to take me to miniso</td>\n",
              "    </tr>\n",
              "    <tr>\n",
              "      <th>1</th>\n",
              "      <td>WTS | READY INA\\n\\nPhotocard PC Sehun Chanyeol...</td>\n",
              "    </tr>\n",
              "    <tr>\n",
              "      <th>2</th>\n",
              "      <td>@amazonIN really disappointed about the produc...</td>\n",
              "    </tr>\n",
              "    <tr>\n",
              "      <th>3</th>\n",
              "      <td>WHY DID I JUST FOUND OUT THAT THERE IS A HUMON...</td>\n",
              "    </tr>\n",
              "    <tr>\n",
              "      <th>4</th>\n",
              "      <td>@OOTDFESS miniso nder</td>\n",
              "    </tr>\n",
              "  </tbody>\n",
              "</table>\n",
              "</div>\n",
              "      <button class=\"colab-df-convert\" onclick=\"convertToInteractive('df-196d47d1-ea1c-4bc9-a7dc-a2d432ce793d')\"\n",
              "              title=\"Convert this dataframe to an interactive table.\"\n",
              "              style=\"display:none;\">\n",
              "        \n",
              "  <svg xmlns=\"http://www.w3.org/2000/svg\" height=\"24px\"viewBox=\"0 0 24 24\"\n",
              "       width=\"24px\">\n",
              "    <path d=\"M0 0h24v24H0V0z\" fill=\"none\"/>\n",
              "    <path d=\"M18.56 5.44l.94 2.06.94-2.06 2.06-.94-2.06-.94-.94-2.06-.94 2.06-2.06.94zm-11 1L8.5 8.5l.94-2.06 2.06-.94-2.06-.94L8.5 2.5l-.94 2.06-2.06.94zm10 10l.94 2.06.94-2.06 2.06-.94-2.06-.94-.94-2.06-.94 2.06-2.06.94z\"/><path d=\"M17.41 7.96l-1.37-1.37c-.4-.4-.92-.59-1.43-.59-.52 0-1.04.2-1.43.59L10.3 9.45l-7.72 7.72c-.78.78-.78 2.05 0 2.83L4 21.41c.39.39.9.59 1.41.59.51 0 1.02-.2 1.41-.59l7.78-7.78 2.81-2.81c.8-.78.8-2.07 0-2.86zM5.41 20L4 18.59l7.72-7.72 1.47 1.35L5.41 20z\"/>\n",
              "  </svg>\n",
              "      </button>\n",
              "      \n",
              "  <style>\n",
              "    .colab-df-container {\n",
              "      display:flex;\n",
              "      flex-wrap:wrap;\n",
              "      gap: 12px;\n",
              "    }\n",
              "\n",
              "    .colab-df-convert {\n",
              "      background-color: #E8F0FE;\n",
              "      border: none;\n",
              "      border-radius: 50%;\n",
              "      cursor: pointer;\n",
              "      display: none;\n",
              "      fill: #1967D2;\n",
              "      height: 32px;\n",
              "      padding: 0 0 0 0;\n",
              "      width: 32px;\n",
              "    }\n",
              "\n",
              "    .colab-df-convert:hover {\n",
              "      background-color: #E2EBFA;\n",
              "      box-shadow: 0px 1px 2px rgba(60, 64, 67, 0.3), 0px 1px 3px 1px rgba(60, 64, 67, 0.15);\n",
              "      fill: #174EA6;\n",
              "    }\n",
              "\n",
              "    [theme=dark] .colab-df-convert {\n",
              "      background-color: #3B4455;\n",
              "      fill: #D2E3FC;\n",
              "    }\n",
              "\n",
              "    [theme=dark] .colab-df-convert:hover {\n",
              "      background-color: #434B5C;\n",
              "      box-shadow: 0px 1px 3px 1px rgba(0, 0, 0, 0.15);\n",
              "      filter: drop-shadow(0px 1px 2px rgba(0, 0, 0, 0.3));\n",
              "      fill: #FFFFFF;\n",
              "    }\n",
              "  </style>\n",
              "\n",
              "      <script>\n",
              "        const buttonEl =\n",
              "          document.querySelector('#df-196d47d1-ea1c-4bc9-a7dc-a2d432ce793d button.colab-df-convert');\n",
              "        buttonEl.style.display =\n",
              "          google.colab.kernel.accessAllowed ? 'block' : 'none';\n",
              "\n",
              "        async function convertToInteractive(key) {\n",
              "          const element = document.querySelector('#df-196d47d1-ea1c-4bc9-a7dc-a2d432ce793d');\n",
              "          const dataTable =\n",
              "            await google.colab.kernel.invokeFunction('convertToInteractive',\n",
              "                                                     [key], {});\n",
              "          if (!dataTable) return;\n",
              "\n",
              "          const docLinkHtml = 'Like what you see? Visit the ' +\n",
              "            '<a target=\"_blank\" href=https://colab.research.google.com/notebooks/data_table.ipynb>data table notebook</a>'\n",
              "            + ' to learn more about interactive tables.';\n",
              "          element.innerHTML = '';\n",
              "          dataTable['output_type'] = 'display_data';\n",
              "          await google.colab.output.renderOutput(dataTable, element);\n",
              "          const docLink = document.createElement('div');\n",
              "          docLink.innerHTML = docLinkHtml;\n",
              "          element.appendChild(docLink);\n",
              "        }\n",
              "      </script>\n",
              "    </div>\n",
              "  </div>\n",
              "  "
            ]
          },
          "metadata": {},
          "execution_count": 16
        }
      ]
    },
    {
      "cell_type": "code",
      "source": [
        "print(dataset.shape)"
      ],
      "metadata": {
        "colab": {
          "base_uri": "https://localhost:8080/"
        },
        "id": "fiwGDUyaDHtM",
        "outputId": "7347936b-d051-4f4b-fdd3-ae8fb7f60cc0"
      },
      "execution_count": null,
      "outputs": [
        {
          "output_type": "stream",
          "name": "stdout",
          "text": [
            "(200, 1)\n"
          ]
        }
      ]
    },
    {
      "cell_type": "markdown",
      "source": [
        "### missing value"
      ],
      "metadata": {
        "id": "4-FuysHqWskN"
      }
    },
    {
      "cell_type": "code",
      "source": [
        "# handling the missing data and replace missing values with nan from numpy and replace with mean of all the other values\n",
        "dataset1 = dataset.dropna()\n",
        "print(dataset1.shape)"
      ],
      "metadata": {
        "colab": {
          "base_uri": "https://localhost:8080/"
        },
        "id": "IoS8hn7NVsVe",
        "outputId": "9928dfa1-310c-4108-9eff-004a6c650e23"
      },
      "execution_count": null,
      "outputs": [
        {
          "output_type": "stream",
          "name": "stdout",
          "text": [
            "(200, 1)\n"
          ]
        }
      ]
    },
    {
      "cell_type": "markdown",
      "source": [
        "# Text Preprocessing\n",
        "\n"
      ],
      "metadata": {
        "id": "rzBP-rihXFbx"
      }
    },
    {
      "cell_type": "code",
      "source": [
        "import re, string, unicodedata\n",
        "import json\n",
        "import nltk\n",
        "import json\n",
        "import time\n",
        "import itertools  \n",
        "import numpy as np\n",
        "import pandas as pd\n",
        "import tensorflow as tf\n",
        "import tensorflow_hub as hub\n",
        "import matplotlib.pyplot as plt\n",
        "from nltk.corpus import stopwords\n",
        "from nltk.stem import WordNetLemmatizer\n",
        "from nltk.tokenize import word_tokenize\n",
        "from wordcloud import WordCloud, STOPWORDS\n",
        "import tensorflow.keras.preprocessing.text as kpt\n",
        "from sklearn.model_selection import train_test_split\n",
        "from tensorflow.keras.preprocessing.text import Tokenizer"
      ],
      "metadata": {
        "id": "46PrMmn-dnBB"
      },
      "execution_count": null,
      "outputs": []
    },
    {
      "cell_type": "markdown",
      "source": [
        "## Case folding"
      ],
      "metadata": {
        "id": "h7gCMmn4c1pH"
      }
    },
    {
      "cell_type": "code",
      "source": [
        "# Change text column to lower lower case\n",
        "dataset1['Tweets'] = dataset1['Tweets'].str.lower()\n",
        "\n",
        "# Look at the change\n",
        "print(dataset1)"
      ],
      "metadata": {
        "colab": {
          "base_uri": "https://localhost:8080/"
        },
        "id": "0WChobRddHlv",
        "outputId": "79271ebd-d53f-4373-8c26-291dc27e877c"
      },
      "execution_count": null,
      "outputs": [
        {
          "output_type": "stream",
          "name": "stdout",
          "text": [
            "                                                Tweets\n",
            "0                   someone needs to take me to miniso\n",
            "1    wts | ready ina\\n\\nphotocard pc sehun chanyeol...\n",
            "2    @amazonin really disappointed about the produc...\n",
            "3    why did i just found out that there is a humon...\n",
            "4                                @ootdfess miniso nder\n",
            "..                                                 ...\n",
            "195  rt @kyvo_gvr: wts | lfb [help rt] \\n\\n𓂋 baekhy...\n",
            "196  @ulunne_ @abujaplug @abujastreets @iamjohnkelv...\n",
            "197                               let's go to miniso ?\n",
            "198  rt @kyvo_gvr: wts | lfb [help rt] \\n\\n𓂋 baekhy...\n",
            "199  @thedrsly @abujaplug @abujastreets @iamjohnkel...\n",
            "\n",
            "[200 rows x 1 columns]\n"
          ]
        }
      ]
    }
  ],
  "metadata": {
    "kernelspec": {
      "display_name": "Python 3",
      "language": "python",
      "name": "python3"
    },
    "language_info": {
      "codemirror_mode": {
        "name": "ipython",
        "version": 3
      },
      "file_extension": ".py",
      "mimetype": "text/x-python",
      "name": "python",
      "nbconvert_exporter": "python",
      "pygments_lexer": "ipython3",
      "version": "3.7.0"
    },
    "colab": {
      "name": "Copy of Streaming dan preprocessing.ipynb",
      "provenance": [],
      "collapsed_sections": []
    }
  },
  "nbformat": 4,
  "nbformat_minor": 0
}